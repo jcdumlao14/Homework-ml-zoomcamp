{
  "nbformat": 4,
  "nbformat_minor": 0,
  "metadata": {
    "colab": {
      "provenance": [],
      "collapsed_sections": [],
      "authorship_tag": "ABX9TyMU4bu5KJOIpWXq+5SHIs7o",
      "include_colab_link": true
    },
    "kernelspec": {
      "name": "python3",
      "display_name": "Python 3"
    },
    "language_info": {
      "name": "python"
    }
  },
  "cells": [
    {
      "cell_type": "markdown",
      "metadata": {
        "id": "view-in-github",
        "colab_type": "text"
      },
      "source": [
        "<a href=\"https://colab.research.google.com/github/jcdumlao14/Homework-ml-zoomcamp/blob/main/02_Homework_Housing__Price_Prediction_2022.ipynb\" target=\"_parent\"><img src=\"https://colab.research.google.com/assets/colab-badge.svg\" alt=\"Open In Colab\"/></a>"
      ]
    },
    {
      "cell_type": "markdown",
      "source": [
        "# **Machine Learning - Linear Regression**\n",
        "\n",
        "### Housing Prices Prediction"
      ],
      "metadata": {
        "id": "hNado3SesG7U"
      }
    },
    {
      "cell_type": "markdown",
      "source": [
        "Dataset\n",
        "In this homework, we will use the California Housing Prices from Kaggle.\n",
        "\n",
        "Here's a wget-able link:"
      ],
      "metadata": {
        "id": "U1BME3l3siY9"
      }
    },
    {
      "cell_type": "code",
      "execution_count": null,
      "metadata": {
        "id": "gU6unRLrrdS3"
      },
      "outputs": [],
      "source": [
        "#!wget https://raw.githubusercontent.com/alexeygrigorev/datasets/master/housing.csv"
      ]
    },
    {
      "cell_type": "markdown",
      "source": [
        "The goal of this homework is to create a regression model for predicting housing prices (column 'median_house_value').\n",
        "\n"
      ],
      "metadata": {
        "id": "0U89n79AssCN"
      }
    },
    {
      "cell_type": "markdown",
      "source": [
        "# **Setup**"
      ],
      "metadata": {
        "id": "Q79seQZ2zbH9"
      }
    },
    {
      "cell_type": "code",
      "source": [
        "#@ Importing Libraries and Dependencies:  \n",
        "import numpy as np\n",
        "import pandas as pd\n",
        "import seaborn as sns\n",
        "import matplotlib.pyplot as plt\n",
        "from sklearn.linear_model import LinearRegression\n",
        "\n",
        "plt.rcParams['figure.figsize'] = (16,8)\n",
        "plt.style.use('fivethirtyeight')\n",
        "\n",
        "import warnings\n",
        "warnings.filterwarnings(\"ignore\")\n"
      ],
      "metadata": {
        "id": "7Xho4KDIs-Ki"
      },
      "execution_count": 20,
      "outputs": []
    },
    {
      "cell_type": "markdown",
      "source": [
        "# **Exploratory Data Analysis**\n",
        "\n",
        "* Load the data.\n",
        "\n"
      ],
      "metadata": {
        "id": "8jeHLpGws5PZ"
      }
    },
    {
      "cell_type": "code",
      "source": [
        "!wget https://raw.githubusercontent.com/alexeygrigorev/datasets/master/housing.csv"
      ],
      "metadata": {
        "colab": {
          "base_uri": "https://localhost:8080/"
        },
        "id": "VjwnkG8xzBdP",
        "outputId": "e6492671-3bbe-44a0-d8eb-43ad8b9bdc75"
      },
      "execution_count": 2,
      "outputs": [
        {
          "output_type": "stream",
          "name": "stdout",
          "text": [
            "--2022-09-26 10:59:11--  https://raw.githubusercontent.com/alexeygrigorev/datasets/master/housing.csv\n",
            "Resolving raw.githubusercontent.com (raw.githubusercontent.com)... 185.199.108.133, 185.199.109.133, 185.199.110.133, ...\n",
            "Connecting to raw.githubusercontent.com (raw.githubusercontent.com)|185.199.108.133|:443... connected.\n",
            "HTTP request sent, awaiting response... 200 OK\n",
            "Length: 1423529 (1.4M) [text/plain]\n",
            "Saving to: ‘housing.csv’\n",
            "\n",
            "\rhousing.csv           0%[                    ]       0  --.-KB/s               \rhousing.csv         100%[===================>]   1.36M  --.-KB/s    in 0.009s  \n",
            "\n",
            "2022-09-26 10:59:11 (159 MB/s) - ‘housing.csv’ saved [1423529/1423529]\n",
            "\n"
          ]
        }
      ]
    },
    {
      "cell_type": "code",
      "source": [
        "df = pd.read_csv('housing.csv')\n",
        "len(df)"
      ],
      "metadata": {
        "colab": {
          "base_uri": "https://localhost:8080/"
        },
        "id": "oEDP6Difw9v2",
        "outputId": "f8e2c78c-3c46-476a-cf28-b6ddff618e83"
      },
      "execution_count": 3,
      "outputs": [
        {
          "output_type": "execute_result",
          "data": {
            "text/plain": [
              "20640"
            ]
          },
          "metadata": {},
          "execution_count": 3
        }
      ]
    },
    {
      "cell_type": "code",
      "source": [
        "print(df.shape)"
      ],
      "metadata": {
        "colab": {
          "base_uri": "https://localhost:8080/"
        },
        "id": "ii_L0OnKzrmi",
        "outputId": "f2d2381b-2f67-43df-f7ed-9782f0349b0f"
      },
      "execution_count": 4,
      "outputs": [
        {
          "output_type": "stream",
          "name": "stdout",
          "text": [
            "(20640, 10)\n"
          ]
        }
      ]
    },
    {
      "cell_type": "code",
      "source": [
        "df.head(10)"
      ],
      "metadata": {
        "colab": {
          "base_uri": "https://localhost:8080/",
          "height": 427
        },
        "id": "FiMTDeNO0lp8",
        "outputId": "83b59d98-5118-433f-ff90-dc756601a857"
      },
      "execution_count": 5,
      "outputs": [
        {
          "output_type": "execute_result",
          "data": {
            "text/plain": [
              "   longitude  latitude  housing_median_age  total_rooms  total_bedrooms  \\\n",
              "0    -122.23     37.88                41.0        880.0           129.0   \n",
              "1    -122.22     37.86                21.0       7099.0          1106.0   \n",
              "2    -122.24     37.85                52.0       1467.0           190.0   \n",
              "3    -122.25     37.85                52.0       1274.0           235.0   \n",
              "4    -122.25     37.85                52.0       1627.0           280.0   \n",
              "5    -122.25     37.85                52.0        919.0           213.0   \n",
              "6    -122.25     37.84                52.0       2535.0           489.0   \n",
              "7    -122.25     37.84                52.0       3104.0           687.0   \n",
              "8    -122.26     37.84                42.0       2555.0           665.0   \n",
              "9    -122.25     37.84                52.0       3549.0           707.0   \n",
              "\n",
              "   population  households  median_income  median_house_value ocean_proximity  \n",
              "0       322.0       126.0         8.3252            452600.0        NEAR BAY  \n",
              "1      2401.0      1138.0         8.3014            358500.0        NEAR BAY  \n",
              "2       496.0       177.0         7.2574            352100.0        NEAR BAY  \n",
              "3       558.0       219.0         5.6431            341300.0        NEAR BAY  \n",
              "4       565.0       259.0         3.8462            342200.0        NEAR BAY  \n",
              "5       413.0       193.0         4.0368            269700.0        NEAR BAY  \n",
              "6      1094.0       514.0         3.6591            299200.0        NEAR BAY  \n",
              "7      1157.0       647.0         3.1200            241400.0        NEAR BAY  \n",
              "8      1206.0       595.0         2.0804            226700.0        NEAR BAY  \n",
              "9      1551.0       714.0         3.6912            261100.0        NEAR BAY  "
            ],
            "text/html": [
              "\n",
              "  <div id=\"df-8aabce7f-8188-4716-be55-3a947fca1dd1\">\n",
              "    <div class=\"colab-df-container\">\n",
              "      <div>\n",
              "<style scoped>\n",
              "    .dataframe tbody tr th:only-of-type {\n",
              "        vertical-align: middle;\n",
              "    }\n",
              "\n",
              "    .dataframe tbody tr th {\n",
              "        vertical-align: top;\n",
              "    }\n",
              "\n",
              "    .dataframe thead th {\n",
              "        text-align: right;\n",
              "    }\n",
              "</style>\n",
              "<table border=\"1\" class=\"dataframe\">\n",
              "  <thead>\n",
              "    <tr style=\"text-align: right;\">\n",
              "      <th></th>\n",
              "      <th>longitude</th>\n",
              "      <th>latitude</th>\n",
              "      <th>housing_median_age</th>\n",
              "      <th>total_rooms</th>\n",
              "      <th>total_bedrooms</th>\n",
              "      <th>population</th>\n",
              "      <th>households</th>\n",
              "      <th>median_income</th>\n",
              "      <th>median_house_value</th>\n",
              "      <th>ocean_proximity</th>\n",
              "    </tr>\n",
              "  </thead>\n",
              "  <tbody>\n",
              "    <tr>\n",
              "      <th>0</th>\n",
              "      <td>-122.23</td>\n",
              "      <td>37.88</td>\n",
              "      <td>41.0</td>\n",
              "      <td>880.0</td>\n",
              "      <td>129.0</td>\n",
              "      <td>322.0</td>\n",
              "      <td>126.0</td>\n",
              "      <td>8.3252</td>\n",
              "      <td>452600.0</td>\n",
              "      <td>NEAR BAY</td>\n",
              "    </tr>\n",
              "    <tr>\n",
              "      <th>1</th>\n",
              "      <td>-122.22</td>\n",
              "      <td>37.86</td>\n",
              "      <td>21.0</td>\n",
              "      <td>7099.0</td>\n",
              "      <td>1106.0</td>\n",
              "      <td>2401.0</td>\n",
              "      <td>1138.0</td>\n",
              "      <td>8.3014</td>\n",
              "      <td>358500.0</td>\n",
              "      <td>NEAR BAY</td>\n",
              "    </tr>\n",
              "    <tr>\n",
              "      <th>2</th>\n",
              "      <td>-122.24</td>\n",
              "      <td>37.85</td>\n",
              "      <td>52.0</td>\n",
              "      <td>1467.0</td>\n",
              "      <td>190.0</td>\n",
              "      <td>496.0</td>\n",
              "      <td>177.0</td>\n",
              "      <td>7.2574</td>\n",
              "      <td>352100.0</td>\n",
              "      <td>NEAR BAY</td>\n",
              "    </tr>\n",
              "    <tr>\n",
              "      <th>3</th>\n",
              "      <td>-122.25</td>\n",
              "      <td>37.85</td>\n",
              "      <td>52.0</td>\n",
              "      <td>1274.0</td>\n",
              "      <td>235.0</td>\n",
              "      <td>558.0</td>\n",
              "      <td>219.0</td>\n",
              "      <td>5.6431</td>\n",
              "      <td>341300.0</td>\n",
              "      <td>NEAR BAY</td>\n",
              "    </tr>\n",
              "    <tr>\n",
              "      <th>4</th>\n",
              "      <td>-122.25</td>\n",
              "      <td>37.85</td>\n",
              "      <td>52.0</td>\n",
              "      <td>1627.0</td>\n",
              "      <td>280.0</td>\n",
              "      <td>565.0</td>\n",
              "      <td>259.0</td>\n",
              "      <td>3.8462</td>\n",
              "      <td>342200.0</td>\n",
              "      <td>NEAR BAY</td>\n",
              "    </tr>\n",
              "    <tr>\n",
              "      <th>5</th>\n",
              "      <td>-122.25</td>\n",
              "      <td>37.85</td>\n",
              "      <td>52.0</td>\n",
              "      <td>919.0</td>\n",
              "      <td>213.0</td>\n",
              "      <td>413.0</td>\n",
              "      <td>193.0</td>\n",
              "      <td>4.0368</td>\n",
              "      <td>269700.0</td>\n",
              "      <td>NEAR BAY</td>\n",
              "    </tr>\n",
              "    <tr>\n",
              "      <th>6</th>\n",
              "      <td>-122.25</td>\n",
              "      <td>37.84</td>\n",
              "      <td>52.0</td>\n",
              "      <td>2535.0</td>\n",
              "      <td>489.0</td>\n",
              "      <td>1094.0</td>\n",
              "      <td>514.0</td>\n",
              "      <td>3.6591</td>\n",
              "      <td>299200.0</td>\n",
              "      <td>NEAR BAY</td>\n",
              "    </tr>\n",
              "    <tr>\n",
              "      <th>7</th>\n",
              "      <td>-122.25</td>\n",
              "      <td>37.84</td>\n",
              "      <td>52.0</td>\n",
              "      <td>3104.0</td>\n",
              "      <td>687.0</td>\n",
              "      <td>1157.0</td>\n",
              "      <td>647.0</td>\n",
              "      <td>3.1200</td>\n",
              "      <td>241400.0</td>\n",
              "      <td>NEAR BAY</td>\n",
              "    </tr>\n",
              "    <tr>\n",
              "      <th>8</th>\n",
              "      <td>-122.26</td>\n",
              "      <td>37.84</td>\n",
              "      <td>42.0</td>\n",
              "      <td>2555.0</td>\n",
              "      <td>665.0</td>\n",
              "      <td>1206.0</td>\n",
              "      <td>595.0</td>\n",
              "      <td>2.0804</td>\n",
              "      <td>226700.0</td>\n",
              "      <td>NEAR BAY</td>\n",
              "    </tr>\n",
              "    <tr>\n",
              "      <th>9</th>\n",
              "      <td>-122.25</td>\n",
              "      <td>37.84</td>\n",
              "      <td>52.0</td>\n",
              "      <td>3549.0</td>\n",
              "      <td>707.0</td>\n",
              "      <td>1551.0</td>\n",
              "      <td>714.0</td>\n",
              "      <td>3.6912</td>\n",
              "      <td>261100.0</td>\n",
              "      <td>NEAR BAY</td>\n",
              "    </tr>\n",
              "  </tbody>\n",
              "</table>\n",
              "</div>\n",
              "      <button class=\"colab-df-convert\" onclick=\"convertToInteractive('df-8aabce7f-8188-4716-be55-3a947fca1dd1')\"\n",
              "              title=\"Convert this dataframe to an interactive table.\"\n",
              "              style=\"display:none;\">\n",
              "        \n",
              "  <svg xmlns=\"http://www.w3.org/2000/svg\" height=\"24px\"viewBox=\"0 0 24 24\"\n",
              "       width=\"24px\">\n",
              "    <path d=\"M0 0h24v24H0V0z\" fill=\"none\"/>\n",
              "    <path d=\"M18.56 5.44l.94 2.06.94-2.06 2.06-.94-2.06-.94-.94-2.06-.94 2.06-2.06.94zm-11 1L8.5 8.5l.94-2.06 2.06-.94-2.06-.94L8.5 2.5l-.94 2.06-2.06.94zm10 10l.94 2.06.94-2.06 2.06-.94-2.06-.94-.94-2.06-.94 2.06-2.06.94z\"/><path d=\"M17.41 7.96l-1.37-1.37c-.4-.4-.92-.59-1.43-.59-.52 0-1.04.2-1.43.59L10.3 9.45l-7.72 7.72c-.78.78-.78 2.05 0 2.83L4 21.41c.39.39.9.59 1.41.59.51 0 1.02-.2 1.41-.59l7.78-7.78 2.81-2.81c.8-.78.8-2.07 0-2.86zM5.41 20L4 18.59l7.72-7.72 1.47 1.35L5.41 20z\"/>\n",
              "  </svg>\n",
              "      </button>\n",
              "      \n",
              "  <style>\n",
              "    .colab-df-container {\n",
              "      display:flex;\n",
              "      flex-wrap:wrap;\n",
              "      gap: 12px;\n",
              "    }\n",
              "\n",
              "    .colab-df-convert {\n",
              "      background-color: #E8F0FE;\n",
              "      border: none;\n",
              "      border-radius: 50%;\n",
              "      cursor: pointer;\n",
              "      display: none;\n",
              "      fill: #1967D2;\n",
              "      height: 32px;\n",
              "      padding: 0 0 0 0;\n",
              "      width: 32px;\n",
              "    }\n",
              "\n",
              "    .colab-df-convert:hover {\n",
              "      background-color: #E2EBFA;\n",
              "      box-shadow: 0px 1px 2px rgba(60, 64, 67, 0.3), 0px 1px 3px 1px rgba(60, 64, 67, 0.15);\n",
              "      fill: #174EA6;\n",
              "    }\n",
              "\n",
              "    [theme=dark] .colab-df-convert {\n",
              "      background-color: #3B4455;\n",
              "      fill: #D2E3FC;\n",
              "    }\n",
              "\n",
              "    [theme=dark] .colab-df-convert:hover {\n",
              "      background-color: #434B5C;\n",
              "      box-shadow: 0px 1px 3px 1px rgba(0, 0, 0, 0.15);\n",
              "      filter: drop-shadow(0px 1px 2px rgba(0, 0, 0, 0.3));\n",
              "      fill: #FFFFFF;\n",
              "    }\n",
              "  </style>\n",
              "\n",
              "      <script>\n",
              "        const buttonEl =\n",
              "          document.querySelector('#df-8aabce7f-8188-4716-be55-3a947fca1dd1 button.colab-df-convert');\n",
              "        buttonEl.style.display =\n",
              "          google.colab.kernel.accessAllowed ? 'block' : 'none';\n",
              "\n",
              "        async function convertToInteractive(key) {\n",
              "          const element = document.querySelector('#df-8aabce7f-8188-4716-be55-3a947fca1dd1');\n",
              "          const dataTable =\n",
              "            await google.colab.kernel.invokeFunction('convertToInteractive',\n",
              "                                                     [key], {});\n",
              "          if (!dataTable) return;\n",
              "\n",
              "          const docLinkHtml = 'Like what you see? Visit the ' +\n",
              "            '<a target=\"_blank\" href=https://colab.research.google.com/notebooks/data_table.ipynb>data table notebook</a>'\n",
              "            + ' to learn more about interactive tables.';\n",
              "          element.innerHTML = '';\n",
              "          dataTable['output_type'] = 'display_data';\n",
              "          await google.colab.output.renderOutput(dataTable, element);\n",
              "          const docLink = document.createElement('div');\n",
              "          docLink.innerHTML = docLinkHtml;\n",
              "          element.appendChild(docLink);\n",
              "        }\n",
              "      </script>\n",
              "    </div>\n",
              "  </div>\n",
              "  "
            ]
          },
          "metadata": {},
          "execution_count": 5
        }
      ]
    },
    {
      "cell_type": "code",
      "source": [
        "df.info()"
      ],
      "metadata": {
        "colab": {
          "base_uri": "https://localhost:8080/"
        },
        "id": "eRrkL2qb0zMM",
        "outputId": "e8a0dddd-c414-4d70-a0ac-22b0d9c34ca2"
      },
      "execution_count": 6,
      "outputs": [
        {
          "output_type": "stream",
          "name": "stdout",
          "text": [
            "<class 'pandas.core.frame.DataFrame'>\n",
            "RangeIndex: 20640 entries, 0 to 20639\n",
            "Data columns (total 10 columns):\n",
            " #   Column              Non-Null Count  Dtype  \n",
            "---  ------              --------------  -----  \n",
            " 0   longitude           20640 non-null  float64\n",
            " 1   latitude            20640 non-null  float64\n",
            " 2   housing_median_age  20640 non-null  float64\n",
            " 3   total_rooms         20640 non-null  float64\n",
            " 4   total_bedrooms      20433 non-null  float64\n",
            " 5   population          20640 non-null  float64\n",
            " 6   households          20640 non-null  float64\n",
            " 7   median_income       20640 non-null  float64\n",
            " 8   median_house_value  20640 non-null  float64\n",
            " 9   ocean_proximity     20640 non-null  object \n",
            "dtypes: float64(9), object(1)\n",
            "memory usage: 1.6+ MB\n"
          ]
        }
      ]
    },
    {
      "cell_type": "code",
      "source": [
        "\"\"\"\n",
        "Look at the median_house_value variable. Does it have a long tail? \n",
        "\"\"\"\n",
        "\n",
        "fig,axes = plt.subplots(1,2)\n",
        "axes[0].hist(df['median_house_value'], density = True, bins = 50)\n",
        "axes[0].set_title('Normal Scale Value')\n",
        "\n",
        "axes[1].hist(np.log1p(df['median_house_value']), density = True, bins = 50)\n",
        "axes[1].set_title('Logarithmic Scale Value');"
      ],
      "metadata": {
        "colab": {
          "base_uri": "https://localhost:8080/",
          "height": 536
        },
        "id": "DLtKwZhI6k9v",
        "outputId": "0013660c-534f-430a-f433-190c97d052ec"
      },
      "execution_count": 7,
      "outputs": [
        {
          "output_type": "display_data",
          "data": {
            "text/plain": [
              "<Figure size 1152x576 with 2 Axes>"
            ],
            "image/png": "[encoded data removed]"
          },
          "metadata": {}
        }
      ]
    },
    {
      "cell_type": "markdown",
      "source": [
        "Features\n",
        "\n",
        "For the rest of the homework, you'll need to use only these columns:\n",
        "\n",
        "* 'latitude',\n",
        "* 'longitude',\n",
        "* 'housing_median_age',\n",
        "* 'total_rooms',\n",
        "* 'total_bedrooms',\n",
        "* 'population',\n",
        "* 'households',\n",
        "* 'median_income',\n",
        "* 'median_house_value'\n",
        "\n",
        "Select only them."
      ],
      "metadata": {
        "id": "IaiXLVJwtMuS"
      }
    },
    {
      "cell_type": "code",
      "source": [
        "usecols = ['latitude','longitude','housing_median_age','total_rooms','total_bedrooms','population','households','median_income','median_house_value']\n"
      ],
      "metadata": {
        "id": "sYL4QE5SsyR_"
      },
      "execution_count": 8,
      "outputs": []
    },
    {
      "cell_type": "code",
      "source": [
        "df = pd.read_csv('housing.csv',usecols=usecols)"
      ],
      "metadata": {
        "id": "HH2gboWe5Wo9"
      },
      "execution_count": 9,
      "outputs": []
    },
    {
      "cell_type": "code",
      "source": [
        "\"\"\" Print some of the statistics of each column \"\"\"\n",
        "\n",
        "for col in df.columns:\n",
        "    print(col)\n",
        "    print(df[col].unique()[:5])\n",
        "    print(df[col].nunique())\n",
        "    print()"
      ],
      "metadata": {
        "colab": {
          "base_uri": "https://localhost:8080/"
        },
        "id": "mXmOu--bBNTn",
        "outputId": "645489f4-938d-4395-d94b-0e818fd7041c"
      },
      "execution_count": 10,
      "outputs": [
        {
          "output_type": "stream",
          "name": "stdout",
          "text": [
            "longitude\n",
            "[-122.23 -122.22 -122.24 -122.25 -122.26]\n",
            "844\n",
            "\n",
            "latitude\n",
            "[37.88 37.86 37.85 37.84 37.83]\n",
            "862\n",
            "\n",
            "housing_median_age\n",
            "[41. 21. 52. 42. 50.]\n",
            "52\n",
            "\n",
            "total_rooms\n",
            "[ 880. 7099. 1467. 1274. 1627.]\n",
            "5926\n",
            "\n",
            "total_bedrooms\n",
            "[ 129. 1106.  190.  235.  280.]\n",
            "1923\n",
            "\n",
            "population\n",
            "[ 322. 2401.  496.  558.  565.]\n",
            "3888\n",
            "\n",
            "households\n",
            "[ 126. 1138.  177.  219.  259.]\n",
            "1815\n",
            "\n",
            "median_income\n",
            "[8.3252 8.3014 7.2574 5.6431 3.8462]\n",
            "12928\n",
            "\n",
            "median_house_value\n",
            "[452600. 358500. 352100. 341300. 342200.]\n",
            "3842\n",
            "\n"
          ]
        }
      ]
    },
    {
      "cell_type": "markdown",
      "source": [
        "# **Question 1**\n",
        "\n",
        "Find a feature with missing values. How many missing values does it have?\n",
        "\n",
        "* 207\n",
        "* 307\n",
        "* 408\n",
        "* 508\n"
      ],
      "metadata": {
        "id": "Ytw0sRgYtdMT"
      }
    },
    {
      "cell_type": "code",
      "source": [
        "missing_vals = df.isnull().sum()\n",
        "missing_vals.to_frame().reset_index().rename({'index':'Variables', 0: 'Missing Values'}, axis =1).sort_values(by = 'Missing Values', ascending = False).head(2).style.background_gradient('Blues')"
      ],
      "metadata": {
        "colab": {
          "base_uri": "https://localhost:8080/",
          "height": 112
        },
        "id": "-0P4JtdsCmQT",
        "outputId": "b2a21045-ae26-4ac9-c031-de4b545a81e4"
      },
      "execution_count": 12,
      "outputs": [
        {
          "output_type": "execute_result",
          "data": {
            "text/plain": [
              "<pandas.io.formats.style.Styler at 0x7f85175f2d50>"
            ],
            "text/html": [
              "<style type=\"text/css\">\n",
              "#T_0726e_row0_col1 {\n",
              "  background-color: #08306b;\n",
              "  color: #f1f1f1;\n",
              "}\n",
              "#T_0726e_row1_col1 {\n",
              "  background-color: #f7fbff;\n",
              "  color: #000000;\n",
              "}\n",
              "</style>\n",
              "<table id=\"T_0726e_\" class=\"dataframe\">\n",
              "  <thead>\n",
              "    <tr>\n",
              "      <th class=\"blank level0\" >&nbsp;</th>\n",
              "      <th class=\"col_heading level0 col0\" >Variables</th>\n",
              "      <th class=\"col_heading level0 col1\" >Missing Values</th>\n",
              "    </tr>\n",
              "  </thead>\n",
              "  <tbody>\n",
              "    <tr>\n",
              "      <th id=\"T_0726e_level0_row0\" class=\"row_heading level0 row0\" >4</th>\n",
              "      <td id=\"T_0726e_row0_col0\" class=\"data row0 col0\" >total_bedrooms</td>\n",
              "      <td id=\"T_0726e_row0_col1\" class=\"data row0 col1\" >207</td>\n",
              "    </tr>\n",
              "    <tr>\n",
              "      <th id=\"T_0726e_level0_row1\" class=\"row_heading level0 row1\" >0</th>\n",
              "      <td id=\"T_0726e_row1_col0\" class=\"data row1 col0\" >longitude</td>\n",
              "      <td id=\"T_0726e_row1_col1\" class=\"data row1 col1\" >0</td>\n",
              "    </tr>\n",
              "  </tbody>\n",
              "</table>\n"
            ]
          },
          "metadata": {},
          "execution_count": 12
        }
      ]
    },
    {
      "cell_type": "markdown",
      "source": [
        "### **Answer:  207**"
      ],
      "metadata": {
        "id": "_9KNWaj28STk"
      }
    },
    {
      "cell_type": "markdown",
      "source": [
        "Null value checker"
      ],
      "metadata": {
        "id": "nSFuIVwO9GH2"
      }
    },
    {
      "cell_type": "code",
      "source": [
        "incomplete = df.isna().mean()*100\n",
        "print(incomplete[incomplete > 0])"
      ],
      "metadata": {
        "colab": {
          "base_uri": "https://localhost:8080/"
        },
        "id": "lZXwM9Sk8_IM",
        "outputId": "220203db-4f08-4d42-cb89-8c6b8b9d4129"
      },
      "execution_count": 13,
      "outputs": [
        {
          "output_type": "stream",
          "name": "stdout",
          "text": [
            "total_bedrooms    1.002907\n",
            "dtype: float64\n"
          ]
        }
      ]
    },
    {
      "cell_type": "code",
      "source": [
        "# Inspecting null values\n",
        "df.isna().any()"
      ],
      "metadata": {
        "colab": {
          "base_uri": "https://localhost:8080/"
        },
        "id": "dAPgcGfv-33r",
        "outputId": "305c8ce7-4064-4bca-fd3e-004761fe6dba"
      },
      "execution_count": 14,
      "outputs": [
        {
          "output_type": "execute_result",
          "data": {
            "text/plain": [
              "longitude             False\n",
              "latitude              False\n",
              "housing_median_age    False\n",
              "total_rooms           False\n",
              "total_bedrooms         True\n",
              "population            False\n",
              "households            False\n",
              "median_income         False\n",
              "median_house_value    False\n",
              "dtype: bool"
            ]
          },
          "metadata": {},
          "execution_count": 14
        }
      ]
    },
    {
      "cell_type": "markdown",
      "source": [
        "## **Duplicates:**"
      ],
      "metadata": {
        "id": "jf4tSI51_Dk8"
      }
    },
    {
      "cell_type": "code",
      "source": [
        "df.duplicated().value_counts()"
      ],
      "metadata": {
        "colab": {
          "base_uri": "https://localhost:8080/"
        },
        "id": "ln6EJHjd_HDT",
        "outputId": "fb79ee35-565e-4738-b860-687f8d3f5432"
      },
      "execution_count": 15,
      "outputs": [
        {
          "output_type": "execute_result",
          "data": {
            "text/plain": [
              "False    20640\n",
              "dtype: int64"
            ]
          },
          "metadata": {},
          "execution_count": 15
        }
      ]
    },
    {
      "cell_type": "markdown",
      "source": [
        "# **Question 2**\n",
        "\n",
        "What's the median (50% percentile) for variable 'population'?\n",
        "\n",
        "* 1133\n",
        "* 1122\n",
        "* 1166\n",
        "* 1188\n"
      ],
      "metadata": {
        "id": "qnAILfv_tnV7"
      }
    },
    {
      "cell_type": "markdown",
      "source": [
        "## **DESCRIPTIVE ANALYSIS:**"
      ],
      "metadata": {
        "id": "G3b6qxfld7sF"
      }
    },
    {
      "cell_type": "code",
      "source": [
        "# Initialize Descriptive Analysis: \n",
        "df.describe(percentiles=[.0, .25, .5, .75, .9, .95, .99, .1]).T"
      ],
      "metadata": {
        "id": "6KNrXHNqeFZz",
        "outputId": "7b1331c8-c246-46f7-b3f6-6f3afba14cee",
        "colab": {
          "base_uri": "https://localhost:8080/",
          "height": 396
        }
      },
      "execution_count": 16,
      "outputs": [
        {
          "output_type": "execute_result",
          "data": {
            "text/plain": [
              "                      count           mean            std         min  \\\n",
              "longitude           20640.0    -119.569704       2.003532   -124.3500   \n",
              "latitude            20640.0      35.631861       2.135952     32.5400   \n",
              "housing_median_age  20640.0      28.639486      12.585558      1.0000   \n",
              "total_rooms         20640.0    2635.763081    2181.615252      2.0000   \n",
              "total_bedrooms      20433.0     537.870553     421.385070      1.0000   \n",
              "population          20640.0    1425.476744    1132.462122      3.0000   \n",
              "households          20640.0     499.539680     382.329753      1.0000   \n",
              "median_income       20640.0       3.870671       1.899822      0.4999   \n",
              "median_house_value  20640.0  206855.816909  115395.615874  14999.0000   \n",
              "\n",
              "                            0%         10%          25%          50%  \\\n",
              "longitude            -124.3500   -122.2900    -121.8000    -118.4900   \n",
              "latitude               32.5400     33.6300      33.9300      34.2600   \n",
              "housing_median_age      1.0000     13.0000      18.0000      29.0000   \n",
              "total_rooms             2.0000    941.0000    1447.7500    2127.0000   \n",
              "total_bedrooms          1.0000    198.0000     296.0000     435.0000   \n",
              "population              3.0000    510.0000     787.0000    1166.0000   \n",
              "households              1.0000    184.0000     280.0000     409.0000   \n",
              "median_income           0.4999      1.9038       2.5634       3.5348   \n",
              "median_house_value  14999.0000  82300.0000  119600.0000  179700.0000   \n",
              "\n",
              "                             75%           90%            95%           99%  \\\n",
              "longitude             -118.01000    -117.25000    -117.080000    -116.29000   \n",
              "latitude                37.71000      38.48000      38.960000      40.62610   \n",
              "housing_median_age      37.00000      46.00000      52.000000      52.00000   \n",
              "total_rooms           3148.00000    4651.50000    6213.200000   11212.11000   \n",
              "total_bedrooms         647.00000     965.00000    1275.400000    2221.36000   \n",
              "population            1725.00000    2566.00000    3288.000000    5805.83000   \n",
              "households             605.00000     890.00000    1162.000000    1982.66000   \n",
              "median_income            4.74325       6.15921       7.300305      10.59654   \n",
              "median_house_value  264725.00000  376600.00000  489810.000000  500001.00000   \n",
              "\n",
              "                            max  \n",
              "longitude             -114.3100  \n",
              "latitude                41.9500  \n",
              "housing_median_age      52.0000  \n",
              "total_rooms          39320.0000  \n",
              "total_bedrooms        6445.0000  \n",
              "population           35682.0000  \n",
              "households            6082.0000  \n",
              "median_income           15.0001  \n",
              "median_house_value  500001.0000  "
            ],
            "text/html": [
              "\n",
              "  <div id=\"df-8640e37b-c0ff-44dd-a7c5-0b7ca1bd22ef\">\n",
              "    <div class=\"colab-df-container\">\n",
              "      <div>\n",
              "<style scoped>\n",
              "    .dataframe tbody tr th:only-of-type {\n",
              "        vertical-align: middle;\n",
              "    }\n",
              "\n",
              "    .dataframe tbody tr th {\n",
              "        vertical-align: top;\n",
              "    }\n",
              "\n",
              "    .dataframe thead th {\n",
              "        text-align: right;\n",
              "    }\n",
              "</style>\n",
              "<table border=\"1\" class=\"dataframe\">\n",
              "  <thead>\n",
              "    <tr style=\"text-align: right;\">\n",
              "      <th></th>\n",
              "      <th>count</th>\n",
              "      <th>mean</th>\n",
              "      <th>std</th>\n",
              "      <th>min</th>\n",
              "      <th>0%</th>\n",
              "      <th>10%</th>\n",
              "      <th>25%</th>\n",
              "      <th>50%</th>\n",
              "      <th>75%</th>\n",
              "      <th>90%</th>\n",
              "      <th>95%</th>\n",
              "      <th>99%</th>\n",
              "      <th>max</th>\n",
              "    </tr>\n",
              "  </thead>\n",
              "  <tbody>\n",
              "    <tr>\n",
              "      <th>longitude</th>\n",
              "      <td>20640.0</td>\n",
              "      <td>-119.569704</td>\n",
              "      <td>2.003532</td>\n",
              "      <td>-124.3500</td>\n",
              "      <td>-124.3500</td>\n",
              "      <td>-122.2900</td>\n",
              "      <td>-121.8000</td>\n",
              "      <td>-118.4900</td>\n",
              "      <td>-118.01000</td>\n",
              "      <td>-117.25000</td>\n",
              "      <td>-117.080000</td>\n",
              "      <td>-116.29000</td>\n",
              "      <td>-114.3100</td>\n",
              "    </tr>\n",
              "    <tr>\n",
              "      <th>latitude</th>\n",
              "      <td>20640.0</td>\n",
              "      <td>35.631861</td>\n",
              "      <td>2.135952</td>\n",
              "      <td>32.5400</td>\n",
              "      <td>32.5400</td>\n",
              "      <td>33.6300</td>\n",
              "      <td>33.9300</td>\n",
              "      <td>34.2600</td>\n",
              "      <td>37.71000</td>\n",
              "      <td>38.48000</td>\n",
              "      <td>38.960000</td>\n",
              "      <td>40.62610</td>\n",
              "      <td>41.9500</td>\n",
              "    </tr>\n",
              "    <tr>\n",
              "      <th>housing_median_age</th>\n",
              "      <td>20640.0</td>\n",
              "      <td>28.639486</td>\n",
              "      <td>12.585558</td>\n",
              "      <td>1.0000</td>\n",
              "      <td>1.0000</td>\n",
              "      <td>13.0000</td>\n",
              "      <td>18.0000</td>\n",
              "      <td>29.0000</td>\n",
              "      <td>37.00000</td>\n",
              "      <td>46.00000</td>\n",
              "      <td>52.000000</td>\n",
              "      <td>52.00000</td>\n",
              "      <td>52.0000</td>\n",
              "    </tr>\n",
              "    <tr>\n",
              "      <th>total_rooms</th>\n",
              "      <td>20640.0</td>\n",
              "      <td>2635.763081</td>\n",
              "      <td>2181.615252</td>\n",
              "      <td>2.0000</td>\n",
              "      <td>2.0000</td>\n",
              "      <td>941.0000</td>\n",
              "      <td>1447.7500</td>\n",
              "      <td>2127.0000</td>\n",
              "      <td>3148.00000</td>\n",
              "      <td>4651.50000</td>\n",
              "      <td>6213.200000</td>\n",
              "      <td>11212.11000</td>\n",
              "      <td>39320.0000</td>\n",
              "    </tr>\n",
              "    <tr>\n",
              "      <th>total_bedrooms</th>\n",
              "      <td>20433.0</td>\n",
              "      <td>537.870553</td>\n",
              "      <td>421.385070</td>\n",
              "      <td>1.0000</td>\n",
              "      <td>1.0000</td>\n",
              "      <td>198.0000</td>\n",
              "      <td>296.0000</td>\n",
              "      <td>435.0000</td>\n",
              "      <td>647.00000</td>\n",
              "      <td>965.00000</td>\n",
              "      <td>1275.400000</td>\n",
              "      <td>2221.36000</td>\n",
              "      <td>6445.0000</td>\n",
              "    </tr>\n",
              "    <tr>\n",
              "      <th>population</th>\n",
              "      <td>20640.0</td>\n",
              "      <td>1425.476744</td>\n",
              "      <td>1132.462122</td>\n",
              "      <td>3.0000</td>\n",
              "      <td>3.0000</td>\n",
              "      <td>510.0000</td>\n",
              "      <td>787.0000</td>\n",
              "      <td>1166.0000</td>\n",
              "      <td>1725.00000</td>\n",
              "      <td>2566.00000</td>\n",
              "      <td>3288.000000</td>\n",
              "      <td>5805.83000</td>\n",
              "      <td>35682.0000</td>\n",
              "    </tr>\n",
              "    <tr>\n",
              "      <th>households</th>\n",
              "      <td>20640.0</td>\n",
              "      <td>499.539680</td>\n",
              "      <td>382.329753</td>\n",
              "      <td>1.0000</td>\n",
              "      <td>1.0000</td>\n",
              "      <td>184.0000</td>\n",
              "      <td>280.0000</td>\n",
              "      <td>409.0000</td>\n",
              "      <td>605.00000</td>\n",
              "      <td>890.00000</td>\n",
              "      <td>1162.000000</td>\n",
              "      <td>1982.66000</td>\n",
              "      <td>6082.0000</td>\n",
              "    </tr>\n",
              "    <tr>\n",
              "      <th>median_income</th>\n",
              "      <td>20640.0</td>\n",
              "      <td>3.870671</td>\n",
              "      <td>1.899822</td>\n",
              "      <td>0.4999</td>\n",
              "      <td>0.4999</td>\n",
              "      <td>1.9038</td>\n",
              "      <td>2.5634</td>\n",
              "      <td>3.5348</td>\n",
              "      <td>4.74325</td>\n",
              "      <td>6.15921</td>\n",
              "      <td>7.300305</td>\n",
              "      <td>10.59654</td>\n",
              "      <td>15.0001</td>\n",
              "    </tr>\n",
              "    <tr>\n",
              "      <th>median_house_value</th>\n",
              "      <td>20640.0</td>\n",
              "      <td>206855.816909</td>\n",
              "      <td>115395.615874</td>\n",
              "      <td>14999.0000</td>\n",
              "      <td>14999.0000</td>\n",
              "      <td>82300.0000</td>\n",
              "      <td>119600.0000</td>\n",
              "      <td>179700.0000</td>\n",
              "      <td>264725.00000</td>\n",
              "      <td>376600.00000</td>\n",
              "      <td>489810.000000</td>\n",
              "      <td>500001.00000</td>\n",
              "      <td>500001.0000</td>\n",
              "    </tr>\n",
              "  </tbody>\n",
              "</table>\n",
              "</div>\n",
              "      <button class=\"colab-df-convert\" onclick=\"convertToInteractive('df-8640e37b-c0ff-44dd-a7c5-0b7ca1bd22ef')\"\n",
              "              title=\"Convert this dataframe to an interactive table.\"\n",
              "              style=\"display:none;\">\n",
              "        \n",
              "  <svg xmlns=\"http://www.w3.org/2000/svg\" height=\"24px\"viewBox=\"0 0 24 24\"\n",
              "       width=\"24px\">\n",
              "    <path d=\"M0 0h24v24H0V0z\" fill=\"none\"/>\n",
              "    <path d=\"M18.56 5.44l.94 2.06.94-2.06 2.06-.94-2.06-.94-.94-2.06-.94 2.06-2.06.94zm-11 1L8.5 8.5l.94-2.06 2.06-.94-2.06-.94L8.5 2.5l-.94 2.06-2.06.94zm10 10l.94 2.06.94-2.06 2.06-.94-2.06-.94-.94-2.06-.94 2.06-2.06.94z\"/><path d=\"M17.41 7.96l-1.37-1.37c-.4-.4-.92-.59-1.43-.59-.52 0-1.04.2-1.43.59L10.3 9.45l-7.72 7.72c-.78.78-.78 2.05 0 2.83L4 21.41c.39.39.9.59 1.41.59.51 0 1.02-.2 1.41-.59l7.78-7.78 2.81-2.81c.8-.78.8-2.07 0-2.86zM5.41 20L4 18.59l7.72-7.72 1.47 1.35L5.41 20z\"/>\n",
              "  </svg>\n",
              "      </button>\n",
              "      \n",
              "  <style>\n",
              "    .colab-df-container {\n",
              "      display:flex;\n",
              "      flex-wrap:wrap;\n",
              "      gap: 12px;\n",
              "    }\n",
              "\n",
              "    .colab-df-convert {\n",
              "      background-color: #E8F0FE;\n",
              "      border: none;\n",
              "      border-radius: 50%;\n",
              "      cursor: pointer;\n",
              "      display: none;\n",
              "      fill: #1967D2;\n",
              "      height: 32px;\n",
              "      padding: 0 0 0 0;\n",
              "      width: 32px;\n",
              "    }\n",
              "\n",
              "    .colab-df-convert:hover {\n",
              "      background-color: #E2EBFA;\n",
              "      box-shadow: 0px 1px 2px rgba(60, 64, 67, 0.3), 0px 1px 3px 1px rgba(60, 64, 67, 0.15);\n",
              "      fill: #174EA6;\n",
              "    }\n",
              "\n",
              "    [theme=dark] .colab-df-convert {\n",
              "      background-color: #3B4455;\n",
              "      fill: #D2E3FC;\n",
              "    }\n",
              "\n",
              "    [theme=dark] .colab-df-convert:hover {\n",
              "      background-color: #434B5C;\n",
              "      box-shadow: 0px 1px 3px 1px rgba(0, 0, 0, 0.15);\n",
              "      filter: drop-shadow(0px 1px 2px rgba(0, 0, 0, 0.3));\n",
              "      fill: #FFFFFF;\n",
              "    }\n",
              "  </style>\n",
              "\n",
              "      <script>\n",
              "        const buttonEl =\n",
              "          document.querySelector('#df-8640e37b-c0ff-44dd-a7c5-0b7ca1bd22ef button.colab-df-convert');\n",
              "        buttonEl.style.display =\n",
              "          google.colab.kernel.accessAllowed ? 'block' : 'none';\n",
              "\n",
              "        async function convertToInteractive(key) {\n",
              "          const element = document.querySelector('#df-8640e37b-c0ff-44dd-a7c5-0b7ca1bd22ef');\n",
              "          const dataTable =\n",
              "            await google.colab.kernel.invokeFunction('convertToInteractive',\n",
              "                                                     [key], {});\n",
              "          if (!dataTable) return;\n",
              "\n",
              "          const docLinkHtml = 'Like what you see? Visit the ' +\n",
              "            '<a target=\"_blank\" href=https://colab.research.google.com/notebooks/data_table.ipynb>data table notebook</a>'\n",
              "            + ' to learn more about interactive tables.';\n",
              "          element.innerHTML = '';\n",
              "          dataTable['output_type'] = 'display_data';\n",
              "          await google.colab.output.renderOutput(dataTable, element);\n",
              "          const docLink = document.createElement('div');\n",
              "          docLink.innerHTML = docLinkHtml;\n",
              "          element.appendChild(docLink);\n",
              "        }\n",
              "      </script>\n",
              "    </div>\n",
              "  </div>\n",
              "  "
            ]
          },
          "metadata": {},
          "execution_count": 16
        }
      ]
    },
    {
      "cell_type": "code",
      "source": [
        "np.median(df['population'])"
      ],
      "metadata": {
        "colab": {
          "base_uri": "https://localhost:8080/"
        },
        "id": "-BagwPgqAnic",
        "outputId": "7351a85a-d7ff-4d39-ede8-ba1c0f4ea9ba"
      },
      "execution_count": null,
      "outputs": [
        {
          "output_type": "execute_result",
          "data": {
            "text/plain": [
              "1166.0"
            ]
          },
          "metadata": {},
          "execution_count": 102
        }
      ]
    },
    {
      "cell_type": "markdown",
      "source": [
        "### **Answer: 1166.0**"
      ],
      "metadata": {
        "id": "sZ7LOWvKBHct"
      }
    },
    {
      "cell_type": "code",
      "source": [
        "# Inspecting histogram:\n",
        "\n",
        "fig = plt.figure(figsize=(15,10))\n",
        "ax = plt.gca()\n",
        "df.hist(bins =100, ax=ax, layout = (3,3), column = ['latitude','longitude','housing_median_age','total_rooms','total_bedrooms','population','households','median_income','median_house_value'])\n",
        "plt.tight_layout()\n",
        "plt.show()\n"
      ],
      "metadata": {
        "id": "_zZJDE97E37e",
        "colab": {
          "base_uri": "https://localhost:8080/",
          "height": 721
        },
        "outputId": "f4b4876e-7bc2-44f9-f60a-63830f0f5f1e"
      },
      "execution_count": 17,
      "outputs": [
        {
          "output_type": "display_data",
          "data": {
            "text/plain": [
              "<Figure size 1080x720 with 9 Axes>"
            ],
            "image/png": "[encoded data removed]"
          },
          "metadata": {}
        }
      ]
    },
    {
      "cell_type": "code",
      "source": [
        "#@ inspecting house values:\n",
        "sns.distplot(df.median_house_value)"
      ],
      "metadata": {
        "colab": {
          "base_uri": "https://localhost:8080/",
          "height": 569
        },
        "id": "4BUzenqBiPuw",
        "outputId": "fafba643-fa25-43f7-ccb7-9e25ce9f97e5"
      },
      "execution_count": 24,
      "outputs": [
        {
          "output_type": "execute_result",
          "data": {
            "text/plain": [
              "<matplotlib.axes._subplots.AxesSubplot at 0x7f85100c85d0>"
            ]
          },
          "metadata": {},
          "execution_count": 24
        },
        {
          "output_type": "display_data",
          "data": {
            "text/plain": [
              "<Figure size 1152x576 with 1 Axes>"
            ],
            "image/png": "[encoded data removed]"
          },
          "metadata": {}
        }
      ]
    },
    {
      "cell_type": "code",
      "source": [
        "#@ Inspecting House Vaues: \n",
        "sns.distplot(np.log1p(df.median_house_value))"
      ],
      "metadata": {
        "id": "UY3OudeHgbSK",
        "outputId": "75e1a342-6420-4064-9811-764e2001cc89",
        "colab": {
          "base_uri": "https://localhost:8080/",
          "height": 555
        }
      },
      "execution_count": 22,
      "outputs": [
        {
          "output_type": "execute_result",
          "data": {
            "text/plain": [
              "<matplotlib.axes._subplots.AxesSubplot at 0x7f85102fe990>"
            ]
          },
          "metadata": {},
          "execution_count": 22
        },
        {
          "output_type": "display_data",
          "data": {
            "text/plain": [
              "<Figure size 1152x576 with 1 Axes>"
            ],
            "image/png": "[encoded data removed]"
          },
          "metadata": {}
        }
      ]
    },
    {
      "cell_type": "markdown",
      "source": [
        "Split the data\n",
        "\n",
        "* Shuffle the initial dataset, use seed 42.\n",
        "* Split your data in train/val/test sets, with 60%/20%/20% distribution.\n",
        "* Make sure that the target value ('median_house_value') is not in your dataframe.\n",
        "* Apply the log transformation to the median_house_value variable using the np.log1p() function.\n"
      ],
      "metadata": {
        "id": "y5YyRfuxty66"
      }
    },
    {
      "cell_type": "markdown",
      "source": [
        "# **Simple Linear Regression:**"
      ],
      "metadata": {
        "id": "5St7o80UhjaX"
      }
    },
    {
      "cell_type": "code",
      "source": [
        "# Function for Linear Regression:  \n",
        "def train_linear_regression(X, y):\n",
        "    ones = np.ones(X.shape[0])\n",
        "    X = np.column_stack([ones, X])\n",
        "\n",
        "    XTX = X.T.dot(X)\n",
        "    XTX_inv = np.linalg.inv(XTX)\n",
        "    w = XTX_inv.dot(X.T).dot(y)\n",
        "    \n",
        "    return w[0], w[1:]"
      ],
      "metadata": {
        "id": "hzk6S_KbhIjf"
      },
      "execution_count": 25,
      "outputs": []
    },
    {
      "cell_type": "markdown",
      "source": [
        "# **Data Preparation**"
      ],
      "metadata": {
        "id": "dw0s7IAxhfzM"
      }
    },
    {
      "cell_type": "code",
      "source": [
        "\"\"\"Split your data in train/val/test sets, with 60%/20%/20% distribution\"\"\"\n",
        "# Spitting the Dataset: \n",
        "n = len(df)\n",
        "n_val = int(0.2 * n)\n",
        "n_test = int(0.2 * n)\n",
        "n_train = n - (n_val + n_test)\n",
        "\n",
        "# Shuffling Dataset  \n",
        "idx = np.arange(n)\n",
        "np.random.seed(42)\n",
        "np.random.shuffle(idx)\n",
        "df_shuffled = df.iloc[idx]"
      ],
      "metadata": {
        "id": "6wV5nzWaHIi0"
      },
      "execution_count": 26,
      "outputs": []
    },
    {
      "cell_type": "code",
      "source": [
        "# Preparing the Dataset:  \n",
        "df_train = df_shuffled.iloc[:n_train].copy()\n",
        "df_val = df_shuffled.iloc[n_train:n_train+n_val].copy()\n",
        "df_test = df_shuffled.iloc[n_train+n_val:].copy()\n",
        "\n",
        "\"\"\"Dropping indexes now\"\"\"\n",
        "df_train = df_train.reset_index(drop=True)\n",
        "df_val = df_val.reset_index(drop=True)\n",
        "df_test = df_test.reset_index(drop=True)"
      ],
      "metadata": {
        "id": "_b9emqNiiuB6"
      },
      "execution_count": 27,
      "outputs": []
    },
    {
      "cell_type": "code",
      "source": [
        "# Preparing the Labels:   \n",
        "y_train_orig = df_train.median_house_value.values\n",
        "y_val_orig = df_val.median_house_value.values\n",
        "y_test_orig = df_test.median_house_value.values\n",
        "\n",
        "\"\"\"Apply the log transformation to the median_house_value variable using the np.log1p() function\"\"\"\n",
        "y_train = np.log1p(y_train_orig)\n",
        "y_val = np.log1p(y_val_orig)\n",
        "y_test = np.log1p(y_test_orig)"
      ],
      "metadata": {
        "id": "mu_3pZgdi_GV"
      },
      "execution_count": 28,
      "outputs": []
    },
    {
      "cell_type": "code",
      "source": [
        "# check length of the three datasets\n",
        "len(df_train), len(df_val), len(df_test)"
      ],
      "metadata": {
        "colab": {
          "base_uri": "https://localhost:8080/"
        },
        "id": "xYn4UOVAn7bL",
        "outputId": "33510e54-f5c4-421a-f26f-1e9ed1b0e73c"
      },
      "execution_count": 29,
      "outputs": [
        {
          "output_type": "execute_result",
          "data": {
            "text/plain": [
              "(12384, 4128, 4128)"
            ]
          },
          "metadata": {},
          "execution_count": 29
        }
      ]
    },
    {
      "cell_type": "code",
      "source": [
        "\"\"\"Make sure that the target value ('median_house_value') is not in your dataframe\"\"\"\n",
        "del df_train['median_house_value']\n",
        "del df_val['median_house_value']\n",
        "del df_test['median_house_value']"
      ],
      "metadata": {
        "id": "2va38wKHj1R7"
      },
      "execution_count": 30,
      "outputs": []
    },
    {
      "cell_type": "markdown",
      "source": [
        "# **Question 3**\n",
        "\n",
        "* We need to deal with missing values for the column from Q1.\n",
        "* We have two options: fill it with 0 or with the mean of this variable.\n",
        "* Try both options. For each, train a linear regression model without regularization using the code from the lessons.\n",
        "* For computing the mean, use the training only!\n",
        "* Use the validation dataset to evaluate the models and compare the * RMSE of each option.\n",
        "* Round the RMSE scores to 2 decimal digits using round(score, 2)\n",
        "* Which option gives better RMSE?\n",
        "\n",
        "Options:\n",
        "\n",
        "* With 0\n",
        "* With mean\n",
        "* With median\n",
        "* Both are equally good"
      ],
      "metadata": {
        "id": "oZ9_DRaxuDZQ"
      }
    },
    {
      "cell_type": "code",
      "source": [
        "# Check the dataset:\n",
        "check=[\"longitude\", \"latitude\", \"housing_median_age\", \"total_rooms\", \"total_bedrooms\", \n",
        "       \"population\", \"households\", \"median_income\"]\n",
        "\n",
        "# Defining Function: \n",
        "def prepare_X(df, fillna_value):\n",
        "    df_num = df[check]\n",
        "    df_num = df_num.fillna(fillna_value)\n",
        "    X = df_num.values\n",
        "    return X"
      ],
      "metadata": {
        "id": "TW0_lnRMksXi"
      },
      "execution_count": 31,
      "outputs": []
    },
    {
      "cell_type": "code",
      "source": [
        "# Function for RMSE Values: \n",
        "def rmse(y, y_pred):\n",
        "    error = y_pred - y\n",
        "    mse = (error ** 2).mean()\n",
        "    return np.sqrt(mse)"
      ],
      "metadata": {
        "id": "g4EYu2RCk-Xy"
      },
      "execution_count": 32,
      "outputs": []
    },
    {
      "cell_type": "code",
      "source": [
        "# Filling the Missing Values:\n",
        "mean = df_train.total_bedrooms.mean()\n",
        "\n",
        "X_mean_train = prepare_X(df_train, fillna_value=mean)\n",
        "w_0_mean, w_mean = train_linear_regression(X_mean_train, y_train)"
      ],
      "metadata": {
        "id": "9ToHPYdGlFk7"
      },
      "execution_count": 33,
      "outputs": []
    },
    {
      "cell_type": "code",
      "source": [
        "X_mean_val = prepare_X(df_val, fillna_value=mean)\n",
        "y_mean_pred_val = w_0_mean + X_mean_val.dot(w_mean)\n"
      ],
      "metadata": {
        "id": "tx0ROPellLAm"
      },
      "execution_count": 34,
      "outputs": []
    },
    {
      "cell_type": "code",
      "source": [
        "# Getting RMSE Score:\n",
        "np.round(rmse(y_val, y_mean_pred_val),2)"
      ],
      "metadata": {
        "id": "J4mChZcdlPQZ",
        "outputId": "f1d7a4c0-8f19-428b-f92a-10cdf9cf1a8b",
        "colab": {
          "base_uri": "https://localhost:8080/"
        }
      },
      "execution_count": 35,
      "outputs": [
        {
          "output_type": "execute_result",
          "data": {
            "text/plain": [
              "0.33"
            ]
          },
          "metadata": {},
          "execution_count": 35
        }
      ]
    },
    {
      "cell_type": "code",
      "source": [
        "X_null_train = prepare_X(df_train, fillna_value=0)\n",
        "w_0_null, w_null = train_linear_regression(X_null_train, y_train)"
      ],
      "metadata": {
        "id": "QdyyfyjUlVIN"
      },
      "execution_count": 36,
      "outputs": []
    },
    {
      "cell_type": "code",
      "source": [
        "X_null_val = prepare_X(df_val, fillna_value=0)\n",
        "y_null_pred_val = w_0_null + X_null_val.dot(w_null)"
      ],
      "metadata": {
        "id": "X1Hieu0clZ8H"
      },
      "execution_count": 37,
      "outputs": []
    },
    {
      "cell_type": "code",
      "source": [
        "# Getting RMSE Score:\n",
        "np.round(rmse(y_val, y_null_pred_val),2)"
      ],
      "metadata": {
        "id": "EXUnDcdsleLt",
        "outputId": "959b920e-c06a-4978-c324-6a1ed0e4e6d3",
        "colab": {
          "base_uri": "https://localhost:8080/"
        }
      },
      "execution_count": 38,
      "outputs": [
        {
          "output_type": "execute_result",
          "data": {
            "text/plain": [
              "0.33"
            ]
          },
          "metadata": {},
          "execution_count": 38
        }
      ]
    },
    {
      "cell_type": "markdown",
      "source": [
        "### **Answer: Both are equally good**"
      ],
      "metadata": {
        "id": "ChWj9uAGWEsK"
      }
    },
    {
      "cell_type": "markdown",
      "source": [
        "# **Question 4**\n",
        "\n",
        "* Now let's train a regularized linear regression.\n",
        "* For this question, fill the NAs with 0.\n",
        "* Try different values of r from this list: [0, 0.000001, 0.0001, 0.001, 0.01, 0.1, 1, 5, 10].\n",
        "* Use RMSE to evaluate the model on the validation dataset.\n",
        "* Round the RMSE scores to 2 decimal digits.\n",
        "* Which r gives the best RMSE?"
      ],
      "metadata": {
        "id": "iy-4wq5yutqx"
      }
    },
    {
      "cell_type": "markdown",
      "source": [
        "If there are multiple options, select the smallest r.\n",
        "\n",
        "Options:\n",
        "\n",
        "* 0\n",
        "* 0.000001\n",
        "* 0.001\n",
        "* 0.0001\n"
      ],
      "metadata": {
        "id": "rYM6t6_4u6kH"
      }
    },
    {
      "cell_type": "markdown",
      "source": [
        "## **Regularization**"
      ],
      "metadata": {
        "id": "QJ0p2yRQm11x"
      }
    },
    {
      "cell_type": "code",
      "source": [
        "\"\"\"Create a function for Training Linear Regression Regularization Model\"\"\"\n",
        "\n",
        "def train_linear_regression_reg(X, y, r=0.0):\n",
        "    ones = np.ones(X.shape[0]) # including a biased term\n",
        "    X = np.column_stack([ones, X])\n",
        "\n",
        "    XTX = X.T.dot(X) # Gram Matrix\n",
        "    reg = r * np.eye(XTX.shape[0]) # Regularization\n",
        "    XTX = XTX + reg\n",
        "\n",
        "    XTX_inv = np.linalg.inv(XTX) #Inverse of Gram Matrix\n",
        "    w = XTX_inv.dot(X.T).dot(y)\n",
        "    \n",
        "    return w[0], w[1:]"
      ],
      "metadata": {
        "id": "OkxQ-XgRmvU1"
      },
      "execution_count": 39,
      "outputs": []
    },
    {
      "cell_type": "code",
      "source": [
        "# Inspecting the Results: \n",
        "\n",
        "for r in [0, 0.000001, 0.0001, 0.001, 0.01, 0.1, 1, 5, 10]:\n",
        "    w_0, w = train_linear_regression_reg(X_null_train, y_train, r=r) #Train a Regularized Linear Regression\n",
        "    y_null_reg_val = w_0 + X_null_val.dot(w)# RMSE to evaluate the model on the validation dataset\n",
        "    rmse_val = np.round(rmse(y_val, y_null_reg_val),2) #Round the RMSE scores to 2 decimal digits\n",
        "    print(r, w_0, rmse_val)"
      ],
      "metadata": {
        "id": "gnhDArsrnm2t",
        "outputId": "f80ef2ce-81b1-4203-bee3-d11c9b8dccbe",
        "colab": {
          "base_uri": "https://localhost:8080/"
        }
      },
      "execution_count": 40,
      "outputs": [
        {
          "output_type": "stream",
          "name": "stdout",
          "text": [
            "0 -11.686975242036546 0.33\n",
            "1e-06 -11.686959175728921 0.33\n",
            "0.0001 -11.685368865034667 0.33\n",
            "0.001 -11.670931317799797 0.33\n",
            "0.01 -11.528493585632091 0.33\n",
            "0.1 -10.274500282195673 0.33\n",
            "1 -4.920480897742212 0.33\n",
            "5 -1.482095745621172 0.34\n",
            "10 -0.7899311831779245 0.34\n"
          ]
        }
      ]
    },
    {
      "cell_type": "markdown",
      "source": [
        "### **Answer:   0**"
      ],
      "metadata": {
        "id": "itDiFh_qyKZk"
      }
    },
    {
      "cell_type": "markdown",
      "source": [
        "# **Question 5**\n",
        "\n",
        "* We used seed 42 for splitting the data. Let's find out how selecting the seed influences our score.\n",
        "* Try different seed values: [0, 1, 2, 3, 4, 5, 6, 7, 8, 9].\n",
        "* For each seed, do the train/validation/test split with 60%/20%/20% distribution.\n",
        "* Fill the missing values with 0 and train a model without regularization.\n",
        "* For each seed, evaluate the model on the validation dataset and collect the RMSE scores.\n",
        "* What's the standard deviation of all the scores? To compute the standard deviation, use np.std.\n",
        "* Round the result to 3 decimal digits (round(std, 3))\n"
      ],
      "metadata": {
        "id": "F38rskXFvFyi"
      }
    },
    {
      "cell_type": "markdown",
      "source": [
        "\n",
        "> Note: Standard deviation shows how different the values are. If it's low, then all values are approximately the same. If it's high, the values are different. If standard deviation of scores is low, then our model is stable.\n",
        "\n"
      ],
      "metadata": {
        "id": "77AYHIBovi1j"
      }
    },
    {
      "cell_type": "markdown",
      "source": [
        "Options:\n",
        "\n",
        "* 0.16\n",
        "* 0.00005\n",
        "* 0.005\n",
        "* 0.15555\n"
      ],
      "metadata": {
        "id": "3TYjhtLzv29u"
      }
    },
    {
      "cell_type": "code",
      "source": [
        "# Checking the RMSE Score:\n",
        "rmse_list = []\n",
        "\n",
        "for r in [0, 1, 2, 3, 4, 5, 6, 7, 8, 9]:\n",
        "\n",
        "    idx = np.arange(n)\n",
        "    np.random.seed(r)\n",
        "    np.random.shuffle(idx)\n",
        "\n",
        "    df_shuffled = df.iloc[idx]\n",
        "    \n",
        "    df_train = df_shuffled.iloc[:n_train].copy()\n",
        "    df_val = df_shuffled.iloc[n_train:n_train+n_val].copy()\n",
        "    df_test = df_shuffled.iloc[n_train+n_val:].copy()\n",
        "\n",
        "    df_train = df_train.reset_index(drop=True)\n",
        "    df_val = df_val.reset_index(drop=True)\n",
        "    df_test = df_test.reset_index(drop=True)\n",
        "    \n",
        "    y_train_orig = df_train.median_house_value.values\n",
        "    y_val_orig = df_val.median_house_value.values\n",
        "    y_test_orig = df_test.median_house_value.values\n",
        "\n",
        "    y_train = np.log1p(y_train_orig)\n",
        "    y_val = np.log1p(y_val_orig)\n",
        "    y_test = np.log1p(y_test_orig)\n",
        "    \n",
        "    del df_train['median_house_value']\n",
        "    del df_val['median_house_value']\n",
        "    del df_test['median_house_value']\n",
        "    \n",
        "    X_null_train = prepare_X(df_train, fillna_value=0)\n",
        "    w_0, w = train_linear_regression(X_null_train, y_train)\n",
        "    \n",
        "    X_null_val = prepare_X(df_val, fillna_value=0)\n",
        "    y_null_reg_val = w_0 + X_null_val.dot(w)\n",
        "    rmse_val = np.round(rmse(y_val, y_null_reg_val),2)\n",
        "    \n",
        "    rmse_list.append(rmse_val)\n",
        "    \n",
        "    print(r, w_0, rmse_val)"
      ],
      "metadata": {
        "id": "EdXt01OPoWTs",
        "outputId": "f73827e4-2d9c-4aaf-b363-a0883234566b",
        "colab": {
          "base_uri": "https://localhost:8080/"
        }
      },
      "execution_count": 41,
      "outputs": [
        {
          "output_type": "stream",
          "name": "stdout",
          "text": [
            "0 -11.900382138125133 0.34\n",
            "1 -11.732757372921618 0.34\n",
            "2 -11.806729361193014 0.33\n",
            "3 -11.587900347753235 0.34\n",
            "4 -11.38947058831824 0.34\n",
            "5 -11.447114275587968 0.34\n",
            "6 -11.370516351548385 0.35\n",
            "7 -12.47344891889502 0.34\n",
            "8 -11.800287429792748 0.35\n",
            "9 -11.459046830736924 0.34\n"
          ]
        }
      ]
    },
    {
      "cell_type": "code",
      "source": [
        "# Inspecting the RMSE List: INSPECTING THE RMSE LIST:\n",
        "rmse_list"
      ],
      "metadata": {
        "id": "pZ79mSWno-Vm",
        "outputId": "d20739d9-10e2-4e40-9b01-037a07271c6f",
        "colab": {
          "base_uri": "https://localhost:8080/"
        }
      },
      "execution_count": 42,
      "outputs": [
        {
          "output_type": "execute_result",
          "data": {
            "text/plain": [
              "[0.34, 0.34, 0.33, 0.34, 0.34, 0.34, 0.35, 0.34, 0.35, 0.34]"
            ]
          },
          "metadata": {},
          "execution_count": 42
        }
      ]
    },
    {
      "cell_type": "code",
      "source": [
        "# Inspecting the RMSE:\n",
        "np.round(np.std(rmse_list),3)"
      ],
      "metadata": {
        "id": "qjOS6_6KpRDw",
        "outputId": "119dac52-362b-47ec-f2c3-33da1d8e9253",
        "colab": {
          "base_uri": "https://localhost:8080/"
        }
      },
      "execution_count": 43,
      "outputs": [
        {
          "output_type": "execute_result",
          "data": {
            "text/plain": [
              "0.005"
            ]
          },
          "metadata": {},
          "execution_count": 43
        }
      ]
    },
    {
      "cell_type": "markdown",
      "source": [
        "## **Answer: 0.005**"
      ],
      "metadata": {
        "id": "0c6s4rbsCH-g"
      }
    },
    {
      "cell_type": "markdown",
      "source": [
        "# **Question 6**\n",
        "\n",
        "* Split the dataset like previously, use seed 9.\n",
        "* Combine train and validation datasets.\n",
        "* Fill the missing values with 0 and train a model with r=0.001.\n",
        "* What's the RMSE on the test dataset?\n",
        "\n",
        "Options:\n",
        "\n",
        "* 0.35\n",
        "* 0.135\n",
        "* 0.450\n",
        "* 0.245\n"
      ],
      "metadata": {
        "id": "KdDBfaHnwCQE"
      }
    },
    {
      "cell_type": "markdown",
      "source": [
        "## Seed and Regularization"
      ],
      "metadata": {
        "id": "6V9_IFSYFvE4"
      }
    },
    {
      "cell_type": "code",
      "source": [
        "# Initialize Seed and Regularization: \n",
        "r = 9\n",
        "\n",
        "idx = np.arange(n)\n",
        "np.random.seed(r)\n",
        "np.random.shuffle(idx)\n",
        "\n",
        "df_shuffled = df.iloc[idx]\n",
        "    \n",
        "df_train = df_shuffled.iloc[:n_train].copy()\n",
        "df_val = df_shuffled.iloc[n_train:n_train+n_val].copy()\n",
        "df_test = df_shuffled.iloc[n_train+n_val:].copy()\n",
        "\n",
        "frames = [df_train, df_val]\n",
        "df_train_val = pd.concat(frames)\n",
        "\n",
        "df_train_val = df_train_val.reset_index(drop=True)\n",
        "df_test = df_test.reset_index(drop=True)\n",
        "\n",
        "y_train_val_orig = df_train_val.median_house_value.values\n",
        "y_test_orig = df_test.median_house_value.values\n",
        "\n",
        "y_train_val = np.log1p(y_train_val_orig)\n",
        "y_test = np.log1p(y_test_orig)\n",
        "\n",
        "del df_train_val['median_house_value']\n",
        "del df_test['median_house_value']\n"
      ],
      "metadata": {
        "id": "-NEBu0sdp4aI"
      },
      "execution_count": 44,
      "outputs": []
    },
    {
      "cell_type": "code",
      "source": [
        "# Inspecting RMSE:\n",
        "X_null_train_val = prepare_X(df_train_val, fillna_value=0)\n",
        "w_0_train_val, w_train_val = train_linear_regression_reg(X_null_train_val, y_train_val, r=0.001)\n",
        "\n",
        "X_null_test = prepare_X(df_test, fillna_value=0)\n",
        "y_null_pred_test = w_0_train_val + X_null_test.dot(w_train_val)\n",
        "\n",
        "np.round(rmse(y_test, y_null_pred_test),2) # RMSE on the test dataset"
      ],
      "metadata": {
        "id": "bzR77ZXvqA3m",
        "outputId": "1d435610-febf-4da9-cae9-606450775869",
        "colab": {
          "base_uri": "https://localhost:8080/"
        }
      },
      "execution_count": 45,
      "outputs": [
        {
          "output_type": "execute_result",
          "data": {
            "text/plain": [
              "0.35"
            ]
          },
          "metadata": {},
          "execution_count": 45
        }
      ]
    },
    {
      "cell_type": "markdown",
      "source": [
        "### **Answer: 0.35**"
      ],
      "metadata": {
        "id": "l_C5Zss2fvYW"
      }
    },
    {
      "cell_type": "markdown",
      "source": [
        "## Happy Learning!!!"
      ],
      "metadata": {
        "id": "i3jTPhMpqg2w"
      }
    }
  ]
}