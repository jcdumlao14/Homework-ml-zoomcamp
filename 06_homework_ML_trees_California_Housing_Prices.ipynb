{
  "nbformat": 4,
  "nbformat_minor": 0,
  "metadata": {
    "colab": {
      "provenance": [],
      "collapsed_sections": [],
      "authorship_tag": "ABX9TyPTg1IcGGFt60eBzA0CcNv+",
      "include_colab_link": true
    },
    "kernelspec": {
      "name": "python3",
      "display_name": "Python 3"
    },
    "language_info": {
      "name": "python"
    }
  },
  "cells": [
    {
      "cell_type": "markdown",
      "metadata": {
        "id": "view-in-github",
        "colab_type": "text"
      },
      "source": [
        "<a href=\"https://colab.research.google.com/github/jcdumlao14/Homework-ml-zoomcamp/blob/main/06_homework_ML_trees_California_Housing_Prices.ipynb\" target=\"_parent\"><img src=\"https://colab.research.google.com/assets/colab-badge.svg\" alt=\"Open In Colab\"/></a>"
      ]
    },
    {
      "cell_type": "markdown",
      "source": [
        "## **Homework**\n",
        "\n",
        "The goal of this homework is to create a regression model for predicting housing prices (column 'median_house_value').\n",
        "\n",
        "In this homework we'll again use the California Housing Prices dataset - the same one we used in homework 2 and 3.\n",
        "\n",
        "You can take it from Kaggle or download using wget link mentioned below:\n",
        "\n",
        "wget https://raw.githubusercontent.com/alexeygrigorev/datasets/master/housing.csv"
      ],
      "metadata": {
        "id": "sm5NL3aR7R2C"
      }
    },
    {
      "cell_type": "code",
      "execution_count": 1,
      "metadata": {
        "id": "Y_3A2-jf69iM"
      },
      "outputs": [],
      "source": [
        "# Importing Libraries and dependencies: \n",
        "import re\n",
        "import numpy as np\n",
        "import pandas as pd\n",
        "import seaborn as sns\n",
        "import xgboost as xgb\n",
        "import matplotlib.pyplot as plt\n",
        "plt.rcParams['figure.figsize'] = (12,5)\n",
        "plt.style.use('fivethirtyeight')\n",
        "\n",
        "import warnings \n",
        "warnings.filterwarnings(\"ignore\")\n",
        "\n",
        "from tqdm.auto import tqdm\n",
        "from sklearn.tree import DecisionTreeRegressor\n",
        "from sklearn.tree import export_text\n",
        "from sklearn.feature_extraction import DictVectorizer\n",
        "from sklearn.model_selection import train_test_split\n",
        "from sklearn.ensemble import RandomForestRegressor\n",
        "from sklearn.metrics import mean_squared_error\n",
        "\n",
        "%matplotlib inline"
      ]
    },
    {
      "cell_type": "code",
      "source": [
        "# Downloading the dataset: Uncomment below: \n",
        "!wget https://raw.githubusercontent.com/alexeygrigorev/datasets/master/housing.csv"
      ],
      "metadata": {
        "id": "vR59E96W7zin",
        "colab": {
          "base_uri": "https://localhost:8080/"
        },
        "outputId": "836bf2a8-ebc9-4f86-f962-b7d7d0f96e0a"
      },
      "execution_count": 2,
      "outputs": [
        {
          "output_type": "stream",
          "name": "stdout",
          "text": [
            "--2022-10-15 22:28:27--  https://raw.githubusercontent.com/alexeygrigorev/datasets/master/housing.csv\n",
            "Resolving raw.githubusercontent.com (raw.githubusercontent.com)... 185.199.110.133, 185.199.111.133, 185.199.109.133, ...\n",
            "Connecting to raw.githubusercontent.com (raw.githubusercontent.com)|185.199.110.133|:443... connected.\n",
            "HTTP request sent, awaiting response... 200 OK\n",
            "Length: 1423529 (1.4M) [text/plain]\n",
            "Saving to: ‘housing.csv.2’\n",
            "\n",
            "\rhousing.csv.2         0%[                    ]       0  --.-KB/s               \rhousing.csv.2       100%[===================>]   1.36M  --.-KB/s    in 0.05s   \n",
            "\n",
            "2022-10-15 22:28:27 (24.8 MB/s) - ‘housing.csv.2’ saved [1423529/1423529]\n",
            "\n"
          ]
        }
      ]
    },
    {
      "cell_type": "code",
      "source": [
        "# Reading dataset: \n",
        "PATH = \"./housing.csv\"\n",
        "select_cols = [\"longitude\", \"latitude\", \"housing_median_age\", \"total_rooms\", \"total_bedrooms\", \"population\", \"households\", \n",
        "               \"median_income\", \"median_house_value\", \"ocean_proximity\"]\n",
        "df = pd.read_csv(PATH, usecols=select_cols)\n",
        "df.total_bedrooms = df.total_bedrooms.fillna(0)"
      ],
      "metadata": {
        "id": "6talTv1R76cU"
      },
      "execution_count": 3,
      "outputs": []
    },
    {
      "cell_type": "markdown",
      "source": [
        "* Apply the log transform to median_house_value.\n",
        "* Do train/validation/test split with 60%/20%/20% distribution.\n",
        "* Use the train_test_split function and set the random_state parameter to 1."
      ],
      "metadata": {
        "id": "rFWdoCP-8EDq"
      }
    },
    {
      "cell_type": "code",
      "source": [
        "# Splitting the dataset for training and test: \n",
        "df['median_house_value'] = np.log1p(df.median_house_value.values)\n",
        "\n",
        "df_full_train,df_test = train_test_split(df,test_size=0.2, random_state=1)\n",
        "df_train, df_val = train_test_split(df_full_train,test_size=0.25,random_state=1)\n",
        "\n",
        "df_train.reset_index(drop=True,inplace=True)\n",
        "df_test.reset_index(drop=True,inplace=True)\n",
        "df_val.reset_index(drop=True,inplace=True)\n",
        "\n",
        "y_train = df_train.median_house_value.values\n",
        "y_test = df_test.median_house_value.values\n",
        "y_val = df_val.median_house_value.values\n",
        "\n",
        "del df_train['median_house_value']\n",
        "del df_test['median_house_value']\n",
        "del df_val['median_house_value']\n",
        "\n"
      ],
      "metadata": {
        "id": "jfiK1xK67_sK"
      },
      "execution_count": 4,
      "outputs": []
    },
    {
      "cell_type": "markdown",
      "source": [
        "* We will use DictVectorizer to turn train and validation into matrices."
      ],
      "metadata": {
        "id": "3SIta9yu8UBQ"
      }
    },
    {
      "cell_type": "code",
      "source": [
        "# Impementation of DictVectorizer:\n",
        "dv = DictVectorizer(sparse=False)\n",
        "\n",
        "train_dict = df_train.to_dict(orient='records')\n",
        "X_train = dv.fit_transform(train_dict)\n",
        "\n",
        "val_dict = df_val.to_dict(orient='records')\n",
        "X_val = dv.fit_transform(val_dict)"
      ],
      "metadata": {
        "id": "mWz991gl8Qpw"
      },
      "execution_count": 5,
      "outputs": []
    },
    {
      "cell_type": "markdown",
      "source": [
        "# **Question 1**\n",
        "\n",
        "Let's train a decision tree regressor to predict the median_house_value variable.\n",
        "\n",
        "* Train a model with max_depth=1.\n",
        "\n",
        "Which feature is used for splitting the data?\n",
        "\n",
        "* ocean_proximity=INLAND\n",
        "* total_rooms\n",
        "* latitude\n",
        "* population\n"
      ],
      "metadata": {
        "id": "DCA6SRfi8iv8"
      }
    },
    {
      "cell_type": "code",
      "source": [
        "features = ['latitude','longitude','housing_median_age','total_rooms','total_bedrooms','population','households','median_income','median_house_value','ocean_proximity']\n",
        "\n",
        "df = df[features]\n",
        "\n",
        "df.describe()"
      ],
      "metadata": {
        "colab": {
          "base_uri": "https://localhost:8080/",
          "height": 344
        },
        "id": "NkuJuXQUFce1",
        "outputId": "f25b9f70-f953-416c-d0a9-1c72e247059c"
      },
      "execution_count": 6,
      "outputs": [
        {
          "output_type": "execute_result",
          "data": {
            "text/plain": [
              "           latitude     longitude  housing_median_age   total_rooms  \\\n",
              "count  20640.000000  20640.000000        20640.000000  20640.000000   \n",
              "mean      35.631861   -119.569704           28.639486   2635.763081   \n",
              "std        2.135952      2.003532           12.585558   2181.615252   \n",
              "min       32.540000   -124.350000            1.000000      2.000000   \n",
              "25%       33.930000   -121.800000           18.000000   1447.750000   \n",
              "50%       34.260000   -118.490000           29.000000   2127.000000   \n",
              "75%       37.710000   -118.010000           37.000000   3148.000000   \n",
              "max       41.950000   -114.310000           52.000000  39320.000000   \n",
              "\n",
              "       total_bedrooms    population    households  median_income  \\\n",
              "count    20640.000000  20640.000000  20640.000000   20640.000000   \n",
              "mean       532.476211   1425.476744    499.539680       3.870671   \n",
              "std        422.678333   1132.462122    382.329753       1.899822   \n",
              "min          0.000000      3.000000      1.000000       0.499900   \n",
              "25%        292.000000    787.000000    280.000000       2.563400   \n",
              "50%        431.000000   1166.000000    409.000000       3.534800   \n",
              "75%        643.250000   1725.000000    605.000000       4.743250   \n",
              "max       6445.000000  35682.000000   6082.000000      15.000100   \n",
              "\n",
              "       median_house_value  \n",
              "count        20640.000000  \n",
              "mean            12.084891  \n",
              "std              0.569131  \n",
              "min              9.615805  \n",
              "25%             11.691916  \n",
              "50%             12.099050  \n",
              "75%             12.486451  \n",
              "max             13.122367  "
            ],
            "text/html": [
              "\n",
              "  <div id=\"df-4d47021b-44bd-493d-b6c3-a706238bffef\">\n",
              "    <div class=\"colab-df-container\">\n",
              "      <div>\n",
              "<style scoped>\n",
              "    .dataframe tbody tr th:only-of-type {\n",
              "        vertical-align: middle;\n",
              "    }\n",
              "\n",
              "    .dataframe tbody tr th {\n",
              "        vertical-align: top;\n",
              "    }\n",
              "\n",
              "    .dataframe thead th {\n",
              "        text-align: right;\n",
              "    }\n",
              "</style>\n",
              "<table border=\"1\" class=\"dataframe\">\n",
              "  <thead>\n",
              "    <tr style=\"text-align: right;\">\n",
              "      <th></th>\n",
              "      <th>latitude</th>\n",
              "      <th>longitude</th>\n",
              "      <th>housing_median_age</th>\n",
              "      <th>total_rooms</th>\n",
              "      <th>total_bedrooms</th>\n",
              "      <th>population</th>\n",
              "      <th>households</th>\n",
              "      <th>median_income</th>\n",
              "      <th>median_house_value</th>\n",
              "    </tr>\n",
              "  </thead>\n",
              "  <tbody>\n",
              "    <tr>\n",
              "      <th>count</th>\n",
              "      <td>20640.000000</td>\n",
              "      <td>20640.000000</td>\n",
              "      <td>20640.000000</td>\n",
              "      <td>20640.000000</td>\n",
              "      <td>20640.000000</td>\n",
              "      <td>20640.000000</td>\n",
              "      <td>20640.000000</td>\n",
              "      <td>20640.000000</td>\n",
              "      <td>20640.000000</td>\n",
              "    </tr>\n",
              "    <tr>\n",
              "      <th>mean</th>\n",
              "      <td>35.631861</td>\n",
              "      <td>-119.569704</td>\n",
              "      <td>28.639486</td>\n",
              "      <td>2635.763081</td>\n",
              "      <td>532.476211</td>\n",
              "      <td>1425.476744</td>\n",
              "      <td>499.539680</td>\n",
              "      <td>3.870671</td>\n",
              "      <td>12.084891</td>\n",
              "    </tr>\n",
              "    <tr>\n",
              "      <th>std</th>\n",
              "      <td>2.135952</td>\n",
              "      <td>2.003532</td>\n",
              "      <td>12.585558</td>\n",
              "      <td>2181.615252</td>\n",
              "      <td>422.678333</td>\n",
              "      <td>1132.462122</td>\n",
              "      <td>382.329753</td>\n",
              "      <td>1.899822</td>\n",
              "      <td>0.569131</td>\n",
              "    </tr>\n",
              "    <tr>\n",
              "      <th>min</th>\n",
              "      <td>32.540000</td>\n",
              "      <td>-124.350000</td>\n",
              "      <td>1.000000</td>\n",
              "      <td>2.000000</td>\n",
              "      <td>0.000000</td>\n",
              "      <td>3.000000</td>\n",
              "      <td>1.000000</td>\n",
              "      <td>0.499900</td>\n",
              "      <td>9.615805</td>\n",
              "    </tr>\n",
              "    <tr>\n",
              "      <th>25%</th>\n",
              "      <td>33.930000</td>\n",
              "      <td>-121.800000</td>\n",
              "      <td>18.000000</td>\n",
              "      <td>1447.750000</td>\n",
              "      <td>292.000000</td>\n",
              "      <td>787.000000</td>\n",
              "      <td>280.000000</td>\n",
              "      <td>2.563400</td>\n",
              "      <td>11.691916</td>\n",
              "    </tr>\n",
              "    <tr>\n",
              "      <th>50%</th>\n",
              "      <td>34.260000</td>\n",
              "      <td>-118.490000</td>\n",
              "      <td>29.000000</td>\n",
              "      <td>2127.000000</td>\n",
              "      <td>431.000000</td>\n",
              "      <td>1166.000000</td>\n",
              "      <td>409.000000</td>\n",
              "      <td>3.534800</td>\n",
              "      <td>12.099050</td>\n",
              "    </tr>\n",
              "    <tr>\n",
              "      <th>75%</th>\n",
              "      <td>37.710000</td>\n",
              "      <td>-118.010000</td>\n",
              "      <td>37.000000</td>\n",
              "      <td>3148.000000</td>\n",
              "      <td>643.250000</td>\n",
              "      <td>1725.000000</td>\n",
              "      <td>605.000000</td>\n",
              "      <td>4.743250</td>\n",
              "      <td>12.486451</td>\n",
              "    </tr>\n",
              "    <tr>\n",
              "      <th>max</th>\n",
              "      <td>41.950000</td>\n",
              "      <td>-114.310000</td>\n",
              "      <td>52.000000</td>\n",
              "      <td>39320.000000</td>\n",
              "      <td>6445.000000</td>\n",
              "      <td>35682.000000</td>\n",
              "      <td>6082.000000</td>\n",
              "      <td>15.000100</td>\n",
              "      <td>13.122367</td>\n",
              "    </tr>\n",
              "  </tbody>\n",
              "</table>\n",
              "</div>\n",
              "      <button class=\"colab-df-convert\" onclick=\"convertToInteractive('df-4d47021b-44bd-493d-b6c3-a706238bffef')\"\n",
              "              title=\"Convert this dataframe to an interactive table.\"\n",
              "              style=\"display:none;\">\n",
              "        \n",
              "  <svg xmlns=\"http://www.w3.org/2000/svg\" height=\"24px\"viewBox=\"0 0 24 24\"\n",
              "       width=\"24px\">\n",
              "    <path d=\"M0 0h24v24H0V0z\" fill=\"none\"/>\n",
              "    <path d=\"M18.56 5.44l.94 2.06.94-2.06 2.06-.94-2.06-.94-.94-2.06-.94 2.06-2.06.94zm-11 1L8.5 8.5l.94-2.06 2.06-.94-2.06-.94L8.5 2.5l-.94 2.06-2.06.94zm10 10l.94 2.06.94-2.06 2.06-.94-2.06-.94-.94-2.06-.94 2.06-2.06.94z\"/><path d=\"M17.41 7.96l-1.37-1.37c-.4-.4-.92-.59-1.43-.59-.52 0-1.04.2-1.43.59L10.3 9.45l-7.72 7.72c-.78.78-.78 2.05 0 2.83L4 21.41c.39.39.9.59 1.41.59.51 0 1.02-.2 1.41-.59l7.78-7.78 2.81-2.81c.8-.78.8-2.07 0-2.86zM5.41 20L4 18.59l7.72-7.72 1.47 1.35L5.41 20z\"/>\n",
              "  </svg>\n",
              "      </button>\n",
              "      \n",
              "  <style>\n",
              "    .colab-df-container {\n",
              "      display:flex;\n",
              "      flex-wrap:wrap;\n",
              "      gap: 12px;\n",
              "    }\n",
              "\n",
              "    .colab-df-convert {\n",
              "      background-color: #E8F0FE;\n",
              "      border: none;\n",
              "      border-radius: 50%;\n",
              "      cursor: pointer;\n",
              "      display: none;\n",
              "      fill: #1967D2;\n",
              "      height: 32px;\n",
              "      padding: 0 0 0 0;\n",
              "      width: 32px;\n",
              "    }\n",
              "\n",
              "    .colab-df-convert:hover {\n",
              "      background-color: #E2EBFA;\n",
              "      box-shadow: 0px 1px 2px rgba(60, 64, 67, 0.3), 0px 1px 3px 1px rgba(60, 64, 67, 0.15);\n",
              "      fill: #174EA6;\n",
              "    }\n",
              "\n",
              "    [theme=dark] .colab-df-convert {\n",
              "      background-color: #3B4455;\n",
              "      fill: #D2E3FC;\n",
              "    }\n",
              "\n",
              "    [theme=dark] .colab-df-convert:hover {\n",
              "      background-color: #434B5C;\n",
              "      box-shadow: 0px 1px 3px 1px rgba(0, 0, 0, 0.15);\n",
              "      filter: drop-shadow(0px 1px 2px rgba(0, 0, 0, 0.3));\n",
              "      fill: #FFFFFF;\n",
              "    }\n",
              "  </style>\n",
              "\n",
              "      <script>\n",
              "        const buttonEl =\n",
              "          document.querySelector('#df-4d47021b-44bd-493d-b6c3-a706238bffef button.colab-df-convert');\n",
              "        buttonEl.style.display =\n",
              "          google.colab.kernel.accessAllowed ? 'block' : 'none';\n",
              "\n",
              "        async function convertToInteractive(key) {\n",
              "          const element = document.querySelector('#df-4d47021b-44bd-493d-b6c3-a706238bffef');\n",
              "          const dataTable =\n",
              "            await google.colab.kernel.invokeFunction('convertToInteractive',\n",
              "                                                     [key], {});\n",
              "          if (!dataTable) return;\n",
              "\n",
              "          const docLinkHtml = 'Like what you see? Visit the ' +\n",
              "            '<a target=\"_blank\" href=https://colab.research.google.com/notebooks/data_table.ipynb>data table notebook</a>'\n",
              "            + ' to learn more about interactive tables.';\n",
              "          element.innerHTML = '';\n",
              "          dataTable['output_type'] = 'display_data';\n",
              "          await google.colab.output.renderOutput(dataTable, element);\n",
              "          const docLink = document.createElement('div');\n",
              "          docLink.innerHTML = docLinkHtml;\n",
              "          element.appendChild(docLink);\n",
              "        }\n",
              "      </script>\n",
              "    </div>\n",
              "  </div>\n",
              "  "
            ]
          },
          "metadata": {},
          "execution_count": 6
        }
      ]
    },
    {
      "cell_type": "code",
      "source": [
        "# Training the regression model:\n",
        "\n",
        "model = DecisionTreeRegressor(max_depth = 1)\n",
        "model.fit(X_train, y_train)\n",
        "y_pred = model.predict(X_val)\n",
        "\n",
        "print(export_text(model,feature_names=dv.get_feature_names()))"
      ],
      "metadata": {
        "id": "p2L00DMH8d7E",
        "colab": {
          "base_uri": "https://localhost:8080/"
        },
        "outputId": "544ee3b0-ac0d-4dc7-cf68-fac950b2ffb5"
      },
      "execution_count": 7,
      "outputs": [
        {
          "output_type": "stream",
          "name": "stdout",
          "text": [
            "|--- ocean_proximity=INLAND <= 0.50\n",
            "|   |--- value: [12.31]\n",
            "|--- ocean_proximity=INLAND >  0.50\n",
            "|   |--- value: [11.61]\n",
            "\n"
          ]
        }
      ]
    },
    {
      "cell_type": "markdown",
      "source": [
        "* Which feature is used for splitting the data?\n",
        "\n",
        "### **Answer: ocean_proximity=INLAND**"
      ],
      "metadata": {
        "id": "-6hwh6i880FG"
      }
    },
    {
      "cell_type": "markdown",
      "source": [
        "# **Question 2**\n",
        "\n",
        "Train a random forest model with these parameters:\n",
        "\n",
        "* n_estimators=10\n",
        "* random_state=1\n",
        "* n_jobs=-1 (optional-to make training faster)\n",
        "\n",
        "What's the RMSE of this model on validation?\n",
        "\n",
        "* 0.05\n",
        "* 0.25\n",
        "* 0.55\n",
        "* 0.85\n"
      ],
      "metadata": {
        "id": "-q6ooQdt89D7"
      }
    },
    {
      "cell_type": "code",
      "source": [
        "# Training random forest model:  \n",
        "model = RandomForestRegressor(n_estimators=10,random_state=1,n_jobs= -1)\n",
        "model.fit(X_train,y_train)\n",
        "y_pred = model.predict(X_val)"
      ],
      "metadata": {
        "id": "qce81rfB8dyx"
      },
      "execution_count": 8,
      "outputs": []
    },
    {
      "cell_type": "code",
      "source": [
        "# Calculate mean squared error:  \n",
        "rmse = mean_squared_error(y_val,y_pred) ** 0.5\n",
        "print(rmse)"
      ],
      "metadata": {
        "id": "vDMQbrRq8dul",
        "colab": {
          "base_uri": "https://localhost:8080/"
        },
        "outputId": "c4f4c343-9d9c-4870-9381-c3b415f710b3"
      },
      "execution_count": 9,
      "outputs": [
        {
          "output_type": "stream",
          "name": "stdout",
          "text": [
            "0.24566012875324933\n"
          ]
        }
      ]
    },
    {
      "cell_type": "markdown",
      "source": [
        "* What's the RMSE of this model on validation?\n",
        "\n",
        "### **Answer: 0.25**"
      ],
      "metadata": {
        "id": "x4wP_w3I9Q4Z"
      }
    },
    {
      "cell_type": "markdown",
      "source": [
        "# **Question 3**\n",
        "\n",
        "Now, let's experiment with the n_estimators parameter.\n",
        "\n",
        "* Try different values of this parameter from 10 to 200 with step 10.\n",
        "* Set random_state to 1.\n",
        "* Evaluate the model on the validation dataset.\n",
        "\n",
        "After which value of n_estimators does RMSE stop improving?\n",
        "\n",
        "* 10\n",
        "* 55\n",
        "* 75\n",
        "* 150"
      ],
      "metadata": {
        "id": "Oy5GUWlt9ZkW"
      }
    },
    {
      "cell_type": "code",
      "source": [
        "# Training the random forest model: \n",
        "for i in range (10,200,10):\n",
        "  model = RandomForestRegressor(n_estimators= i,random_state=1,n_jobs= -1)\n",
        "  model.fit(X_train,y_train)\n",
        "  y_pred = model.predict(X_val)\n",
        "\n",
        "# Inspecting the RMSE scores: \n",
        "  rmse = mean_squared_error(y_val,y_pred) ** 0.5\n",
        "  print(\"For estimators %s, RMSE is %.3f\" %(i,rmse))"
      ],
      "metadata": {
        "id": "E6_3X6488dmv",
        "colab": {
          "base_uri": "https://localhost:8080/"
        },
        "outputId": "4592e5bc-4ae0-40ce-e360-b646b571b6dc"
      },
      "execution_count": 11,
      "outputs": [
        {
          "output_type": "stream",
          "name": "stdout",
          "text": [
            "For estimators 10, RMSE is 0.246\n",
            "For estimators 20, RMSE is 0.239\n",
            "For estimators 30, RMSE is 0.235\n",
            "For estimators 40, RMSE is 0.234\n",
            "For estimators 50, RMSE is 0.233\n",
            "For estimators 60, RMSE is 0.233\n",
            "For estimators 70, RMSE is 0.232\n",
            "For estimators 80, RMSE is 0.232\n",
            "For estimators 90, RMSE is 0.232\n",
            "For estimators 100, RMSE is 0.232\n",
            "For estimators 110, RMSE is 0.231\n",
            "For estimators 120, RMSE is 0.232\n",
            "For estimators 130, RMSE is 0.232\n",
            "For estimators 140, RMSE is 0.232\n",
            "For estimators 150, RMSE is 0.232\n",
            "For estimators 160, RMSE is 0.232\n",
            "For estimators 170, RMSE is 0.231\n",
            "For estimators 180, RMSE is 0.232\n",
            "For estimators 190, RMSE is 0.232\n"
          ]
        }
      ]
    },
    {
      "cell_type": "code",
      "source": [
        "# Inspecting the RMSE scores:  \n",
        "rmse = mean_squared_error(y_val,y_pred) ** 0.5\n",
        "print(\"For estimators %s, RMSE is %.3f\" %(i,rmse))\n"
      ],
      "metadata": {
        "id": "2txFbA708din",
        "colab": {
          "base_uri": "https://localhost:8080/"
        },
        "outputId": "033d2870-1971-4bb4-f4e3-2ff178e9fdf2"
      },
      "execution_count": 12,
      "outputs": [
        {
          "output_type": "stream",
          "name": "stdout",
          "text": [
            "For estimators 190, RMSE is 0.232\n"
          ]
        }
      ]
    },
    {
      "cell_type": "markdown",
      "source": [
        "* After which value of n_estimators does RMSE stop improving?\n",
        "\n",
        "### **Answer: 150**"
      ],
      "metadata": {
        "id": "bk71dx789vDB"
      }
    },
    {
      "cell_type": "markdown",
      "source": [
        "# **Question 4**\n",
        "\n",
        "Let's select the best max_depth:\n",
        "\n",
        "* Try different values of max_depth: [10, 15, 20, 25].\n",
        "* For each of these values, try different values of n_estimators from 10 to 200 (with step 10).\n",
        "* Fix the random seed: random_state=1.\n",
        "\n",
        "What's the best max_depth:\n",
        "\n",
        "* 10\n",
        "* 15\n",
        "* 20\n",
        "* 25"
      ],
      "metadata": {
        "id": "7akbhgd092lt"
      }
    },
    {
      "cell_type": "code",
      "source": [
        "# Training the model with depth: \n",
        "for depth in [10,15,20,25]:\n",
        "  print('For max_depth %s \\n'% depth)\n",
        "\n",
        "for i in range (10,201,10):\n",
        "  model = RandomForestRegressor(n_estimators= i,random_state=1,n_jobs= -1,max_depth=depth)\n",
        "  model.fit(X_train,y_train)\n",
        "  y_pred = model.predict(X_val)\n",
        "\n",
        "  rmse = mean_squared_error(y_val,y_pred) ** 0.5\n",
        "  print(\"For estimators %s, RMSE is %.3f\" %(i,rmse))\n",
        " "
      ],
      "metadata": {
        "id": "lpfzrkZs9qzn",
        "colab": {
          "base_uri": "https://localhost:8080/"
        },
        "outputId": "af86b6a0-7ca0-4bab-d147-e52bbb82b27f"
      },
      "execution_count": 13,
      "outputs": [
        {
          "output_type": "stream",
          "name": "stdout",
          "text": [
            "For max_depth 10 \n",
            "\n",
            "For max_depth 15 \n",
            "\n",
            "For max_depth 20 \n",
            "\n",
            "For max_depth 25 \n",
            "\n",
            "For estimators 10, RMSE is 0.246\n",
            "For estimators 20, RMSE is 0.239\n",
            "For estimators 30, RMSE is 0.236\n",
            "For estimators 40, RMSE is 0.235\n",
            "For estimators 50, RMSE is 0.233\n",
            "For estimators 60, RMSE is 0.233\n",
            "For estimators 70, RMSE is 0.232\n",
            "For estimators 80, RMSE is 0.232\n",
            "For estimators 90, RMSE is 0.232\n",
            "For estimators 100, RMSE is 0.232\n",
            "For estimators 110, RMSE is 0.231\n",
            "For estimators 120, RMSE is 0.231\n",
            "For estimators 130, RMSE is 0.232\n",
            "For estimators 140, RMSE is 0.231\n",
            "For estimators 150, RMSE is 0.232\n",
            "For estimators 160, RMSE is 0.231\n",
            "For estimators 170, RMSE is 0.231\n",
            "For estimators 180, RMSE is 0.232\n",
            "For estimators 190, RMSE is 0.232\n",
            "For estimators 200, RMSE is 0.231\n"
          ]
        }
      ]
    },
    {
      "cell_type": "markdown",
      "source": [
        "* What's the best max_depth:\n",
        "\n",
        "### **Answer: 10**"
      ],
      "metadata": {
        "id": "vPi7ofog-Rbe"
      }
    },
    {
      "cell_type": "markdown",
      "source": [
        "# **Question 5**\n",
        "\n",
        "We can extract feature importance information from tree-based models.\n",
        "\n",
        "At each step of the decision tree learning algorith, it finds the best split. When doint it, we can calculate \"gain\" - the reduction in impurity before and after the split. This gain is quite useful in understanding what are the imporatant features for tree-based models.\n",
        "\n",
        "In Scikit-Learn, tree-based models contain this information in the feature_importances_ field.\n",
        "\n",
        "For this homework question, we'll find the most important feature:\n",
        "\n",
        "Train the model with these parametes:\n",
        "\n",
        "* n_estimators=10,\n",
        "* max_depth=20,\n",
        "* random_state=1,\n",
        "* n_jobs=-1 (optional)\n",
        "\n",
        "Get the feature importance information from this model\n",
        "\n",
        "What's the most important feature?\n",
        "\n",
        "* total_rooms\n",
        "* median_income\n",
        "* total_bedrooms\n",
        "* longitude"
      ],
      "metadata": {
        "id": "wMZULK-2_Ygg"
      }
    },
    {
      "cell_type": "code",
      "source": [
        "# Training the random forest model:\n",
        "model = RandomForestRegressor(n_estimators= 10,random_state=1,n_jobs= -1,max_depth=20)\n",
        "model.fit(X_train,y_train)\n",
        "y_pred = model.predict(X_val)"
      ],
      "metadata": {
        "id": "YdfndSIa-OMq"
      },
      "execution_count": 14,
      "outputs": []
    },
    {
      "cell_type": "code",
      "source": [
        "model.feature_importances_"
      ],
      "metadata": {
        "colab": {
          "base_uri": "https://localhost:8080/"
        },
        "id": "fj0LpUNsPRTb",
        "outputId": "2409d65e-f19a-4211-fedf-2fe8f182db5c"
      },
      "execution_count": 15,
      "outputs": [
        {
          "output_type": "execute_result",
          "data": {
            "text/plain": [
              "array([1.63873827e-02, 3.31454580e-02, 1.01255849e-01, 9.64702137e-02,\n",
              "       3.63325843e-01, 2.48880276e-03, 3.10900842e-01, 3.56806263e-04,\n",
              "       4.80369796e-04, 4.69876693e-03, 3.07769212e-02, 1.91716318e-02,\n",
              "       2.05411131e-02])"
            ]
          },
          "metadata": {},
          "execution_count": 15
        }
      ]
    },
    {
      "cell_type": "code",
      "source": [
        "list(zip(dv.feature_names_, model.feature_importances_))"
      ],
      "metadata": {
        "colab": {
          "base_uri": "https://localhost:8080/"
        },
        "id": "N6ve51vzPvQq",
        "outputId": "f9d86927-e004-44b6-9bd4-2a11228ea879"
      },
      "execution_count": 16,
      "outputs": [
        {
          "output_type": "execute_result",
          "data": {
            "text/plain": [
              "[('households', 0.016387382721975895),\n",
              " ('housing_median_age', 0.03314545802888494),\n",
              " ('latitude', 0.10125584919636603),\n",
              " ('longitude', 0.09647021370105628),\n",
              " ('median_income', 0.3633258427603735),\n",
              " ('ocean_proximity=<1H OCEAN', 0.0024888027585429112),\n",
              " ('ocean_proximity=INLAND', 0.3109008417080609),\n",
              " ('ocean_proximity=ISLAND', 0.0003568062629467623),\n",
              " ('ocean_proximity=NEAR BAY', 0.00048036979631206085),\n",
              " ('ocean_proximity=NEAR OCEAN', 0.004698766933197919),\n",
              " ('population', 0.030776921187228586),\n",
              " ('total_bedrooms', 0.01917163182045455),\n",
              " ('total_rooms', 0.020541113124599636)]"
            ]
          },
          "metadata": {},
          "execution_count": 16
        }
      ]
    },
    {
      "cell_type": "code",
      "source": [
        "importances = list(zip(dv.feature_names_, model.feature_importances_))\n",
        "\n",
        "df_importance = pd.DataFrame(importances, columns=['feature', 'gain'])\n",
        "df_importance = df_importance.sort_values(by='gain', ascending=False)\n",
        "df_importance"
      ],
      "metadata": {
        "colab": {
          "base_uri": "https://localhost:8080/",
          "height": 457
        },
        "id": "gH33-ad_P6ih",
        "outputId": "617dfbe9-4f71-4cb2-8830-4008a260645a"
      },
      "execution_count": 17,
      "outputs": [
        {
          "output_type": "execute_result",
          "data": {
            "text/plain": [
              "                       feature      gain\n",
              "4                median_income  0.363326\n",
              "6       ocean_proximity=INLAND  0.310901\n",
              "2                     latitude  0.101256\n",
              "3                    longitude  0.096470\n",
              "1           housing_median_age  0.033145\n",
              "10                  population  0.030777\n",
              "12                 total_rooms  0.020541\n",
              "11              total_bedrooms  0.019172\n",
              "0                   households  0.016387\n",
              "9   ocean_proximity=NEAR OCEAN  0.004699\n",
              "5    ocean_proximity=<1H OCEAN  0.002489\n",
              "8     ocean_proximity=NEAR BAY  0.000480\n",
              "7       ocean_proximity=ISLAND  0.000357"
            ],
            "text/html": [
              "\n",
              "  <div id=\"df-af69d3a6-5a9d-4529-bf2b-3bd5629e958f\">\n",
              "    <div class=\"colab-df-container\">\n",
              "      <div>\n",
              "<style scoped>\n",
              "    .dataframe tbody tr th:only-of-type {\n",
              "        vertical-align: middle;\n",
              "    }\n",
              "\n",
              "    .dataframe tbody tr th {\n",
              "        vertical-align: top;\n",
              "    }\n",
              "\n",
              "    .dataframe thead th {\n",
              "        text-align: right;\n",
              "    }\n",
              "</style>\n",
              "<table border=\"1\" class=\"dataframe\">\n",
              "  <thead>\n",
              "    <tr style=\"text-align: right;\">\n",
              "      <th></th>\n",
              "      <th>feature</th>\n",
              "      <th>gain</th>\n",
              "    </tr>\n",
              "  </thead>\n",
              "  <tbody>\n",
              "    <tr>\n",
              "      <th>4</th>\n",
              "      <td>median_income</td>\n",
              "      <td>0.363326</td>\n",
              "    </tr>\n",
              "    <tr>\n",
              "      <th>6</th>\n",
              "      <td>ocean_proximity=INLAND</td>\n",
              "      <td>0.310901</td>\n",
              "    </tr>\n",
              "    <tr>\n",
              "      <th>2</th>\n",
              "      <td>latitude</td>\n",
              "      <td>0.101256</td>\n",
              "    </tr>\n",
              "    <tr>\n",
              "      <th>3</th>\n",
              "      <td>longitude</td>\n",
              "      <td>0.096470</td>\n",
              "    </tr>\n",
              "    <tr>\n",
              "      <th>1</th>\n",
              "      <td>housing_median_age</td>\n",
              "      <td>0.033145</td>\n",
              "    </tr>\n",
              "    <tr>\n",
              "      <th>10</th>\n",
              "      <td>population</td>\n",
              "      <td>0.030777</td>\n",
              "    </tr>\n",
              "    <tr>\n",
              "      <th>12</th>\n",
              "      <td>total_rooms</td>\n",
              "      <td>0.020541</td>\n",
              "    </tr>\n",
              "    <tr>\n",
              "      <th>11</th>\n",
              "      <td>total_bedrooms</td>\n",
              "      <td>0.019172</td>\n",
              "    </tr>\n",
              "    <tr>\n",
              "      <th>0</th>\n",
              "      <td>households</td>\n",
              "      <td>0.016387</td>\n",
              "    </tr>\n",
              "    <tr>\n",
              "      <th>9</th>\n",
              "      <td>ocean_proximity=NEAR OCEAN</td>\n",
              "      <td>0.004699</td>\n",
              "    </tr>\n",
              "    <tr>\n",
              "      <th>5</th>\n",
              "      <td>ocean_proximity=&lt;1H OCEAN</td>\n",
              "      <td>0.002489</td>\n",
              "    </tr>\n",
              "    <tr>\n",
              "      <th>8</th>\n",
              "      <td>ocean_proximity=NEAR BAY</td>\n",
              "      <td>0.000480</td>\n",
              "    </tr>\n",
              "    <tr>\n",
              "      <th>7</th>\n",
              "      <td>ocean_proximity=ISLAND</td>\n",
              "      <td>0.000357</td>\n",
              "    </tr>\n",
              "  </tbody>\n",
              "</table>\n",
              "</div>\n",
              "      <button class=\"colab-df-convert\" onclick=\"convertToInteractive('df-af69d3a6-5a9d-4529-bf2b-3bd5629e958f')\"\n",
              "              title=\"Convert this dataframe to an interactive table.\"\n",
              "              style=\"display:none;\">\n",
              "        \n",
              "  <svg xmlns=\"http://www.w3.org/2000/svg\" height=\"24px\"viewBox=\"0 0 24 24\"\n",
              "       width=\"24px\">\n",
              "    <path d=\"M0 0h24v24H0V0z\" fill=\"none\"/>\n",
              "    <path d=\"M18.56 5.44l.94 2.06.94-2.06 2.06-.94-2.06-.94-.94-2.06-.94 2.06-2.06.94zm-11 1L8.5 8.5l.94-2.06 2.06-.94-2.06-.94L8.5 2.5l-.94 2.06-2.06.94zm10 10l.94 2.06.94-2.06 2.06-.94-2.06-.94-.94-2.06-.94 2.06-2.06.94z\"/><path d=\"M17.41 7.96l-1.37-1.37c-.4-.4-.92-.59-1.43-.59-.52 0-1.04.2-1.43.59L10.3 9.45l-7.72 7.72c-.78.78-.78 2.05 0 2.83L4 21.41c.39.39.9.59 1.41.59.51 0 1.02-.2 1.41-.59l7.78-7.78 2.81-2.81c.8-.78.8-2.07 0-2.86zM5.41 20L4 18.59l7.72-7.72 1.47 1.35L5.41 20z\"/>\n",
              "  </svg>\n",
              "      </button>\n",
              "      \n",
              "  <style>\n",
              "    .colab-df-container {\n",
              "      display:flex;\n",
              "      flex-wrap:wrap;\n",
              "      gap: 12px;\n",
              "    }\n",
              "\n",
              "    .colab-df-convert {\n",
              "      background-color: #E8F0FE;\n",
              "      border: none;\n",
              "      border-radius: 50%;\n",
              "      cursor: pointer;\n",
              "      display: none;\n",
              "      fill: #1967D2;\n",
              "      height: 32px;\n",
              "      padding: 0 0 0 0;\n",
              "      width: 32px;\n",
              "    }\n",
              "\n",
              "    .colab-df-convert:hover {\n",
              "      background-color: #E2EBFA;\n",
              "      box-shadow: 0px 1px 2px rgba(60, 64, 67, 0.3), 0px 1px 3px 1px rgba(60, 64, 67, 0.15);\n",
              "      fill: #174EA6;\n",
              "    }\n",
              "\n",
              "    [theme=dark] .colab-df-convert {\n",
              "      background-color: #3B4455;\n",
              "      fill: #D2E3FC;\n",
              "    }\n",
              "\n",
              "    [theme=dark] .colab-df-convert:hover {\n",
              "      background-color: #434B5C;\n",
              "      box-shadow: 0px 1px 3px 1px rgba(0, 0, 0, 0.15);\n",
              "      filter: drop-shadow(0px 1px 2px rgba(0, 0, 0, 0.3));\n",
              "      fill: #FFFFFF;\n",
              "    }\n",
              "  </style>\n",
              "\n",
              "      <script>\n",
              "        const buttonEl =\n",
              "          document.querySelector('#df-af69d3a6-5a9d-4529-bf2b-3bd5629e958f button.colab-df-convert');\n",
              "        buttonEl.style.display =\n",
              "          google.colab.kernel.accessAllowed ? 'block' : 'none';\n",
              "\n",
              "        async function convertToInteractive(key) {\n",
              "          const element = document.querySelector('#df-af69d3a6-5a9d-4529-bf2b-3bd5629e958f');\n",
              "          const dataTable =\n",
              "            await google.colab.kernel.invokeFunction('convertToInteractive',\n",
              "                                                     [key], {});\n",
              "          if (!dataTable) return;\n",
              "\n",
              "          const docLinkHtml = 'Like what you see? Visit the ' +\n",
              "            '<a target=\"_blank\" href=https://colab.research.google.com/notebooks/data_table.ipynb>data table notebook</a>'\n",
              "            + ' to learn more about interactive tables.';\n",
              "          element.innerHTML = '';\n",
              "          dataTable['output_type'] = 'display_data';\n",
              "          await google.colab.output.renderOutput(dataTable, element);\n",
              "          const docLink = document.createElement('div');\n",
              "          docLink.innerHTML = docLinkHtml;\n",
              "          element.appendChild(docLink);\n",
              "        }\n",
              "      </script>\n",
              "    </div>\n",
              "  </div>\n",
              "  "
            ]
          },
          "metadata": {},
          "execution_count": 17
        }
      ]
    },
    {
      "cell_type": "code",
      "source": [
        "df_importance = df_importance[df_importance.gain > 0]"
      ],
      "metadata": {
        "id": "J3hM8JTuRN0_"
      },
      "execution_count": 18,
      "outputs": []
    },
    {
      "cell_type": "code",
      "source": [
        "num = len(df_importance)\n",
        "plt.barh(range(num), df_importance.gain[::-1])\n",
        "plt.yticks(range(num), df_importance.feature[::-1])\n",
        "\n",
        "plt.show()"
      ],
      "metadata": {
        "colab": {
          "base_uri": "https://localhost:8080/",
          "height": 262
        },
        "id": "lfyLhDvfRjk1",
        "outputId": "ef6fcebe-d4e7-45f9-8308-113d690822ca"
      },
      "execution_count": 19,
      "outputs": [
        {
          "output_type": "display_data",
          "data": {
            "text/plain": [
              "<Figure size 432x288 with 1 Axes>"
            ],
            "image/png": "[encoded data removed]"
          },
          "metadata": {
            "needs_background": "light"
          }
        }
      ]
    },
    {
      "cell_type": "markdown",
      "source": [
        "* What's the most important feature?\n",
        "\n",
        "### **Answer: median_income**"
      ],
      "metadata": {
        "id": "fNDB3LyG_u8Y"
      }
    },
    {
      "cell_type": "markdown",
      "source": [
        "Question 6\n",
        "\n",
        "Now let's train an XGBoost model! For this question, we'll tune the eta parameter:\n",
        "\n",
        "* Install XGBoost.\n",
        "* Create DMatrix for train and validation\n",
        "* Create a watchlist\n",
        "* Train a model with these parameters for 100 rounds:\n",
        "\n"
      ],
      "metadata": {
        "id": "PesmIEDQ_4zp"
      }
    },
    {
      "cell_type": "code",
      "source": [
        "!pip install xgboost"
      ],
      "metadata": {
        "colab": {
          "base_uri": "https://localhost:8080/"
        },
        "id": "J2nRAaeLW5sx",
        "outputId": "2b85d5cf-04bf-4df3-cec0-5fbbdc48d4ae"
      },
      "execution_count": 20,
      "outputs": [
        {
          "output_type": "stream",
          "name": "stdout",
          "text": [
            "Looking in indexes: https://pypi.org/simple, https://us-python.pkg.dev/colab-wheels/public/simple/\n",
            "Requirement already satisfied: xgboost in /usr/local/lib/python3.7/dist-packages (0.90)\n",
            "Requirement already satisfied: numpy in /usr/local/lib/python3.7/dist-packages (from xgboost) (1.21.6)\n",
            "Requirement already satisfied: scipy in /usr/local/lib/python3.7/dist-packages (from xgboost) (1.7.3)\n"
          ]
        }
      ]
    },
    {
      "cell_type": "code",
      "source": [
        "import xgboost as xgb"
      ],
      "metadata": {
        "id": "gkdVw_TuXASf"
      },
      "execution_count": 21,
      "outputs": []
    },
    {
      "cell_type": "code",
      "source": [
        "# Create the DMatrix \n",
        "features = dv.feature_names_\n",
        "\n",
        "regex = re.compile(r\"<\", re.IGNORECASE)\n",
        "features = [regex.sub(\"_\", col) if any(x in str(col) for x in set(('[', ']', '<'))) else col for col in features]\n",
        "\n",
        "dtrain = xgb.DMatrix(X_train, label=y_train, feature_names=features)\n",
        "dval = xgb.DMatrix(X_val, label=y_val, feature_names=features)"
      ],
      "metadata": {
        "id": "vVs4a2_a_rIy"
      },
      "execution_count": 22,
      "outputs": []
    },
    {
      "cell_type": "code",
      "source": [
        "watchlist =[(dtrain,'train'),(dval,'val')]"
      ],
      "metadata": {
        "id": "XRTi1SLkbz0U"
      },
      "execution_count": 23,
      "outputs": []
    },
    {
      "cell_type": "code",
      "source": [
        "%%capture output\n",
        "\n",
        "xgb_params = {  \n",
        "    'eta': 0.3,  \n",
        "    'max_depth': 6,  \n",
        "    'min_child_weight': 1,  \n",
        "\n",
        "    'objective': 'reg:squarederror',\n",
        "    'nthread': 8,\n",
        "\n",
        "    'seed': 1,\n",
        "    'verbosity': 1,\n",
        "}\n",
        "\n",
        "model = xgb.train(xgb_params, dtrain,num_boost_round=100,verbose_eval=1,\n",
        "                  evals=watchlist)\n",
        "y_pred = model.predict(dval)\n"
      ],
      "metadata": {
        "id": "GMKZhxKEbYYW"
      },
      "execution_count": 24,
      "outputs": []
    },
    {
      "cell_type": "code",
      "source": [
        "rmse = mean_squared_error(y_pred,y_val)**0.5\n",
        "print(rmse)"
      ],
      "metadata": {
        "colab": {
          "base_uri": "https://localhost:8080/"
        },
        "id": "0xW4cOEJbnPI",
        "outputId": "e94a64a7-8ca1-4a32-c7c5-3926cdcbd44f"
      },
      "execution_count": 25,
      "outputs": [
        {
          "output_type": "stream",
          "name": "stdout",
          "text": [
            "0.2260957847928297\n"
          ]
        }
      ]
    },
    {
      "cell_type": "markdown",
      "source": [
        "### Now, change eta first to 0.1 and then to 0.01.\n",
        "\n"
      ],
      "metadata": {
        "id": "LeZZldescMGt"
      }
    },
    {
      "cell_type": "code",
      "source": [
        "%%capture output\n",
        "\n",
        "xgb_params = {  \n",
        "    'eta': 0.1,  \n",
        "    'max_depth': 6,  \n",
        "    'min_child_weight': 1,  \n",
        "\n",
        "    'objective': 'reg:squarederror',\n",
        "    'nthread': 8,\n",
        "\n",
        "    'seed': 1,\n",
        "    'verbosity': 1,\n",
        "}\n",
        "\n",
        "model = xgb.train(xgb_params, dtrain,num_boost_round=100,verbose_eval=1,\n",
        "                  evals=watchlist)\n",
        "y_pred = model.predict(dval)\n",
        "\n",
        "rmse = mean_squared_error(y_pred,y_val)**0.5\n"
      ],
      "metadata": {
        "id": "hWAho2WCAVU9"
      },
      "execution_count": 26,
      "outputs": []
    },
    {
      "cell_type": "code",
      "source": [
        "rmse"
      ],
      "metadata": {
        "colab": {
          "base_uri": "https://localhost:8080/"
        },
        "id": "Fg3HC8QgYxxZ",
        "outputId": "9aedd6ac-6ccb-4ac7-f747-03fecc1da8ee"
      },
      "execution_count": 27,
      "outputs": [
        {
          "output_type": "execute_result",
          "data": {
            "text/plain": [
              "0.2305416021993131"
            ]
          },
          "metadata": {},
          "execution_count": 27
        }
      ]
    },
    {
      "cell_type": "code",
      "source": [
        "%%capture output\n",
        "\n",
        "xgb_params = {  \n",
        "    'eta': 0.01,  \n",
        "    'max_depth': 6,  \n",
        "    'min_child_weight': 1,  \n",
        "\n",
        "    'objective': 'reg:squarederror',\n",
        "    'nthread': 8,\n",
        "\n",
        "    'seed': 1,\n",
        "    'verbosity': 1,\n",
        "}\n",
        "\n",
        "model = xgb.train(xgb_params, dtrain,num_boost_round=100,verbose_eval=1,\n",
        "                  evals=watchlist)\n",
        "y_pred = model.predict(dval)\n",
        "\n",
        "rmse = mean_squared_error(y_pred,y_val)**0.5\n"
      ],
      "metadata": {
        "id": "cDcRHOBHY4zb"
      },
      "execution_count": 28,
      "outputs": []
    },
    {
      "cell_type": "code",
      "source": [
        "rmse"
      ],
      "metadata": {
        "colab": {
          "base_uri": "https://localhost:8080/"
        },
        "id": "0mwg-f9CZNUo",
        "outputId": "7c6a5a7b-992c-4284-90a0-499172b47541"
      },
      "execution_count": 29,
      "outputs": [
        {
          "output_type": "execute_result",
          "data": {
            "text/plain": [
              "4.264961152048471"
            ]
          },
          "metadata": {},
          "execution_count": 29
        }
      ]
    },
    {
      "cell_type": "markdown",
      "source": [
        "Which eta leads to the best RMSE score on the validation dataset?\n",
        "\n",
        "* 0.3\n",
        "* 0.1\n",
        "* Both give the same"
      ],
      "metadata": {
        "id": "ZcK5TQB3Djnf"
      }
    },
    {
      "cell_type": "markdown",
      "source": [
        "### **Answer: 0.1**"
      ],
      "metadata": {
        "id": "k2cyZrxFo1t7"
      }
    },
    {
      "cell_type": "code",
      "source": [],
      "metadata": {
        "id": "GvUMzwNao8zi"
      },
      "execution_count": null,
      "outputs": []
    }
  ]
}