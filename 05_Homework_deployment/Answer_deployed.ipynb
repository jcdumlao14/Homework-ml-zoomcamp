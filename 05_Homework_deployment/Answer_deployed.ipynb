{
  "nbformat": 4,
  "nbformat_minor": 0,
  "metadata": {
    "colab": {
      "provenance": []
    },
    "kernelspec": {
      "name": "python3",
      "display_name": "Python 3"
    },
    "language_info": {
      "name": "python"
    }
  },
  "cells": [
    {
      "cell_type": "markdown",
      "source": [
        "# **05 Homework Deployment- Credit Card Dataset**\n",
        "---\n",
        "In this homework, we will use Credit Card Data from the previous homework. https://github.com/alexeygrigorev/mlbookcamp-code/blob/master/course-zoomcamp/cohorts/2022/04-evaluation/homework.md\n",
        "\n"
      ],
      "metadata": {
        "id": "ohzIkHOQqD6C"
      }
    },
    {
      "cell_type": "markdown",
      "source": [
        "# **Question 1**\n",
        "---\n",
        "* Install Pipenv\n",
        "* What's the version of pipenv you installed?\n",
        "* Use `--version` to find out"
      ],
      "metadata": {
        "id": "8mU0Uo6rqXpW"
      }
    },
    {
      "cell_type": "markdown",
      "source": [
        "## **Answer: pipenv version 2022.10.4**"
      ],
      "metadata": {
        "id": "4_cSydeZUgj7"
      }
    },
    {
      "cell_type": "markdown",
      "source": [
        "# **Question 2**\n",
        "---\n",
        "* Use Pipenv to install Scikit-Learn version 1.0.2\n",
        "* What's the first hash for scikit-learn you get in Pipfile.lock?\n",
        "\n",
        "Note: you should create an empty folder for homework and do it there."
      ],
      "metadata": {
        "id": "6EDSnYyAqloR"
      }
    },
    {
      "cell_type": "markdown",
      "source": [
        "## Answer: \n",
        " \"index\": \"pypi\",\n",
        "            \"version\": \"==1.0.2\"\n",
        "        },\n",
        "        \"scipy\": {\n",
        "            \"hashes\": [\n",
        "                \"sha256:06d2e1b4c491dc7d8eacea139a1b0b295f74e1a1a0f704c375028f8320d16e31\",\n",
        "                \"sha256:0d54222d7a3ba6022fdf5773931b5d7c56efe41ede7f7128c7b1637700409108\","
      ],
      "metadata": {
        "id": "jHFWM5obiQN3"
      }
    },
    {
      "cell_type": "markdown",
      "source": [
        "## **Models**\n",
        "\n",
        "We've prepared a dictionary vectorizer and a model.\n",
        "\n",
        "They were trained (roughly) using this code:\n",
        "\n"
      ],
      "metadata": {
        "id": "g5TKG44QqvPD"
      }
    },
    {
      "cell_type": "markdown",
      "source": [
        "```\n",
        "features = ['reports', 'share', 'expenditure', 'owner']\n",
        "dicts = df[features].to_dict(orient='records')\n",
        "\n",
        "dv = DictVectorizer(sparse=False)\n",
        "X = dv.fit_transform(dicts)\n",
        "\n",
        "model = LogisticRegression(solver='liblinear').fit(X, y)\n",
        "```"
      ],
      "metadata": {
        "id": "wHJd6s34Yat5"
      }
    },
    {
      "cell_type": "markdown",
      "source": [
        "\n",
        "\n",
        "> Note: You don't need to train the model. This code is just for your reference.\n",
        "\n",
        "And then saved with Pickle. Download them:\n",
        "\n",
        "* DictVectorizer\n",
        "* LogisticRegression\n",
        "\n",
        "With wget:\n",
        "\n"
      ],
      "metadata": {
        "id": "CEMung2jrCng"
      }
    },
    {
      "cell_type": "markdown",
      "source": [
        "```\n",
        "PREFIX=https://raw.githubusercontent.com/alexeygrigorev/mlbookcamp-code/master/course-zoomcamp/cohorts/2022/05-deployment/homework\n",
        "wget $PREFIX/model1.bin\n",
        "wget $PREFIX/dv.bin\n",
        "```"
      ],
      "metadata": {
        "id": "EKbg6pG6Hj0l"
      }
    },
    {
      "cell_type": "markdown",
      "source": [
        "# **Question 3**\n",
        "\n",
        "Let's use these models!\n",
        "\n",
        "* Write a script for loading these models with pickle\n",
        "* Score this client:"
      ],
      "metadata": {
        "id": "kI6ouFL5rnoF"
      }
    },
    {
      "cell_type": "code",
      "source": [
        "{\"reports\": 0, \"share\": 0.001694, \"expenditure\": 0.12, \"owner\": \"yes\"}"
      ],
      "metadata": {
        "id": "EFK_c6WWrjQi"
      },
      "execution_count": null,
      "outputs": []
    },
    {
      "cell_type": "markdown",
      "source": [
        "What's the probability that this client will get a credit card?\n",
        "\n",
        "* 0.162\n",
        "* 0.391\n",
        "* 0.601\n",
        "* 0.993"
      ],
      "metadata": {
        "id": "Pct5oRzrr0A3"
      }
    },
    {
      "cell_type": "markdown",
      "source": [
        "## **Answer: 0.162**"
      ],
      "metadata": {
        "id": "rbalSwDHwjrt"
      }
    },
    {
      "cell_type": "markdown",
      "source": [
        "If you're getting errors when unpickling the files, check their checksum:\n",
        "\n"
      ],
      "metadata": {
        "id": "86hqyjqVr9LR"
      }
    },
    {
      "cell_type": "code",
      "source": [
        "$ md5sum model1.bin dv.bin\n",
        "3f57f3ebfdf57a9e1368dcd0f28a4a14  model1.bin\n",
        "6b7cded86a52af7e81859647fa3a5c2e  dv.bin"
      ],
      "metadata": {
        "id": "D69ZhEn8sC79"
      },
      "execution_count": null,
      "outputs": []
    },
    {
      "cell_type": "markdown",
      "source": [
        "# **Question 4**\n",
        "---\n",
        "Now let's serve this model as a web service\n",
        "\n",
        "* Install Flask and gunicorn (or waitress, if you're on Windows)\n",
        "* Write Flask code for serving the model\n",
        "* Now score this client using requests:\n"
      ],
      "metadata": {
        "id": "eHf05Qq8sNm4"
      }
    },
    {
      "cell_type": "code",
      "source": [
        "url = \"YOUR_URL\"\n",
        "client = {\"reports\": 0, \"share\": 0.245, \"expenditure\": 3.438, \"owner\": \"yes\"}\n",
        "requests.post(url, json=client).json()"
      ],
      "metadata": {
        "id": "DQ-7ikDCsG8L"
      },
      "execution_count": null,
      "outputs": []
    },
    {
      "cell_type": "markdown",
      "source": [
        "What's the probability that this client will get a credit card?\n",
        "\n",
        "* 0.274\n",
        "* 0.484\n",
        "* 0.698\n",
        "* 0.928"
      ],
      "metadata": {
        "id": "Ef1N5FuIshFQ"
      }
    },
    {
      "cell_type": "markdown",
      "source": [
        "## **Answer: 0.928**"
      ],
      "metadata": {
        "id": "pksQGgXVG2QX"
      }
    },
    {
      "cell_type": "markdown",
      "source": [
        "# **Docker**\n",
        "---\n",
        "Install Docker. We will use it for the next two questions.\n",
        "\n",
        "\n",
        "For these questions, we prepared a base image: svizor/zoomcamp-model:3.9.12-slim. You'll need to use it (see Question 5 for an example).\n",
        "\n",
        "\n",
        "This image is based on python:3.9.12-slim and has a logistic regression model (a different one) as well a dictionary vectorizer inside.\n",
        "\n",
        "\n",
        "This is how the Dockerfile for this image looks like:\n",
        "\n"
      ],
      "metadata": {
        "id": "wPLt8LhSsriy"
      }
    },
    {
      "cell_type": "code",
      "source": [
        "FROM python:3.9.12-slim\n",
        "WORKDIR /app\n",
        "COPY [\"model2.bin\", \"dv.bin\", \"./\"]"
      ],
      "metadata": {
        "id": "RLvolqjMsdHl"
      },
      "execution_count": null,
      "outputs": []
    },
    {
      "cell_type": "markdown",
      "source": [
        "We already built it and then pushed it to [svizor/zoomcamp-model:3.9.12-slim](https://hub.docker.com/r/svizor/zoomcamp-model)\n",
        "\n",
        "\n",
        "\n",
        "> Note: You don't need to build this docker image, it's just for your reference.\n",
        "\n",
        "\n",
        "\n"
      ],
      "metadata": {
        "id": "1jSNADFHtCl5"
      }
    },
    {
      "cell_type": "markdown",
      "source": [
        "# **Question 5**\n",
        "---\n",
        "Download the base image svizor/zoomcamp-model:3.9.12-slim. You can easily make it by using [docker pull](https://docs.docker.com/engine/reference/commandline/pull/) command.\n",
        "\n",
        "\n",
        "So what's the size of this base image?\n",
        "\n",
        "\n",
        "* 15 Mb\n",
        "* 125 Mb\n",
        "* 275 Mb\n",
        "* 415 Mb\n",
        "\n",
        "You can get this information when running `docker images` - it'll be in the \"SIZE\" column.\n",
        "\n"
      ],
      "metadata": {
        "id": "ih4XL3hdtTHn"
      }
    },
    {
      "cell_type": "markdown",
      "source": [
        "## **Answer: 125 Mb**"
      ],
      "metadata": {
        "id": "rFI1_vqCIrYm"
      }
    },
    {
      "cell_type": "markdown",
      "source": [
        "# **Dockerfile**\n",
        "\n",
        "Now create your own Dockerfile based on the image we prepared.\n",
        "\n",
        "\n",
        "It should start like that:"
      ],
      "metadata": {
        "id": "NDZRedsWtitK"
      }
    },
    {
      "cell_type": "code",
      "source": [
        "FROM svizor/zoomcamp-model:3.9.12-slim\n",
        "# add your stuff here"
      ],
      "metadata": {
        "id": "mlN7E_2ms72O"
      },
      "execution_count": null,
      "outputs": []
    },
    {
      "cell_type": "markdown",
      "source": [
        "Now complete it:\n",
        "\n",
        "* Install all the dependencies form the Pipenv file\n",
        "* Copy your Flask script\n",
        "* Run it with Gunicorn\n",
        "\n",
        "After that, you can build your docker image.\n",
        "\n"
      ],
      "metadata": {
        "id": "LSIY3-n9twGE"
      }
    },
    {
      "cell_type": "markdown",
      "source": [
        "# **Question 6**\n",
        "---\n",
        "Let's run your docker container!\n",
        "\n",
        "\n",
        "After running it, score this client once again:\n",
        "\n"
      ],
      "metadata": {
        "id": "RfaJo9ULt8LU"
      }
    },
    {
      "cell_type": "code",
      "source": [
        "url = \"YOUR_URL\"\n",
        "client = {\"reports\": 0, \"share\": 0.245, \"expenditure\": 3.438, \"owner\": \"yes\"}\n",
        "requests.post(url, json=client).json()"
      ],
      "metadata": {
        "id": "wQ1L8fWBtqe4"
      },
      "execution_count": null,
      "outputs": []
    },
    {
      "cell_type": "markdown",
      "source": [
        "What's the probability that this client will get a credit card now?\n",
        "\n",
        "* 0.289\n",
        "* 0.502\n",
        "* 0.769\n",
        "* 0.972"
      ],
      "metadata": {
        "id": "bV5QjF2CuIqA"
      }
    },
    {
      "cell_type": "markdown",
      "source": [
        "## **Answer 0.769**"
      ],
      "metadata": {
        "id": "93I_O6lKMSPl"
      }
    },
    {
      "cell_type": "code",
      "source": [],
      "metadata": {
        "id": "vxn3HuLZuE79"
      },
      "execution_count": null,
      "outputs": []
    }
  ]
}