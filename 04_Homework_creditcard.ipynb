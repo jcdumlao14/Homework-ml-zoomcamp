{
  "nbformat": 4,
  "nbformat_minor": 0,
  "metadata": {
    "colab": {
      "provenance": [],
      "collapsed_sections": [],
      "authorship_tag": "ABX9TyNo92BWbGkMP0ob9/N8WEAj",
      "include_colab_link": true
    },
    "kernelspec": {
      "name": "python3",
      "display_name": "Python 3"
    },
    "language_info": {
      "name": "python"
    }
  },
  "cells": [
    {
      "cell_type": "markdown",
      "metadata": {
        "id": "view-in-github",
        "colab_type": "text"
      },
      "source": [
        "<a href=\"https://colab.research.google.com/github/jcdumlao14/Homework-ml-zoomcamp/blob/main/04_Homework_creditcard.ipynb\" target=\"_parent\"><img src=\"https://colab.research.google.com/assets/colab-badge.svg\" alt=\"Open In Colab\"/></a>"
      ]
    },
    {
      "cell_type": "markdown",
      "source": [
        "# **Machine Learning Zoomcamp 2022**\n",
        "\n",
        "### Credit Card Data from book \"Econometric Analysis\""
      ],
      "metadata": {
        "id": "Tp32YHbLW_6U"
      }
    },
    {
      "cell_type": "markdown",
      "source": [
        "## **Homework 04**"
      ],
      "metadata": {
        "id": "s4F7ATwXuUQr"
      }
    },
    {
      "cell_type": "markdown",
      "source": [
        "\n",
        "\n",
        "> Note: sometimes your answer doesn't match one of the options exactly. That's fine. Select the option that's closest to your solution.\n",
        "\n",
        "\n",
        "\n"
      ],
      "metadata": {
        "id": "wHQPvsajW_10"
      }
    },
    {
      "cell_type": "code",
      "source": [
        "import pandas as pd\n",
        "import numpy as np\n",
        "import seaborn as sns\n",
        "\n",
        "import matplotlib.pyplot as plt\n",
        "plt.rcParams['figure.figsize'] = (12,5)\n",
        "plt.style.use('fivethirtyeight')\n",
        "\n",
        "import warnings \n",
        "warnings.filterwarnings(\"ignore\")\n"
      ],
      "metadata": {
        "id": "60JNBY1ra-ji"
      },
      "execution_count": 1,
      "outputs": []
    },
    {
      "cell_type": "code",
      "source": [
        "from sklearn.model_selection import train_test_split\n",
        "from sklearn.feature_extraction import DictVectorizer\n",
        "from sklearn.linear_model import LogisticRegression"
      ],
      "metadata": {
        "id": "9fuHjoR0bCle"
      },
      "execution_count": 2,
      "outputs": []
    },
    {
      "cell_type": "markdown",
      "source": [
        "Dataset"
      ],
      "metadata": {
        "id": "Zk7Fdu7OW_q_"
      }
    },
    {
      "cell_type": "markdown",
      "source": [
        "In this homework, we will use Credit Card Data from book \"Econometric Analysis\".\n",
        "\n",
        "Here's a wget-able link:"
      ],
      "metadata": {
        "id": "PMaYREaHXUjL"
      }
    },
    {
      "cell_type": "code",
      "source": [
        "!wget https://raw.githubusercontent.com/alexeygrigorev/datasets/master/AER_credit_card_data.csv"
      ],
      "metadata": {
        "colab": {
          "base_uri": "https://localhost:8080/"
        },
        "id": "nPxhG486XUHz",
        "outputId": "281087c1-206f-4936-9271-b97d0d60d80c"
      },
      "execution_count": 3,
      "outputs": [
        {
          "output_type": "stream",
          "name": "stdout",
          "text": [
            "--2022-10-01 19:39:43--  https://raw.githubusercontent.com/alexeygrigorev/datasets/master/AER_credit_card_data.csv\n",
            "Resolving raw.githubusercontent.com (raw.githubusercontent.com)... 185.199.108.133, 185.199.109.133, 185.199.110.133, ...\n",
            "Connecting to raw.githubusercontent.com (raw.githubusercontent.com)|185.199.108.133|:443... connected.\n",
            "HTTP request sent, awaiting response... 200 OK\n",
            "Length: 73250 (72K) [text/plain]\n",
            "Saving to: ‘AER_credit_card_data.csv’\n",
            "\n",
            "\rAER_credit_card_dat   0%[                    ]       0  --.-KB/s               \rAER_credit_card_dat 100%[===================>]  71.53K  --.-KB/s    in 0.01s   \n",
            "\n",
            "2022-10-01 19:39:43 (4.70 MB/s) - ‘AER_credit_card_data.csv’ saved [73250/73250]\n",
            "\n"
          ]
        }
      ]
    },
    {
      "cell_type": "markdown",
      "source": [
        "The goal of this homework is to inspect the output of different evaluation metrics by creating a classification model (target column card).\n",
        "\n"
      ],
      "metadata": {
        "id": "hmYjk-tpXmOJ"
      }
    },
    {
      "cell_type": "code",
      "source": [
        "df = pd.read_csv('AER_credit_card_data.csv')\n",
        "df.columns = df.columns.str.lower()"
      ],
      "metadata": {
        "id": "M62OUUhNbM2f"
      },
      "execution_count": 4,
      "outputs": []
    },
    {
      "cell_type": "code",
      "source": [
        "df.head(10)"
      ],
      "metadata": {
        "colab": {
          "base_uri": "https://localhost:8080/",
          "height": 363
        },
        "id": "7WPlppISb1-D",
        "outputId": "35ad1b21-dae5-4111-d7ed-44aa07c93b4f"
      },
      "execution_count": 5,
      "outputs": [
        {
          "output_type": "execute_result",
          "data": {
            "text/plain": [
              "  card  reports       age  income     share  expenditure owner selfemp  \\\n",
              "0  yes        0  37.66667  4.5200  0.033270   124.983300   yes      no   \n",
              "1  yes        0  33.25000  2.4200  0.005217     9.854167    no      no   \n",
              "2  yes        0  33.66667  4.5000  0.004156    15.000000   yes      no   \n",
              "3  yes        0  30.50000  2.5400  0.065214   137.869200    no      no   \n",
              "4  yes        0  32.16667  9.7867  0.067051   546.503300   yes      no   \n",
              "5  yes        0  23.25000  2.5000  0.044438    91.996670    no      no   \n",
              "6  yes        0  27.91667  3.9600  0.012576    40.833330    no      no   \n",
              "7  yes        0  29.16667  2.3700  0.076434   150.790000   yes      no   \n",
              "8  yes        0  37.00000  3.8000  0.245628   777.821700   yes      no   \n",
              "9  yes        0  28.41667  3.2000  0.019780    52.580000    no      no   \n",
              "\n",
              "   dependents  months  majorcards  active  \n",
              "0           3      54           1      12  \n",
              "1           3      34           1      13  \n",
              "2           4      58           1       5  \n",
              "3           0      25           1       7  \n",
              "4           2      64           1       5  \n",
              "5           0      54           1       1  \n",
              "6           2       7           1       5  \n",
              "7           0      77           1       3  \n",
              "8           0      97           1       6  \n",
              "9           0      65           1      18  "
            ],
            "text/html": [
              "\n",
              "  <div id=\"df-b8cf2994-0115-41c4-9ed0-df944a2b94ec\">\n",
              "    <div class=\"colab-df-container\">\n",
              "      <div>\n",
              "<style scoped>\n",
              "    .dataframe tbody tr th:only-of-type {\n",
              "        vertical-align: middle;\n",
              "    }\n",
              "\n",
              "    .dataframe tbody tr th {\n",
              "        vertical-align: top;\n",
              "    }\n",
              "\n",
              "    .dataframe thead th {\n",
              "        text-align: right;\n",
              "    }\n",
              "</style>\n",
              "<table border=\"1\" class=\"dataframe\">\n",
              "  <thead>\n",
              "    <tr style=\"text-align: right;\">\n",
              "      <th></th>\n",
              "      <th>card</th>\n",
              "      <th>reports</th>\n",
              "      <th>age</th>\n",
              "      <th>income</th>\n",
              "      <th>share</th>\n",
              "      <th>expenditure</th>\n",
              "      <th>owner</th>\n",
              "      <th>selfemp</th>\n",
              "      <th>dependents</th>\n",
              "      <th>months</th>\n",
              "      <th>majorcards</th>\n",
              "      <th>active</th>\n",
              "    </tr>\n",
              "  </thead>\n",
              "  <tbody>\n",
              "    <tr>\n",
              "      <th>0</th>\n",
              "      <td>yes</td>\n",
              "      <td>0</td>\n",
              "      <td>37.66667</td>\n",
              "      <td>4.5200</td>\n",
              "      <td>0.033270</td>\n",
              "      <td>124.983300</td>\n",
              "      <td>yes</td>\n",
              "      <td>no</td>\n",
              "      <td>3</td>\n",
              "      <td>54</td>\n",
              "      <td>1</td>\n",
              "      <td>12</td>\n",
              "    </tr>\n",
              "    <tr>\n",
              "      <th>1</th>\n",
              "      <td>yes</td>\n",
              "      <td>0</td>\n",
              "      <td>33.25000</td>\n",
              "      <td>2.4200</td>\n",
              "      <td>0.005217</td>\n",
              "      <td>9.854167</td>\n",
              "      <td>no</td>\n",
              "      <td>no</td>\n",
              "      <td>3</td>\n",
              "      <td>34</td>\n",
              "      <td>1</td>\n",
              "      <td>13</td>\n",
              "    </tr>\n",
              "    <tr>\n",
              "      <th>2</th>\n",
              "      <td>yes</td>\n",
              "      <td>0</td>\n",
              "      <td>33.66667</td>\n",
              "      <td>4.5000</td>\n",
              "      <td>0.004156</td>\n",
              "      <td>15.000000</td>\n",
              "      <td>yes</td>\n",
              "      <td>no</td>\n",
              "      <td>4</td>\n",
              "      <td>58</td>\n",
              "      <td>1</td>\n",
              "      <td>5</td>\n",
              "    </tr>\n",
              "    <tr>\n",
              "      <th>3</th>\n",
              "      <td>yes</td>\n",
              "      <td>0</td>\n",
              "      <td>30.50000</td>\n",
              "      <td>2.5400</td>\n",
              "      <td>0.065214</td>\n",
              "      <td>137.869200</td>\n",
              "      <td>no</td>\n",
              "      <td>no</td>\n",
              "      <td>0</td>\n",
              "      <td>25</td>\n",
              "      <td>1</td>\n",
              "      <td>7</td>\n",
              "    </tr>\n",
              "    <tr>\n",
              "      <th>4</th>\n",
              "      <td>yes</td>\n",
              "      <td>0</td>\n",
              "      <td>32.16667</td>\n",
              "      <td>9.7867</td>\n",
              "      <td>0.067051</td>\n",
              "      <td>546.503300</td>\n",
              "      <td>yes</td>\n",
              "      <td>no</td>\n",
              "      <td>2</td>\n",
              "      <td>64</td>\n",
              "      <td>1</td>\n",
              "      <td>5</td>\n",
              "    </tr>\n",
              "    <tr>\n",
              "      <th>5</th>\n",
              "      <td>yes</td>\n",
              "      <td>0</td>\n",
              "      <td>23.25000</td>\n",
              "      <td>2.5000</td>\n",
              "      <td>0.044438</td>\n",
              "      <td>91.996670</td>\n",
              "      <td>no</td>\n",
              "      <td>no</td>\n",
              "      <td>0</td>\n",
              "      <td>54</td>\n",
              "      <td>1</td>\n",
              "      <td>1</td>\n",
              "    </tr>\n",
              "    <tr>\n",
              "      <th>6</th>\n",
              "      <td>yes</td>\n",
              "      <td>0</td>\n",
              "      <td>27.91667</td>\n",
              "      <td>3.9600</td>\n",
              "      <td>0.012576</td>\n",
              "      <td>40.833330</td>\n",
              "      <td>no</td>\n",
              "      <td>no</td>\n",
              "      <td>2</td>\n",
              "      <td>7</td>\n",
              "      <td>1</td>\n",
              "      <td>5</td>\n",
              "    </tr>\n",
              "    <tr>\n",
              "      <th>7</th>\n",
              "      <td>yes</td>\n",
              "      <td>0</td>\n",
              "      <td>29.16667</td>\n",
              "      <td>2.3700</td>\n",
              "      <td>0.076434</td>\n",
              "      <td>150.790000</td>\n",
              "      <td>yes</td>\n",
              "      <td>no</td>\n",
              "      <td>0</td>\n",
              "      <td>77</td>\n",
              "      <td>1</td>\n",
              "      <td>3</td>\n",
              "    </tr>\n",
              "    <tr>\n",
              "      <th>8</th>\n",
              "      <td>yes</td>\n",
              "      <td>0</td>\n",
              "      <td>37.00000</td>\n",
              "      <td>3.8000</td>\n",
              "      <td>0.245628</td>\n",
              "      <td>777.821700</td>\n",
              "      <td>yes</td>\n",
              "      <td>no</td>\n",
              "      <td>0</td>\n",
              "      <td>97</td>\n",
              "      <td>1</td>\n",
              "      <td>6</td>\n",
              "    </tr>\n",
              "    <tr>\n",
              "      <th>9</th>\n",
              "      <td>yes</td>\n",
              "      <td>0</td>\n",
              "      <td>28.41667</td>\n",
              "      <td>3.2000</td>\n",
              "      <td>0.019780</td>\n",
              "      <td>52.580000</td>\n",
              "      <td>no</td>\n",
              "      <td>no</td>\n",
              "      <td>0</td>\n",
              "      <td>65</td>\n",
              "      <td>1</td>\n",
              "      <td>18</td>\n",
              "    </tr>\n",
              "  </tbody>\n",
              "</table>\n",
              "</div>\n",
              "      <button class=\"colab-df-convert\" onclick=\"convertToInteractive('df-b8cf2994-0115-41c4-9ed0-df944a2b94ec')\"\n",
              "              title=\"Convert this dataframe to an interactive table.\"\n",
              "              style=\"display:none;\">\n",
              "        \n",
              "  <svg xmlns=\"http://www.w3.org/2000/svg\" height=\"24px\"viewBox=\"0 0 24 24\"\n",
              "       width=\"24px\">\n",
              "    <path d=\"M0 0h24v24H0V0z\" fill=\"none\"/>\n",
              "    <path d=\"M18.56 5.44l.94 2.06.94-2.06 2.06-.94-2.06-.94-.94-2.06-.94 2.06-2.06.94zm-11 1L8.5 8.5l.94-2.06 2.06-.94-2.06-.94L8.5 2.5l-.94 2.06-2.06.94zm10 10l.94 2.06.94-2.06 2.06-.94-2.06-.94-.94-2.06-.94 2.06-2.06.94z\"/><path d=\"M17.41 7.96l-1.37-1.37c-.4-.4-.92-.59-1.43-.59-.52 0-1.04.2-1.43.59L10.3 9.45l-7.72 7.72c-.78.78-.78 2.05 0 2.83L4 21.41c.39.39.9.59 1.41.59.51 0 1.02-.2 1.41-.59l7.78-7.78 2.81-2.81c.8-.78.8-2.07 0-2.86zM5.41 20L4 18.59l7.72-7.72 1.47 1.35L5.41 20z\"/>\n",
              "  </svg>\n",
              "      </button>\n",
              "      \n",
              "  <style>\n",
              "    .colab-df-container {\n",
              "      display:flex;\n",
              "      flex-wrap:wrap;\n",
              "      gap: 12px;\n",
              "    }\n",
              "\n",
              "    .colab-df-convert {\n",
              "      background-color: #E8F0FE;\n",
              "      border: none;\n",
              "      border-radius: 50%;\n",
              "      cursor: pointer;\n",
              "      display: none;\n",
              "      fill: #1967D2;\n",
              "      height: 32px;\n",
              "      padding: 0 0 0 0;\n",
              "      width: 32px;\n",
              "    }\n",
              "\n",
              "    .colab-df-convert:hover {\n",
              "      background-color: #E2EBFA;\n",
              "      box-shadow: 0px 1px 2px rgba(60, 64, 67, 0.3), 0px 1px 3px 1px rgba(60, 64, 67, 0.15);\n",
              "      fill: #174EA6;\n",
              "    }\n",
              "\n",
              "    [theme=dark] .colab-df-convert {\n",
              "      background-color: #3B4455;\n",
              "      fill: #D2E3FC;\n",
              "    }\n",
              "\n",
              "    [theme=dark] .colab-df-convert:hover {\n",
              "      background-color: #434B5C;\n",
              "      box-shadow: 0px 1px 3px 1px rgba(0, 0, 0, 0.15);\n",
              "      filter: drop-shadow(0px 1px 2px rgba(0, 0, 0, 0.3));\n",
              "      fill: #FFFFFF;\n",
              "    }\n",
              "  </style>\n",
              "\n",
              "      <script>\n",
              "        const buttonEl =\n",
              "          document.querySelector('#df-b8cf2994-0115-41c4-9ed0-df944a2b94ec button.colab-df-convert');\n",
              "        buttonEl.style.display =\n",
              "          google.colab.kernel.accessAllowed ? 'block' : 'none';\n",
              "\n",
              "        async function convertToInteractive(key) {\n",
              "          const element = document.querySelector('#df-b8cf2994-0115-41c4-9ed0-df944a2b94ec');\n",
              "          const dataTable =\n",
              "            await google.colab.kernel.invokeFunction('convertToInteractive',\n",
              "                                                     [key], {});\n",
              "          if (!dataTable) return;\n",
              "\n",
              "          const docLinkHtml = 'Like what you see? Visit the ' +\n",
              "            '<a target=\"_blank\" href=https://colab.research.google.com/notebooks/data_table.ipynb>data table notebook</a>'\n",
              "            + ' to learn more about interactive tables.';\n",
              "          element.innerHTML = '';\n",
              "          dataTable['output_type'] = 'display_data';\n",
              "          await google.colab.output.renderOutput(dataTable, element);\n",
              "          const docLink = document.createElement('div');\n",
              "          docLink.innerHTML = docLinkHtml;\n",
              "          element.appendChild(docLink);\n",
              "        }\n",
              "      </script>\n",
              "    </div>\n",
              "  </div>\n",
              "  "
            ]
          },
          "metadata": {},
          "execution_count": 5
        }
      ]
    },
    {
      "cell_type": "code",
      "source": [
        "#Finding duplicate values\n",
        "\n",
        "df.duplicated().sum()"
      ],
      "metadata": {
        "colab": {
          "base_uri": "https://localhost:8080/"
        },
        "id": "gX8ingE1GxNN",
        "outputId": "1987773e-fb8f-4edb-b239-a6578d6479c6"
      },
      "execution_count": 6,
      "outputs": [
        {
          "output_type": "execute_result",
          "data": {
            "text/plain": [
              "0"
            ]
          },
          "metadata": {},
          "execution_count": 6
        }
      ]
    },
    {
      "cell_type": "code",
      "source": [
        "#Data Distributions\n",
        "\n",
        "Median = []\n",
        "k = [\"age\", \"income\", \"share\"]\n",
        "for i in k:\n",
        "    Median.append(df[i].median())\n",
        "Median"
      ],
      "metadata": {
        "colab": {
          "base_uri": "https://localhost:8080/"
        },
        "id": "_SLltmY1G9hI",
        "outputId": "2b7a5850-99e1-4486-8fe2-cb28b575fe2b"
      },
      "execution_count": 7,
      "outputs": [
        {
          "output_type": "execute_result",
          "data": {
            "text/plain": [
              "[31.25, 2.9, 0.03882722]"
            ]
          },
          "metadata": {},
          "execution_count": 7
        }
      ]
    },
    {
      "cell_type": "markdown",
      "source": [
        " The above list shows the median values for \"Age\", \"Income\", and \"Share\" respectively."
      ],
      "metadata": {
        "id": "Ga-FhZZlHK8z"
      }
    },
    {
      "cell_type": "code",
      "source": [
        "# Normalized histograms (Distribution)\n",
        "\n",
        "age = df[\"age\"]\n",
        "income = df[\"income\"]\n",
        "share = df[\"share\"]\n",
        "fig = plt.figure(figsize=(15, 3))\n",
        "plt.subplot(1, 3, 1)\n",
        "plt.xlabel(\"Age\")\n",
        "plt.ylabel(\"PMF\")\n",
        "plt.title(\"Age Distributions\")\n",
        "age.hist(histtype=\"bar\", bins=20, alpha=0.5, color=\"r\", density=1)\n",
        "plt.subplot(1, 3, 2)\n",
        "plt.xlabel(\"Income\")\n",
        "plt.ylabel(\"PMF\")\n",
        "plt.title(\"Income Distributions\")\n",
        "income.hist(histtype=\"bar\", bins=20, alpha=0.5, color=\"b\", density=1)\n",
        "plt.subplot(1, 3, 3)\n",
        "plt.xlabel(\"Share\")\n",
        "plt.ylabel(\"PMF\")\n",
        "plt.title(\"Share Distributions\")\n",
        "share.hist(histtype=\"bar\", bins=20, alpha=0.5, color=\"g\", density=1)\n"
      ],
      "metadata": {
        "colab": {
          "base_uri": "https://localhost:8080/",
          "height": 284
        },
        "id": "ZtUXx-bUHFaA",
        "outputId": "0c1ace99-d06b-45b1-9087-8243db3d478f"
      },
      "execution_count": 8,
      "outputs": [
        {
          "output_type": "execute_result",
          "data": {
            "text/plain": [
              "<matplotlib.axes._subplots.AxesSubplot at 0x7f054cf5a110>"
            ]
          },
          "metadata": {},
          "execution_count": 8
        },
        {
          "output_type": "display_data",
          "data": {
            "text/plain": [
              "<Figure size 1080x216 with 3 Axes>"
            ],
            "image/png": "[encoded data removed]"
          },
          "metadata": {}
        }
      ]
    },
    {
      "cell_type": "code",
      "source": [
        "# Cumulative Distribution Function\n",
        "\n",
        "fig = plt.figure(figsize=(15, 3))\n",
        "plt.subplot(1, 3, 1)\n",
        "plt.xlabel(\"Age\")\n",
        "plt.ylabel(\"CDF\")\n",
        "plt.title(\"Age Distributions\")\n",
        "age.hist(\n",
        "    histtype=\"step\",\n",
        "    cumulative=True,\n",
        "    linewidth=3,\n",
        "    bins=20,\n",
        "    color=\"r\",\n",
        "    density=1,\n",
        ")\n",
        "plt.subplot(1, 3, 2)\n",
        "plt.xlabel(\"Income\")\n",
        "plt.ylabel(\"CDF\")\n",
        "plt.title(\"Income Distributions\")\n",
        "income.hist(\n",
        "    histtype=\"step\",\n",
        "    cumulative=True,\n",
        "    linewidth=3,\n",
        "    bins=20,\n",
        "    color=\"b\",\n",
        "    density=1,\n",
        ")\n",
        "plt.subplot(1, 3, 3)\n",
        "plt.xlabel(\"Share\")\n",
        "plt.ylabel(\"CDF\")\n",
        "plt.title(\"Share Distributions\")\n",
        "share.hist(\n",
        "    histtype=\"step\",\n",
        "    cumulative=True,\n",
        "    linewidth=3,\n",
        "    bins=20,\n",
        "    color=\"g\",\n",
        "    density=1,\n",
        ")"
      ],
      "metadata": {
        "colab": {
          "base_uri": "https://localhost:8080/",
          "height": 284
        },
        "id": "iF0ljy0SIIDk",
        "outputId": "7ca6209d-7f7d-4b98-e97c-542ab5369880"
      },
      "execution_count": 9,
      "outputs": [
        {
          "output_type": "execute_result",
          "data": {
            "text/plain": [
              "<matplotlib.axes._subplots.AxesSubplot at 0x7f054c966450>"
            ]
          },
          "metadata": {},
          "execution_count": 9
        },
        {
          "output_type": "display_data",
          "data": {
            "text/plain": [
              "<Figure size 1080x216 with 3 Axes>"
            ],
            "image/png": "[encoded data removed]"
          },
          "metadata": {}
        }
      ]
    },
    {
      "cell_type": "markdown",
      "source": [
        "# **Preparation**\n",
        "___\n",
        "\n",
        "* Create the target variable by mapping yes to 1 and no to 0.\n",
        "* Split the dataset into 3 parts: train/validation/test with 60%/20%/20% distribution. Use train_test_split function for that with random_state=1."
      ],
      "metadata": {
        "id": "soyMgJGXXuJt"
      }
    },
    {
      "cell_type": "code",
      "source": [
        "import numpy as np\n",
        "df['card']=np.where(df['card'] =='yes', 1, df['card'])\n",
        "df['card']=np.where(df['card'] =='no', 0, df['card'])\n",
        "df1 = pd.to_numeric(df['card'])\n",
        "df['card'] = df1"
      ],
      "metadata": {
        "id": "E7MsO8Q9S3jt"
      },
      "execution_count": 10,
      "outputs": []
    },
    {
      "cell_type": "code",
      "source": [
        "from sklearn.preprocessing import LabelEncoder\n",
        "from sklearn.model_selection import StratifiedKFold, train_test_split"
      ],
      "metadata": {
        "id": "W9LhbhRIJJrY"
      },
      "execution_count": 11,
      "outputs": []
    },
    {
      "cell_type": "code",
      "source": [
        "#Label transformation\n",
        "# I transformed labels of Card, owner, and selfemp to implement regression.\n",
        "# Yes is equal to 1 and No is equal to 0.\n",
        "\n",
        "k = [\"card\", \"owner\", \"selfemp\"]\n",
        "for i in k:\n",
        "    le = LabelEncoder()\n",
        "    n = str(i) + \"_n\"\n",
        "    df[n] = le.fit_transform(df[i])\n",
        "for i in k:\n",
        "    del df[i]\n",
        "df.head()\n"
      ],
      "metadata": {
        "colab": {
          "base_uri": "https://localhost:8080/",
          "height": 206
        },
        "id": "93oqQxPAInZc",
        "outputId": "8b2a071f-a26a-4f6f-a3af-1109a8b635fd"
      },
      "execution_count": 12,
      "outputs": [
        {
          "output_type": "execute_result",
          "data": {
            "text/plain": [
              "   reports       age  income     share  expenditure  dependents  months  \\\n",
              "0        0  37.66667  4.5200  0.033270   124.983300           3      54   \n",
              "1        0  33.25000  2.4200  0.005217     9.854167           3      34   \n",
              "2        0  33.66667  4.5000  0.004156    15.000000           4      58   \n",
              "3        0  30.50000  2.5400  0.065214   137.869200           0      25   \n",
              "4        0  32.16667  9.7867  0.067051   546.503300           2      64   \n",
              "\n",
              "   majorcards  active  card_n  owner_n  selfemp_n  \n",
              "0           1      12       1        1          0  \n",
              "1           1      13       1        0          0  \n",
              "2           1       5       1        1          0  \n",
              "3           1       7       1        0          0  \n",
              "4           1       5       1        1          0  "
            ],
            "text/html": [
              "\n",
              "  <div id=\"df-dca13cca-c808-4b38-8f59-829bd67df456\">\n",
              "    <div class=\"colab-df-container\">\n",
              "      <div>\n",
              "<style scoped>\n",
              "    .dataframe tbody tr th:only-of-type {\n",
              "        vertical-align: middle;\n",
              "    }\n",
              "\n",
              "    .dataframe tbody tr th {\n",
              "        vertical-align: top;\n",
              "    }\n",
              "\n",
              "    .dataframe thead th {\n",
              "        text-align: right;\n",
              "    }\n",
              "</style>\n",
              "<table border=\"1\" class=\"dataframe\">\n",
              "  <thead>\n",
              "    <tr style=\"text-align: right;\">\n",
              "      <th></th>\n",
              "      <th>reports</th>\n",
              "      <th>age</th>\n",
              "      <th>income</th>\n",
              "      <th>share</th>\n",
              "      <th>expenditure</th>\n",
              "      <th>dependents</th>\n",
              "      <th>months</th>\n",
              "      <th>majorcards</th>\n",
              "      <th>active</th>\n",
              "      <th>card_n</th>\n",
              "      <th>owner_n</th>\n",
              "      <th>selfemp_n</th>\n",
              "    </tr>\n",
              "  </thead>\n",
              "  <tbody>\n",
              "    <tr>\n",
              "      <th>0</th>\n",
              "      <td>0</td>\n",
              "      <td>37.66667</td>\n",
              "      <td>4.5200</td>\n",
              "      <td>0.033270</td>\n",
              "      <td>124.983300</td>\n",
              "      <td>3</td>\n",
              "      <td>54</td>\n",
              "      <td>1</td>\n",
              "      <td>12</td>\n",
              "      <td>1</td>\n",
              "      <td>1</td>\n",
              "      <td>0</td>\n",
              "    </tr>\n",
              "    <tr>\n",
              "      <th>1</th>\n",
              "      <td>0</td>\n",
              "      <td>33.25000</td>\n",
              "      <td>2.4200</td>\n",
              "      <td>0.005217</td>\n",
              "      <td>9.854167</td>\n",
              "      <td>3</td>\n",
              "      <td>34</td>\n",
              "      <td>1</td>\n",
              "      <td>13</td>\n",
              "      <td>1</td>\n",
              "      <td>0</td>\n",
              "      <td>0</td>\n",
              "    </tr>\n",
              "    <tr>\n",
              "      <th>2</th>\n",
              "      <td>0</td>\n",
              "      <td>33.66667</td>\n",
              "      <td>4.5000</td>\n",
              "      <td>0.004156</td>\n",
              "      <td>15.000000</td>\n",
              "      <td>4</td>\n",
              "      <td>58</td>\n",
              "      <td>1</td>\n",
              "      <td>5</td>\n",
              "      <td>1</td>\n",
              "      <td>1</td>\n",
              "      <td>0</td>\n",
              "    </tr>\n",
              "    <tr>\n",
              "      <th>3</th>\n",
              "      <td>0</td>\n",
              "      <td>30.50000</td>\n",
              "      <td>2.5400</td>\n",
              "      <td>0.065214</td>\n",
              "      <td>137.869200</td>\n",
              "      <td>0</td>\n",
              "      <td>25</td>\n",
              "      <td>1</td>\n",
              "      <td>7</td>\n",
              "      <td>1</td>\n",
              "      <td>0</td>\n",
              "      <td>0</td>\n",
              "    </tr>\n",
              "    <tr>\n",
              "      <th>4</th>\n",
              "      <td>0</td>\n",
              "      <td>32.16667</td>\n",
              "      <td>9.7867</td>\n",
              "      <td>0.067051</td>\n",
              "      <td>546.503300</td>\n",
              "      <td>2</td>\n",
              "      <td>64</td>\n",
              "      <td>1</td>\n",
              "      <td>5</td>\n",
              "      <td>1</td>\n",
              "      <td>1</td>\n",
              "      <td>0</td>\n",
              "    </tr>\n",
              "  </tbody>\n",
              "</table>\n",
              "</div>\n",
              "      <button class=\"colab-df-convert\" onclick=\"convertToInteractive('df-dca13cca-c808-4b38-8f59-829bd67df456')\"\n",
              "              title=\"Convert this dataframe to an interactive table.\"\n",
              "              style=\"display:none;\">\n",
              "        \n",
              "  <svg xmlns=\"http://www.w3.org/2000/svg\" height=\"24px\"viewBox=\"0 0 24 24\"\n",
              "       width=\"24px\">\n",
              "    <path d=\"M0 0h24v24H0V0z\" fill=\"none\"/>\n",
              "    <path d=\"M18.56 5.44l.94 2.06.94-2.06 2.06-.94-2.06-.94-.94-2.06-.94 2.06-2.06.94zm-11 1L8.5 8.5l.94-2.06 2.06-.94-2.06-.94L8.5 2.5l-.94 2.06-2.06.94zm10 10l.94 2.06.94-2.06 2.06-.94-2.06-.94-.94-2.06-.94 2.06-2.06.94z\"/><path d=\"M17.41 7.96l-1.37-1.37c-.4-.4-.92-.59-1.43-.59-.52 0-1.04.2-1.43.59L10.3 9.45l-7.72 7.72c-.78.78-.78 2.05 0 2.83L4 21.41c.39.39.9.59 1.41.59.51 0 1.02-.2 1.41-.59l7.78-7.78 2.81-2.81c.8-.78.8-2.07 0-2.86zM5.41 20L4 18.59l7.72-7.72 1.47 1.35L5.41 20z\"/>\n",
              "  </svg>\n",
              "      </button>\n",
              "      \n",
              "  <style>\n",
              "    .colab-df-container {\n",
              "      display:flex;\n",
              "      flex-wrap:wrap;\n",
              "      gap: 12px;\n",
              "    }\n",
              "\n",
              "    .colab-df-convert {\n",
              "      background-color: #E8F0FE;\n",
              "      border: none;\n",
              "      border-radius: 50%;\n",
              "      cursor: pointer;\n",
              "      display: none;\n",
              "      fill: #1967D2;\n",
              "      height: 32px;\n",
              "      padding: 0 0 0 0;\n",
              "      width: 32px;\n",
              "    }\n",
              "\n",
              "    .colab-df-convert:hover {\n",
              "      background-color: #E2EBFA;\n",
              "      box-shadow: 0px 1px 2px rgba(60, 64, 67, 0.3), 0px 1px 3px 1px rgba(60, 64, 67, 0.15);\n",
              "      fill: #174EA6;\n",
              "    }\n",
              "\n",
              "    [theme=dark] .colab-df-convert {\n",
              "      background-color: #3B4455;\n",
              "      fill: #D2E3FC;\n",
              "    }\n",
              "\n",
              "    [theme=dark] .colab-df-convert:hover {\n",
              "      background-color: #434B5C;\n",
              "      box-shadow: 0px 1px 3px 1px rgba(0, 0, 0, 0.15);\n",
              "      filter: drop-shadow(0px 1px 2px rgba(0, 0, 0, 0.3));\n",
              "      fill: #FFFFFF;\n",
              "    }\n",
              "  </style>\n",
              "\n",
              "      <script>\n",
              "        const buttonEl =\n",
              "          document.querySelector('#df-dca13cca-c808-4b38-8f59-829bd67df456 button.colab-df-convert');\n",
              "        buttonEl.style.display =\n",
              "          google.colab.kernel.accessAllowed ? 'block' : 'none';\n",
              "\n",
              "        async function convertToInteractive(key) {\n",
              "          const element = document.querySelector('#df-dca13cca-c808-4b38-8f59-829bd67df456');\n",
              "          const dataTable =\n",
              "            await google.colab.kernel.invokeFunction('convertToInteractive',\n",
              "                                                     [key], {});\n",
              "          if (!dataTable) return;\n",
              "\n",
              "          const docLinkHtml = 'Like what you see? Visit the ' +\n",
              "            '<a target=\"_blank\" href=https://colab.research.google.com/notebooks/data_table.ipynb>data table notebook</a>'\n",
              "            + ' to learn more about interactive tables.';\n",
              "          element.innerHTML = '';\n",
              "          dataTable['output_type'] = 'display_data';\n",
              "          await google.colab.output.renderOutput(dataTable, element);\n",
              "          const docLink = document.createElement('div');\n",
              "          docLink.innerHTML = docLinkHtml;\n",
              "          element.appendChild(docLink);\n",
              "        }\n",
              "      </script>\n",
              "    </div>\n",
              "  </div>\n",
              "  "
            ]
          },
          "metadata": {},
          "execution_count": 12
        }
      ]
    },
    {
      "cell_type": "code",
      "source": [
        "for c in ['income','share','expenditure']:\n",
        "  df[c] = df[c].replace(to_replace=99999999,value=0)"
      ],
      "metadata": {
        "id": "3GAXB7OShhy9"
      },
      "execution_count": 13,
      "outputs": []
    },
    {
      "cell_type": "code",
      "source": [
        "df_full_train,df_test = train_test_split(df,test_size=0.2,random_state=1)\n",
        "df_train,df_val = \\\n",
        "train_test_split (df_full_train, test_size=0.25,random_state=1)\n",
        "\n",
        "df_train = df_train.reset_index(drop=True)\n",
        "df_val = df_val.reset_index(drop=True)\n",
        "df_test = df_test.reset_index(drop=True)\n",
        "\n",
        "y_train = df_train.card_n.values\n",
        "y_val = df_val.card_n.values\n",
        "y_test = df_test.card_n.values\n",
        "\n",
        "del df_train['card_n']\n",
        "del df_val['card_n']\n",
        "del df_test['card_n']"
      ],
      "metadata": {
        "id": "vgHk6nsgcDuu"
      },
      "execution_count": 14,
      "outputs": []
    },
    {
      "cell_type": "markdown",
      "source": [
        "# **Question 1**\n",
        "___\n",
        "\n",
        "ROC AUC could also be used to evaluate feature importance of numerical variables.\n",
        "\n",
        "Let's do that\n",
        "\n",
        "* For each numerical variable, use it as score and compute AUC with the card variable.\n",
        "* Use the training dataset for that.\n",
        "If your AUC is < 0.5, invert this variable by putting \"-\" in front\n",
        "\n",
        "(e.g. -df_train['expenditure'])\n",
        "\n",
        "AUC can go below 0.5 if the variable is negatively correlated with the target varialble. You can change the direction of the correlation by negating this variable - then negative correlation becomes positive.\n",
        "\n",
        "Which numerical variable (among the following 4) has the highest AUC?\n",
        "\n",
        "* reports\n",
        "* dependents\n",
        "* active\n",
        "* share"
      ],
      "metadata": {
        "id": "MAEQwgREYBpr"
      }
    },
    {
      "cell_type": "code",
      "source": [
        "df_train"
      ],
      "metadata": {
        "colab": {
          "base_uri": "https://localhost:8080/",
          "height": 424
        },
        "id": "BuhoDwTHlNAL",
        "outputId": "4edda80b-16ee-4cdf-fccc-186ea535d481"
      },
      "execution_count": 15,
      "outputs": [
        {
          "output_type": "execute_result",
          "data": {
            "text/plain": [
              "     reports       age  income     share  expenditure  dependents  months  \\\n",
              "0          3  40.50000  4.0128  0.000299      0.00000           1      12   \n",
              "1          1  32.33333  6.0000  0.000200      0.00000           4      18   \n",
              "2          1  29.16667  2.2000  0.038205     69.79333           0      49   \n",
              "3          1  54.66667  7.2900  0.106536    647.20670           2      78   \n",
              "4          0  25.00000  3.3984  0.000353      0.00000           2      29   \n",
              "..       ...       ...     ...       ...          ...         ...     ...   \n",
              "786        0  53.00000  2.4500  0.017718     35.67500           0       3   \n",
              "787        2  30.58333  2.5000  0.000480      0.00000           0      12   \n",
              "788        0  24.75000  1.8750  0.080708    126.02250           1      14   \n",
              "789        1  56.91667  3.4838  0.062895    182.09580           0     540   \n",
              "790        2  24.58333  2.2000  0.000545      0.00000           0       6   \n",
              "\n",
              "     majorcards  active  owner_n  selfemp_n  \n",
              "0             1      17        0          0  \n",
              "1             1       4        1          0  \n",
              "2             1       7        0          0  \n",
              "3             1       9        1          0  \n",
              "4             0       4        1          0  \n",
              "..          ...     ...      ...        ...  \n",
              "786           1      11        1          0  \n",
              "787           1      18        0          0  \n",
              "788           0       1        0          0  \n",
              "789           1       7        1          0  \n",
              "790           1       8        0          0  \n",
              "\n",
              "[791 rows x 11 columns]"
            ],
            "text/html": [
              "\n",
              "  <div id=\"df-798bbd40-20de-440b-8b9d-ecbe1f182f02\">\n",
              "    <div class=\"colab-df-container\">\n",
              "      <div>\n",
              "<style scoped>\n",
              "    .dataframe tbody tr th:only-of-type {\n",
              "        vertical-align: middle;\n",
              "    }\n",
              "\n",
              "    .dataframe tbody tr th {\n",
              "        vertical-align: top;\n",
              "    }\n",
              "\n",
              "    .dataframe thead th {\n",
              "        text-align: right;\n",
              "    }\n",
              "</style>\n",
              "<table border=\"1\" class=\"dataframe\">\n",
              "  <thead>\n",
              "    <tr style=\"text-align: right;\">\n",
              "      <th></th>\n",
              "      <th>reports</th>\n",
              "      <th>age</th>\n",
              "      <th>income</th>\n",
              "      <th>share</th>\n",
              "      <th>expenditure</th>\n",
              "      <th>dependents</th>\n",
              "      <th>months</th>\n",
              "      <th>majorcards</th>\n",
              "      <th>active</th>\n",
              "      <th>owner_n</th>\n",
              "      <th>selfemp_n</th>\n",
              "    </tr>\n",
              "  </thead>\n",
              "  <tbody>\n",
              "    <tr>\n",
              "      <th>0</th>\n",
              "      <td>3</td>\n",
              "      <td>40.50000</td>\n",
              "      <td>4.0128</td>\n",
              "      <td>0.000299</td>\n",
              "      <td>0.00000</td>\n",
              "      <td>1</td>\n",
              "      <td>12</td>\n",
              "      <td>1</td>\n",
              "      <td>17</td>\n",
              "      <td>0</td>\n",
              "      <td>0</td>\n",
              "    </tr>\n",
              "    <tr>\n",
              "      <th>1</th>\n",
              "      <td>1</td>\n",
              "      <td>32.33333</td>\n",
              "      <td>6.0000</td>\n",
              "      <td>0.000200</td>\n",
              "      <td>0.00000</td>\n",
              "      <td>4</td>\n",
              "      <td>18</td>\n",
              "      <td>1</td>\n",
              "      <td>4</td>\n",
              "      <td>1</td>\n",
              "      <td>0</td>\n",
              "    </tr>\n",
              "    <tr>\n",
              "      <th>2</th>\n",
              "      <td>1</td>\n",
              "      <td>29.16667</td>\n",
              "      <td>2.2000</td>\n",
              "      <td>0.038205</td>\n",
              "      <td>69.79333</td>\n",
              "      <td>0</td>\n",
              "      <td>49</td>\n",
              "      <td>1</td>\n",
              "      <td>7</td>\n",
              "      <td>0</td>\n",
              "      <td>0</td>\n",
              "    </tr>\n",
              "    <tr>\n",
              "      <th>3</th>\n",
              "      <td>1</td>\n",
              "      <td>54.66667</td>\n",
              "      <td>7.2900</td>\n",
              "      <td>0.106536</td>\n",
              "      <td>647.20670</td>\n",
              "      <td>2</td>\n",
              "      <td>78</td>\n",
              "      <td>1</td>\n",
              "      <td>9</td>\n",
              "      <td>1</td>\n",
              "      <td>0</td>\n",
              "    </tr>\n",
              "    <tr>\n",
              "      <th>4</th>\n",
              "      <td>0</td>\n",
              "      <td>25.00000</td>\n",
              "      <td>3.3984</td>\n",
              "      <td>0.000353</td>\n",
              "      <td>0.00000</td>\n",
              "      <td>2</td>\n",
              "      <td>29</td>\n",
              "      <td>0</td>\n",
              "      <td>4</td>\n",
              "      <td>1</td>\n",
              "      <td>0</td>\n",
              "    </tr>\n",
              "    <tr>\n",
              "      <th>...</th>\n",
              "      <td>...</td>\n",
              "      <td>...</td>\n",
              "      <td>...</td>\n",
              "      <td>...</td>\n",
              "      <td>...</td>\n",
              "      <td>...</td>\n",
              "      <td>...</td>\n",
              "      <td>...</td>\n",
              "      <td>...</td>\n",
              "      <td>...</td>\n",
              "      <td>...</td>\n",
              "    </tr>\n",
              "    <tr>\n",
              "      <th>786</th>\n",
              "      <td>0</td>\n",
              "      <td>53.00000</td>\n",
              "      <td>2.4500</td>\n",
              "      <td>0.017718</td>\n",
              "      <td>35.67500</td>\n",
              "      <td>0</td>\n",
              "      <td>3</td>\n",
              "      <td>1</td>\n",
              "      <td>11</td>\n",
              "      <td>1</td>\n",
              "      <td>0</td>\n",
              "    </tr>\n",
              "    <tr>\n",
              "      <th>787</th>\n",
              "      <td>2</td>\n",
              "      <td>30.58333</td>\n",
              "      <td>2.5000</td>\n",
              "      <td>0.000480</td>\n",
              "      <td>0.00000</td>\n",
              "      <td>0</td>\n",
              "      <td>12</td>\n",
              "      <td>1</td>\n",
              "      <td>18</td>\n",
              "      <td>0</td>\n",
              "      <td>0</td>\n",
              "    </tr>\n",
              "    <tr>\n",
              "      <th>788</th>\n",
              "      <td>0</td>\n",
              "      <td>24.75000</td>\n",
              "      <td>1.8750</td>\n",
              "      <td>0.080708</td>\n",
              "      <td>126.02250</td>\n",
              "      <td>1</td>\n",
              "      <td>14</td>\n",
              "      <td>0</td>\n",
              "      <td>1</td>\n",
              "      <td>0</td>\n",
              "      <td>0</td>\n",
              "    </tr>\n",
              "    <tr>\n",
              "      <th>789</th>\n",
              "      <td>1</td>\n",
              "      <td>56.91667</td>\n",
              "      <td>3.4838</td>\n",
              "      <td>0.062895</td>\n",
              "      <td>182.09580</td>\n",
              "      <td>0</td>\n",
              "      <td>540</td>\n",
              "      <td>1</td>\n",
              "      <td>7</td>\n",
              "      <td>1</td>\n",
              "      <td>0</td>\n",
              "    </tr>\n",
              "    <tr>\n",
              "      <th>790</th>\n",
              "      <td>2</td>\n",
              "      <td>24.58333</td>\n",
              "      <td>2.2000</td>\n",
              "      <td>0.000545</td>\n",
              "      <td>0.00000</td>\n",
              "      <td>0</td>\n",
              "      <td>6</td>\n",
              "      <td>1</td>\n",
              "      <td>8</td>\n",
              "      <td>0</td>\n",
              "      <td>0</td>\n",
              "    </tr>\n",
              "  </tbody>\n",
              "</table>\n",
              "<p>791 rows × 11 columns</p>\n",
              "</div>\n",
              "      <button class=\"colab-df-convert\" onclick=\"convertToInteractive('df-798bbd40-20de-440b-8b9d-ecbe1f182f02')\"\n",
              "              title=\"Convert this dataframe to an interactive table.\"\n",
              "              style=\"display:none;\">\n",
              "        \n",
              "  <svg xmlns=\"http://www.w3.org/2000/svg\" height=\"24px\"viewBox=\"0 0 24 24\"\n",
              "       width=\"24px\">\n",
              "    <path d=\"M0 0h24v24H0V0z\" fill=\"none\"/>\n",
              "    <path d=\"M18.56 5.44l.94 2.06.94-2.06 2.06-.94-2.06-.94-.94-2.06-.94 2.06-2.06.94zm-11 1L8.5 8.5l.94-2.06 2.06-.94-2.06-.94L8.5 2.5l-.94 2.06-2.06.94zm10 10l.94 2.06.94-2.06 2.06-.94-2.06-.94-.94-2.06-.94 2.06-2.06.94z\"/><path d=\"M17.41 7.96l-1.37-1.37c-.4-.4-.92-.59-1.43-.59-.52 0-1.04.2-1.43.59L10.3 9.45l-7.72 7.72c-.78.78-.78 2.05 0 2.83L4 21.41c.39.39.9.59 1.41.59.51 0 1.02-.2 1.41-.59l7.78-7.78 2.81-2.81c.8-.78.8-2.07 0-2.86zM5.41 20L4 18.59l7.72-7.72 1.47 1.35L5.41 20z\"/>\n",
              "  </svg>\n",
              "      </button>\n",
              "      \n",
              "  <style>\n",
              "    .colab-df-container {\n",
              "      display:flex;\n",
              "      flex-wrap:wrap;\n",
              "      gap: 12px;\n",
              "    }\n",
              "\n",
              "    .colab-df-convert {\n",
              "      background-color: #E8F0FE;\n",
              "      border: none;\n",
              "      border-radius: 50%;\n",
              "      cursor: pointer;\n",
              "      display: none;\n",
              "      fill: #1967D2;\n",
              "      height: 32px;\n",
              "      padding: 0 0 0 0;\n",
              "      width: 32px;\n",
              "    }\n",
              "\n",
              "    .colab-df-convert:hover {\n",
              "      background-color: #E2EBFA;\n",
              "      box-shadow: 0px 1px 2px rgba(60, 64, 67, 0.3), 0px 1px 3px 1px rgba(60, 64, 67, 0.15);\n",
              "      fill: #174EA6;\n",
              "    }\n",
              "\n",
              "    [theme=dark] .colab-df-convert {\n",
              "      background-color: #3B4455;\n",
              "      fill: #D2E3FC;\n",
              "    }\n",
              "\n",
              "    [theme=dark] .colab-df-convert:hover {\n",
              "      background-color: #434B5C;\n",
              "      box-shadow: 0px 1px 3px 1px rgba(0, 0, 0, 0.15);\n",
              "      filter: drop-shadow(0px 1px 2px rgba(0, 0, 0, 0.3));\n",
              "      fill: #FFFFFF;\n",
              "    }\n",
              "  </style>\n",
              "\n",
              "      <script>\n",
              "        const buttonEl =\n",
              "          document.querySelector('#df-798bbd40-20de-440b-8b9d-ecbe1f182f02 button.colab-df-convert');\n",
              "        buttonEl.style.display =\n",
              "          google.colab.kernel.accessAllowed ? 'block' : 'none';\n",
              "\n",
              "        async function convertToInteractive(key) {\n",
              "          const element = document.querySelector('#df-798bbd40-20de-440b-8b9d-ecbe1f182f02');\n",
              "          const dataTable =\n",
              "            await google.colab.kernel.invokeFunction('convertToInteractive',\n",
              "                                                     [key], {});\n",
              "          if (!dataTable) return;\n",
              "\n",
              "          const docLinkHtml = 'Like what you see? Visit the ' +\n",
              "            '<a target=\"_blank\" href=https://colab.research.google.com/notebooks/data_table.ipynb>data table notebook</a>'\n",
              "            + ' to learn more about interactive tables.';\n",
              "          element.innerHTML = '';\n",
              "          dataTable['output_type'] = 'display_data';\n",
              "          await google.colab.output.renderOutput(dataTable, element);\n",
              "          const docLink = document.createElement('div');\n",
              "          docLink.innerHTML = docLinkHtml;\n",
              "          element.appendChild(docLink);\n",
              "        }\n",
              "      </script>\n",
              "    </div>\n",
              "  </div>\n",
              "  "
            ]
          },
          "metadata": {},
          "execution_count": 15
        }
      ]
    },
    {
      "cell_type": "code",
      "source": [
        "df.info()"
      ],
      "metadata": {
        "colab": {
          "base_uri": "https://localhost:8080/"
        },
        "id": "ohkLRnLrDBPN",
        "outputId": "e0c0a7d1-d44e-4337-bd0e-3e0a5981633f"
      },
      "execution_count": 16,
      "outputs": [
        {
          "output_type": "stream",
          "name": "stdout",
          "text": [
            "<class 'pandas.core.frame.DataFrame'>\n",
            "RangeIndex: 1319 entries, 0 to 1318\n",
            "Data columns (total 12 columns):\n",
            " #   Column       Non-Null Count  Dtype  \n",
            "---  ------       --------------  -----  \n",
            " 0   reports      1319 non-null   int64  \n",
            " 1   age          1319 non-null   float64\n",
            " 2   income       1319 non-null   float64\n",
            " 3   share        1319 non-null   float64\n",
            " 4   expenditure  1319 non-null   float64\n",
            " 5   dependents   1319 non-null   int64  \n",
            " 6   months       1319 non-null   int64  \n",
            " 7   majorcards   1319 non-null   int64  \n",
            " 8   active       1319 non-null   int64  \n",
            " 9   card_n       1319 non-null   int64  \n",
            " 10  owner_n      1319 non-null   int64  \n",
            " 11  selfemp_n    1319 non-null   int64  \n",
            "dtypes: float64(4), int64(8)\n",
            "memory usage: 123.8 KB\n"
          ]
        }
      ]
    },
    {
      "cell_type": "code",
      "source": [
        "from sklearn.metrics import roc_auc_score\n",
        "from sklearn.metrics import roc_curve"
      ],
      "metadata": {
        "id": "QZuBcfNXhOkS"
      },
      "execution_count": 17,
      "outputs": []
    },
    {
      "cell_type": "code",
      "source": [
        "roc_auc_score(y_train,df_train.share)"
      ],
      "metadata": {
        "colab": {
          "base_uri": "https://localhost:8080/"
        },
        "id": "UtrkCQC-3DES",
        "outputId": "e3b04978-5f6f-4a72-9203-cb31d2f600d1"
      },
      "execution_count": 18,
      "outputs": [
        {
          "output_type": "execute_result",
          "data": {
            "text/plain": [
              "0.989183643423692"
            ]
          },
          "metadata": {},
          "execution_count": 18
        }
      ]
    },
    {
      "cell_type": "code",
      "source": [
        "fpr,tpr,_ = roc_curve(y_train,df_train.share)"
      ],
      "metadata": {
        "id": "R3WhKIR35QBX"
      },
      "execution_count": 19,
      "outputs": []
    },
    {
      "cell_type": "code",
      "source": [
        "plt.figure(figsize=(5,5))\n",
        "plt.plot(fpr,tpr)"
      ],
      "metadata": {
        "colab": {
          "base_uri": "https://localhost:8080/",
          "height": 358
        },
        "id": "Jq2z1aGM5ZXt",
        "outputId": "9545e0c8-c43f-4372-9123-1d47d0cfa291"
      },
      "execution_count": 20,
      "outputs": [
        {
          "output_type": "execute_result",
          "data": {
            "text/plain": [
              "[<matplotlib.lines.Line2D at 0x7f054c7dcd50>]"
            ]
          },
          "metadata": {},
          "execution_count": 20
        },
        {
          "output_type": "display_data",
          "data": {
            "text/plain": [
              "<Figure size 360x360 with 1 Axes>"
            ],
            "image/png": "[encoded data removed]"
          },
          "metadata": {}
        }
      ]
    },
    {
      "cell_type": "code",
      "source": [
        "sns.histplot(df_train.share[y_train ==1],color = 'red')\n",
        "sns.histplot(df_train.share[y_train ==0],color = 'yellow')"
      ],
      "metadata": {
        "colab": {
          "base_uri": "https://localhost:8080/",
          "height": 380
        },
        "id": "tOh4rKcU7ahG",
        "outputId": "c92dfebc-5c14-4247-b37d-175f898e7c65"
      },
      "execution_count": 21,
      "outputs": [
        {
          "output_type": "execute_result",
          "data": {
            "text/plain": [
              "<matplotlib.axes._subplots.AxesSubplot at 0x7f054c799690>"
            ]
          },
          "metadata": {},
          "execution_count": 21
        },
        {
          "output_type": "display_data",
          "data": {
            "text/plain": [
              "<Figure size 864x360 with 1 Axes>"
            ],
            "image/png": "[encoded data removed]"
          },
          "metadata": {}
        }
      ]
    },
    {
      "cell_type": "code",
      "source": [
        "numerical = ['reports','age','income','share','expenditure','dependents',\t'months',\t'majorcards',\t'active',\t'owner_n',\t'selfemp_n']"
      ],
      "metadata": {
        "id": "Gi1nhexg8WMO"
      },
      "execution_count": 22,
      "outputs": []
    },
    {
      "cell_type": "code",
      "source": [
        "for c in numerical:\n",
        "  auc = roc_auc_score(y_train,df_train[c])\n",
        "  print(c, auc)"
      ],
      "metadata": {
        "colab": {
          "base_uri": "https://localhost:8080/"
        },
        "id": "hRXKwofE8N3r",
        "outputId": "77952884-c5a7-40d9-b592-a8a1a2e04724"
      },
      "execution_count": 23,
      "outputs": [
        {
          "output_type": "stream",
          "name": "stdout",
          "text": [
            "reports 0.28333701393106236\n",
            "age 0.4759979020592945\n",
            "income 0.5908049467233478\n",
            "share 0.989183643423692\n",
            "expenditure 0.991042345276873\n",
            "dependents 0.46722427722262094\n",
            "months 0.470578221903237\n",
            "majorcards 0.5343859842838476\n",
            "active 0.6043173411362006\n",
            "owner_n 0.5856751136384548\n",
            "selfemp_n 0.49020040854634794\n"
          ]
        }
      ]
    },
    {
      "cell_type": "code",
      "source": [
        "for c in numerical:\n",
        "  auc = roc_auc_score(y_train,df_train[c])\n",
        "  if auc < 0.5:\n",
        "    auc = roc_auc_score(y_train,-df_train[c])\n",
        "  print(c, auc)"
      ],
      "metadata": {
        "colab": {
          "base_uri": "https://localhost:8080/"
        },
        "id": "2mhxJmhE88So",
        "outputId": "60215243-6a4f-42c4-bf55-87050702a8c6"
      },
      "execution_count": 24,
      "outputs": [
        {
          "output_type": "stream",
          "name": "stdout",
          "text": [
            "reports 0.7166629860689376\n",
            "age 0.5240020979407055\n",
            "income 0.5908049467233478\n",
            "share 0.989183643423692\n",
            "expenditure 0.991042345276873\n",
            "dependents 0.5327757227773791\n",
            "months 0.5294217780967629\n",
            "majorcards 0.5343859842838476\n",
            "active 0.6043173411362006\n",
            "owner_n 0.5856751136384548\n",
            "selfemp_n 0.5097995914536521\n"
          ]
        }
      ]
    },
    {
      "cell_type": "markdown",
      "source": [
        "## **Answer: Share**"
      ],
      "metadata": {
        "id": "8fI3Kmw_IYz2"
      }
    },
    {
      "cell_type": "markdown",
      "source": [
        "# **Training the model**\n",
        "_____\n",
        "\n",
        "From now on, use these columns only:"
      ],
      "metadata": {
        "id": "oLc3DiA_YZ8b"
      }
    },
    {
      "cell_type": "code",
      "source": [
        "features = ['reports','age','income',\t'share','expenditure','dependents','months','majorcards',\t'active',\t'owner_n',\t'selfemp_n']"
      ],
      "metadata": {
        "id": "waMgGqPT3n6w"
      },
      "execution_count": 25,
      "outputs": []
    },
    {
      "cell_type": "markdown",
      "source": [
        "Apply one-hot-encoding using DictVectorizer and train the logistic regression with these parameters:"
      ],
      "metadata": {
        "id": "IdTyW86WYo7R"
      }
    },
    {
      "cell_type": "code",
      "source": [
        "LogisticRegression(solver='liblinear', C=1.0, max_iter=1000)"
      ],
      "metadata": {
        "colab": {
          "base_uri": "https://localhost:8080/"
        },
        "id": "KrJROGsYYktq",
        "outputId": "5226635b-1032-4c30-be38-9addff96da82"
      },
      "execution_count": 26,
      "outputs": [
        {
          "output_type": "execute_result",
          "data": {
            "text/plain": [
              "LogisticRegression(max_iter=1000, solver='liblinear')"
            ]
          },
          "metadata": {},
          "execution_count": 26
        }
      ]
    },
    {
      "cell_type": "markdown",
      "source": [
        "# **Question 2**\n",
        "----\n",
        "\n",
        "What's the AUC of this model on the validation dataset? (round to 3 digits)\n",
        "\n",
        "* 0.615\n",
        "* 0.515\n",
        "* 0.715\n",
        "* 0.995\n"
      ],
      "metadata": {
        "id": "rAe7caMqYxJF"
      }
    },
    {
      "cell_type": "code",
      "source": [
        "train_dict = df_train[features].to_dict(orient='records')\n",
        "train_dict[:10]"
      ],
      "metadata": {
        "colab": {
          "base_uri": "https://localhost:8080/"
        },
        "id": "55KS5tKL3bTh",
        "outputId": "c41f28fc-2952-4993-ecc1-c9df12b11139"
      },
      "execution_count": 27,
      "outputs": [
        {
          "output_type": "execute_result",
          "data": {
            "text/plain": [
              "[{'reports': 3,\n",
              "  'age': 40.5,\n",
              "  'income': 4.0128,\n",
              "  'share': 0.0002990431,\n",
              "  'expenditure': 0.0,\n",
              "  'dependents': 1,\n",
              "  'months': 12,\n",
              "  'majorcards': 1,\n",
              "  'active': 17,\n",
              "  'owner_n': 0,\n",
              "  'selfemp_n': 0},\n",
              " {'reports': 1,\n",
              "  'age': 32.33333,\n",
              "  'income': 6.0,\n",
              "  'share': 0.0002,\n",
              "  'expenditure': 0.0,\n",
              "  'dependents': 4,\n",
              "  'months': 18,\n",
              "  'majorcards': 1,\n",
              "  'active': 4,\n",
              "  'owner_n': 1,\n",
              "  'selfemp_n': 0},\n",
              " {'reports': 1,\n",
              "  'age': 29.16667,\n",
              "  'income': 2.2,\n",
              "  'share': 0.03820546,\n",
              "  'expenditure': 69.79333000000001,\n",
              "  'dependents': 0,\n",
              "  'months': 49,\n",
              "  'majorcards': 1,\n",
              "  'active': 7,\n",
              "  'owner_n': 0,\n",
              "  'selfemp_n': 0},\n",
              " {'reports': 1,\n",
              "  'age': 54.66667,\n",
              "  'income': 7.29,\n",
              "  'share': 0.1065361,\n",
              "  'expenditure': 647.2067,\n",
              "  'dependents': 2,\n",
              "  'months': 78,\n",
              "  'majorcards': 1,\n",
              "  'active': 9,\n",
              "  'owner_n': 1,\n",
              "  'selfemp_n': 0},\n",
              " {'reports': 0,\n",
              "  'age': 25.0,\n",
              "  'income': 3.3984,\n",
              "  'share': 0.0003531073,\n",
              "  'expenditure': 0.0,\n",
              "  'dependents': 2,\n",
              "  'months': 29,\n",
              "  'majorcards': 0,\n",
              "  'active': 4,\n",
              "  'owner_n': 1,\n",
              "  'selfemp_n': 0},\n",
              " {'reports': 0,\n",
              "  'age': 34.75,\n",
              "  'income': 2.34,\n",
              "  'share': 0.1833798999999999,\n",
              "  'expenditure': 357.5908,\n",
              "  'dependents': 0,\n",
              "  'months': 108,\n",
              "  'majorcards': 0,\n",
              "  'active': 11,\n",
              "  'owner_n': 1,\n",
              "  'selfemp_n': 0},\n",
              " {'reports': 0,\n",
              "  'age': 27.91667,\n",
              "  'income': 4.0,\n",
              "  'share': 0.03709175,\n",
              "  'expenditure': 123.2225,\n",
              "  'dependents': 2,\n",
              "  'months': 2,\n",
              "  'majorcards': 1,\n",
              "  'active': 0,\n",
              "  'owner_n': 1,\n",
              "  'selfemp_n': 0},\n",
              " {'reports': 0,\n",
              "  'age': 51.33333,\n",
              "  'income': 4.53,\n",
              "  'share': 0.0121468,\n",
              "  'expenditure': 45.35417,\n",
              "  'dependents': 4,\n",
              "  'months': 126,\n",
              "  'majorcards': 0,\n",
              "  'active': 5,\n",
              "  'owner_n': 1,\n",
              "  'selfemp_n': 0},\n",
              " {'reports': 0,\n",
              "  'age': 42.66667,\n",
              "  'income': 6.2,\n",
              "  'share': 0.006145161,\n",
              "  'expenditure': 31.0,\n",
              "  'dependents': 2,\n",
              "  'months': 132,\n",
              "  'majorcards': 1,\n",
              "  'active': 14,\n",
              "  'owner_n': 1,\n",
              "  'selfemp_n': 0},\n",
              " {'reports': 0,\n",
              "  'age': 23.83333,\n",
              "  'income': 4.8,\n",
              "  'share': 0.0801424999999999,\n",
              "  'expenditure': 320.4867,\n",
              "  'dependents': 0,\n",
              "  'months': 42,\n",
              "  'majorcards': 1,\n",
              "  'active': 2,\n",
              "  'owner_n': 0,\n",
              "  'selfemp_n': 1}]"
            ]
          },
          "metadata": {},
          "execution_count": 27
        }
      ]
    },
    {
      "cell_type": "code",
      "source": [
        "dv = DictVectorizer(sparse=False)\n",
        "\n",
        "train_dict = df_train[features].to_dict(orient='records')\n",
        "X_train = dv.fit_transform(train_dict)"
      ],
      "metadata": {
        "id": "1abvvIL_-e79"
      },
      "execution_count": 28,
      "outputs": []
    },
    {
      "cell_type": "code",
      "source": [
        "model = LogisticRegression(solver='liblinear',C=10, max_iter=1000)\n",
        "model.fit(X_train,y_train)"
      ],
      "metadata": {
        "colab": {
          "base_uri": "https://localhost:8080/"
        },
        "id": "cwLvqg9Y-ywO",
        "outputId": "ded6617d-73aa-4e8f-dfdc-d13ca3ed9b5f"
      },
      "execution_count": 29,
      "outputs": [
        {
          "output_type": "execute_result",
          "data": {
            "text/plain": [
              "LogisticRegression(C=10, max_iter=1000, solver='liblinear')"
            ]
          },
          "metadata": {},
          "execution_count": 29
        }
      ]
    },
    {
      "cell_type": "code",
      "source": [
        "val_dict = df_val[features].to_dict(orient='records')\n",
        "X_val = dv.transform(val_dict)\n",
        "\n",
        "y_pred = model.predict_proba(X_val)[:,1]"
      ],
      "metadata": {
        "id": "5PxpEVE4-8o1"
      },
      "execution_count": 30,
      "outputs": []
    },
    {
      "cell_type": "code",
      "source": [
        "roc_auc_score(y_val,y_pred)"
      ],
      "metadata": {
        "colab": {
          "base_uri": "https://localhost:8080/"
        },
        "id": "17mesCPX_Eqe",
        "outputId": "4d0e6925-7b85-4fde-8f91-e3fd0d955f89"
      },
      "execution_count": 31,
      "outputs": [
        {
          "output_type": "execute_result",
          "data": {
            "text/plain": [
              "0.9955289278368953"
            ]
          },
          "metadata": {},
          "execution_count": 31
        }
      ]
    },
    {
      "cell_type": "markdown",
      "source": [
        "## **Answer: 0.995**"
      ],
      "metadata": {
        "id": "QbxnjXaxTF_H"
      }
    },
    {
      "cell_type": "markdown",
      "source": [
        "# **Question 3**\n",
        "\n",
        "Now let's compute precision and recall for our model.\n",
        "\n",
        "  * Evaluate the model on all thresholds from 0.0 to 1.0 with step 0.01\n",
        "  * For each threshold, compute precision and recall\n",
        "  * Plot them\n",
        "\n",
        "At which threshold do precision and recall curves intersect?\n",
        "\n",
        "* 0.1\n",
        "* 0.3\n",
        "* 0.6\n",
        "* 0.8\n"
      ],
      "metadata": {
        "id": "DSkEwnGOY-_k"
      }
    },
    {
      "cell_type": "code",
      "source": [
        "scores = []\n",
        "thresholds = np.linspace(0, 1, 101)\n",
        "\n",
        "for t in thresholds:\n",
        "  actual_positive = (y_val == 1)\n",
        "  actual_negative = (y_val == 0)\n",
        "\n",
        "  predict_positive = (y_pred >= t)\n",
        "  predict_negative = (y_pred <= t)\n",
        "\n",
        "  tp = (predict_positive & actual_positive).sum()\n",
        "  tn = (predict_negative & actual_negative).sum()\n",
        "\n",
        "  fp = (predict_positive & actual_negative).sum()\n",
        "  fn = (predict_negative & actual_positive).sum()\n",
        "\n",
        "  p = tp / (tp + fp)\n",
        "  r = tp / (tp + fn)\n",
        "\n",
        "  scores.append((t, p, r))\n",
        "\n",
        "columns = ['threshold','precision','recall']\n",
        "df_scores = pd.DataFrame(scores, columns=columns)\n",
        "  \n",
        "plt.plot(df_scores.threshold,df_scores.precision, label ='precision')\n",
        "plt.plot(df_scores.threshold,df_scores.recall,label = 'recall')\n",
        "plt.xlabel('threshold')\n",
        "plt.ylabel('metric')\n",
        "plt.legend()"
      ],
      "metadata": {
        "colab": {
          "base_uri": "https://localhost:8080/",
          "height": 380
        },
        "id": "h-GAgB10_RkA",
        "outputId": "11a9b1f2-9142-4139-ba27-16df39ccd7f9"
      },
      "execution_count": 32,
      "outputs": [
        {
          "output_type": "execute_result",
          "data": {
            "text/plain": [
              "<matplotlib.legend.Legend at 0x7f054c53d310>"
            ]
          },
          "metadata": {},
          "execution_count": 32
        },
        {
          "output_type": "display_data",
          "data": {
            "text/plain": [
              "<Figure size 864x360 with 1 Axes>"
            ],
            "image/png": "[encoded data removed]"
          },
          "metadata": {}
        }
      ]
    },
    {
      "cell_type": "code",
      "source": [
        "df_scores[::10]"
      ],
      "metadata": {
        "colab": {
          "base_uri": "https://localhost:8080/",
          "height": 394
        },
        "id": "IPBH5exi_sIB",
        "outputId": "65a3e985-0325-4494-e019-94e7a2f983c8"
      },
      "execution_count": 33,
      "outputs": [
        {
          "output_type": "execute_result",
          "data": {
            "text/plain": [
              "     threshold  precision    recall\n",
              "0          0.0   0.799242  1.000000\n",
              "10         0.1   0.950226  0.995261\n",
              "20         0.2   0.976303  0.976303\n",
              "30         0.3   0.980952  0.976303\n",
              "40         0.4   0.990291  0.966825\n",
              "50         0.5   0.995122  0.966825\n",
              "60         0.6   0.995122  0.966825\n",
              "70         0.7   0.995122  0.966825\n",
              "80         0.8   0.995122  0.966825\n",
              "90         0.9   0.995122  0.966825\n",
              "100        1.0   1.000000  0.472500"
            ],
            "text/html": [
              "\n",
              "  <div id=\"df-389edf56-6873-4728-8e93-9085a5419caf\">\n",
              "    <div class=\"colab-df-container\">\n",
              "      <div>\n",
              "<style scoped>\n",
              "    .dataframe tbody tr th:only-of-type {\n",
              "        vertical-align: middle;\n",
              "    }\n",
              "\n",
              "    .dataframe tbody tr th {\n",
              "        vertical-align: top;\n",
              "    }\n",
              "\n",
              "    .dataframe thead th {\n",
              "        text-align: right;\n",
              "    }\n",
              "</style>\n",
              "<table border=\"1\" class=\"dataframe\">\n",
              "  <thead>\n",
              "    <tr style=\"text-align: right;\">\n",
              "      <th></th>\n",
              "      <th>threshold</th>\n",
              "      <th>precision</th>\n",
              "      <th>recall</th>\n",
              "    </tr>\n",
              "  </thead>\n",
              "  <tbody>\n",
              "    <tr>\n",
              "      <th>0</th>\n",
              "      <td>0.0</td>\n",
              "      <td>0.799242</td>\n",
              "      <td>1.000000</td>\n",
              "    </tr>\n",
              "    <tr>\n",
              "      <th>10</th>\n",
              "      <td>0.1</td>\n",
              "      <td>0.950226</td>\n",
              "      <td>0.995261</td>\n",
              "    </tr>\n",
              "    <tr>\n",
              "      <th>20</th>\n",
              "      <td>0.2</td>\n",
              "      <td>0.976303</td>\n",
              "      <td>0.976303</td>\n",
              "    </tr>\n",
              "    <tr>\n",
              "      <th>30</th>\n",
              "      <td>0.3</td>\n",
              "      <td>0.980952</td>\n",
              "      <td>0.976303</td>\n",
              "    </tr>\n",
              "    <tr>\n",
              "      <th>40</th>\n",
              "      <td>0.4</td>\n",
              "      <td>0.990291</td>\n",
              "      <td>0.966825</td>\n",
              "    </tr>\n",
              "    <tr>\n",
              "      <th>50</th>\n",
              "      <td>0.5</td>\n",
              "      <td>0.995122</td>\n",
              "      <td>0.966825</td>\n",
              "    </tr>\n",
              "    <tr>\n",
              "      <th>60</th>\n",
              "      <td>0.6</td>\n",
              "      <td>0.995122</td>\n",
              "      <td>0.966825</td>\n",
              "    </tr>\n",
              "    <tr>\n",
              "      <th>70</th>\n",
              "      <td>0.7</td>\n",
              "      <td>0.995122</td>\n",
              "      <td>0.966825</td>\n",
              "    </tr>\n",
              "    <tr>\n",
              "      <th>80</th>\n",
              "      <td>0.8</td>\n",
              "      <td>0.995122</td>\n",
              "      <td>0.966825</td>\n",
              "    </tr>\n",
              "    <tr>\n",
              "      <th>90</th>\n",
              "      <td>0.9</td>\n",
              "      <td>0.995122</td>\n",
              "      <td>0.966825</td>\n",
              "    </tr>\n",
              "    <tr>\n",
              "      <th>100</th>\n",
              "      <td>1.0</td>\n",
              "      <td>1.000000</td>\n",
              "      <td>0.472500</td>\n",
              "    </tr>\n",
              "  </tbody>\n",
              "</table>\n",
              "</div>\n",
              "      <button class=\"colab-df-convert\" onclick=\"convertToInteractive('df-389edf56-6873-4728-8e93-9085a5419caf')\"\n",
              "              title=\"Convert this dataframe to an interactive table.\"\n",
              "              style=\"display:none;\">\n",
              "        \n",
              "  <svg xmlns=\"http://www.w3.org/2000/svg\" height=\"24px\"viewBox=\"0 0 24 24\"\n",
              "       width=\"24px\">\n",
              "    <path d=\"M0 0h24v24H0V0z\" fill=\"none\"/>\n",
              "    <path d=\"M18.56 5.44l.94 2.06.94-2.06 2.06-.94-2.06-.94-.94-2.06-.94 2.06-2.06.94zm-11 1L8.5 8.5l.94-2.06 2.06-.94-2.06-.94L8.5 2.5l-.94 2.06-2.06.94zm10 10l.94 2.06.94-2.06 2.06-.94-2.06-.94-.94-2.06-.94 2.06-2.06.94z\"/><path d=\"M17.41 7.96l-1.37-1.37c-.4-.4-.92-.59-1.43-.59-.52 0-1.04.2-1.43.59L10.3 9.45l-7.72 7.72c-.78.78-.78 2.05 0 2.83L4 21.41c.39.39.9.59 1.41.59.51 0 1.02-.2 1.41-.59l7.78-7.78 2.81-2.81c.8-.78.8-2.07 0-2.86zM5.41 20L4 18.59l7.72-7.72 1.47 1.35L5.41 20z\"/>\n",
              "  </svg>\n",
              "      </button>\n",
              "      \n",
              "  <style>\n",
              "    .colab-df-container {\n",
              "      display:flex;\n",
              "      flex-wrap:wrap;\n",
              "      gap: 12px;\n",
              "    }\n",
              "\n",
              "    .colab-df-convert {\n",
              "      background-color: #E8F0FE;\n",
              "      border: none;\n",
              "      border-radius: 50%;\n",
              "      cursor: pointer;\n",
              "      display: none;\n",
              "      fill: #1967D2;\n",
              "      height: 32px;\n",
              "      padding: 0 0 0 0;\n",
              "      width: 32px;\n",
              "    }\n",
              "\n",
              "    .colab-df-convert:hover {\n",
              "      background-color: #E2EBFA;\n",
              "      box-shadow: 0px 1px 2px rgba(60, 64, 67, 0.3), 0px 1px 3px 1px rgba(60, 64, 67, 0.15);\n",
              "      fill: #174EA6;\n",
              "    }\n",
              "\n",
              "    [theme=dark] .colab-df-convert {\n",
              "      background-color: #3B4455;\n",
              "      fill: #D2E3FC;\n",
              "    }\n",
              "\n",
              "    [theme=dark] .colab-df-convert:hover {\n",
              "      background-color: #434B5C;\n",
              "      box-shadow: 0px 1px 3px 1px rgba(0, 0, 0, 0.15);\n",
              "      filter: drop-shadow(0px 1px 2px rgba(0, 0, 0, 0.3));\n",
              "      fill: #FFFFFF;\n",
              "    }\n",
              "  </style>\n",
              "\n",
              "      <script>\n",
              "        const buttonEl =\n",
              "          document.querySelector('#df-389edf56-6873-4728-8e93-9085a5419caf button.colab-df-convert');\n",
              "        buttonEl.style.display =\n",
              "          google.colab.kernel.accessAllowed ? 'block' : 'none';\n",
              "\n",
              "        async function convertToInteractive(key) {\n",
              "          const element = document.querySelector('#df-389edf56-6873-4728-8e93-9085a5419caf');\n",
              "          const dataTable =\n",
              "            await google.colab.kernel.invokeFunction('convertToInteractive',\n",
              "                                                     [key], {});\n",
              "          if (!dataTable) return;\n",
              "\n",
              "          const docLinkHtml = 'Like what you see? Visit the ' +\n",
              "            '<a target=\"_blank\" href=https://colab.research.google.com/notebooks/data_table.ipynb>data table notebook</a>'\n",
              "            + ' to learn more about interactive tables.';\n",
              "          element.innerHTML = '';\n",
              "          dataTable['output_type'] = 'display_data';\n",
              "          await google.colab.output.renderOutput(dataTable, element);\n",
              "          const docLink = document.createElement('div');\n",
              "          docLink.innerHTML = docLinkHtml;\n",
              "          element.appendChild(docLink);\n",
              "        }\n",
              "      </script>\n",
              "    </div>\n",
              "  </div>\n",
              "  "
            ]
          },
          "metadata": {},
          "execution_count": 33
        }
      ]
    },
    {
      "cell_type": "markdown",
      "source": [
        "## **Answer: 0.3**"
      ],
      "metadata": {
        "id": "MzHOETLkTSgE"
      }
    },
    {
      "cell_type": "markdown",
      "source": [
        "# **Question 4**\n",
        "----\n",
        "Precision and recall are conflicting - when one grows, the other goes down. That's why they are often combined into the F1 score - a metrics that takes into account both\n",
        "\n",
        "This is the formula for computing F1:\n",
        "\n",
        "F1 = 2 * P * R / (P + R)\n",
        "\n",
        "Where P is precision and R is recall.\n",
        "\n",
        "Let's compute F1 for all thresholds from 0.0 to 1.0 with increment 0.01\n",
        "\n",
        "At which threshold F1 is maximal?\n",
        "\n",
        "* 0.1\n",
        "* 0.4\n",
        "* 0.6\n",
        "* 0.7\n"
      ],
      "metadata": {
        "id": "VIaKoICMZm39"
      }
    },
    {
      "cell_type": "code",
      "source": [
        "scores = []\n",
        "thresholds = np.linspace(0, 1, 101)\n",
        "\n",
        "for t in thresholds:\n",
        "  actual_positive = (y_val == 1)\n",
        "  actual_negative = (y_val == 0)\n",
        "\n",
        "  predict_positive = (y_pred >= t)\n",
        "  predict_negative = (y_pred <= t)\n",
        "\n",
        "  tp = (predict_positive & actual_positive).sum()\n",
        "  tn = (predict_negative & actual_negative).sum()\n",
        "\n",
        "  fp = (predict_positive & actual_negative).sum()\n",
        "  fn = (predict_negative & actual_positive).sum()\n",
        "\n",
        "  p = tp / (tp + fp)\n",
        "  r = tp / (tp + fn)\n",
        "  f1_score = 2 * (( p * r) / (p + r))\n",
        "\n",
        "  scores.append((t, p, r, f1_score))\n",
        "\n",
        "columns = ['threshold','precision','recall','f1_score']\n",
        "df_scores = pd.DataFrame(scores, columns=columns)\n",
        "  \n",
        "max_f1_score = df_scores['f1_score'].max()\n",
        "print(max_f1_score)\n",
        "df_scores[df_scores['f1_score'] == max_f1_score].threshold"
      ],
      "metadata": {
        "colab": {
          "base_uri": "https://localhost:8080/"
        },
        "id": "QGZSeBR2Gc7Y",
        "outputId": "69eb1d61-974d-4e88-c811-75844cd978fc"
      },
      "execution_count": 34,
      "outputs": [
        {
          "output_type": "stream",
          "name": "stdout",
          "text": [
            "0.9832935560859187\n"
          ]
        },
        {
          "output_type": "execute_result",
          "data": {
            "text/plain": [
              "36    0.36\n",
              "Name: threshold, dtype: float64"
            ]
          },
          "metadata": {},
          "execution_count": 34
        }
      ]
    },
    {
      "cell_type": "markdown",
      "source": [
        "## **Answer: 0.4**"
      ],
      "metadata": {
        "id": "4wNuZ_6GTd_g"
      }
    },
    {
      "cell_type": "markdown",
      "source": [
        "# **Question 5**\n",
        "----\n",
        "Use the KFold class from Scikit-Learn to evaluate our model on 5 different folds:\n",
        "\n"
      ],
      "metadata": {
        "id": "dG_FA5OnZ8O5"
      }
    },
    {
      "cell_type": "code",
      "source": [
        "KFold(n_splits=5, shuffle=True, random_state=1)"
      ],
      "metadata": {
        "id": "RGDI2nnoaAq6"
      },
      "execution_count": null,
      "outputs": []
    },
    {
      "cell_type": "markdown",
      "source": [
        "* Iterate over different folds of df_full_train\n",
        "* Split the data into train and validation\n",
        "* Train the model on train with these parameters: LogisticRegression(solver='liblinear', C=1.0, max_iter=1000)\n",
        "* Use AUC to evaluate the model on the validation\n",
        "\n",
        "How large is the standard deviation of the AUC scores across different folds?\n",
        "\n",
        "* 0.003\n",
        "* 0.014\n",
        "* 0.09\n",
        "* 0.24"
      ],
      "metadata": {
        "id": "agnlSrJpaGxD"
      }
    },
    {
      "cell_type": "code",
      "source": [
        "columns = ['reports','age','income',\t'share','expenditure','dependents','months','majorcards',\t'active',\t'owner_n',\t'selfemp_n']"
      ],
      "metadata": {
        "id": "_15oa4fTIZt7"
      },
      "execution_count": 35,
      "outputs": []
    },
    {
      "cell_type": "code",
      "source": [
        "def train(df_train, y_train, C=1.0):\n",
        "  dicts = df_train[columns].to_dict(orient='records')\n",
        "\n",
        "  dv = DictVectorizer(sparse=False)\n",
        "  X_train = dv.fit_transform(dicts)\n",
        "\n",
        "  model = LogisticRegression(solver ='liblinear', C=C, max_iter=1000)\n",
        "  model.fit(X_train, y_train)\n",
        "\n",
        "  return dv, model"
      ],
      "metadata": {
        "id": "v7GW80MgJCnj"
      },
      "execution_count": 36,
      "outputs": []
    },
    {
      "cell_type": "code",
      "source": [
        "def predict(df, dv, model):\n",
        "  dicts = df[columns].to_dict(orient='records')\n",
        "\n",
        "  X = dv.transform(dicts)\n",
        "  y_pred = model.predict_proba(X)[:,1]\n",
        "\n",
        "  return y_pred"
      ],
      "metadata": {
        "id": "CDx8f7y2JEm4"
      },
      "execution_count": 37,
      "outputs": []
    },
    {
      "cell_type": "code",
      "source": [
        "from sklearn.model_selection import KFold\n",
        "\n",
        "kfold = KFold(n_splits = 5, shuffle = True, random_state = 1)\n",
        "\n",
        "scores = []\n",
        "\n",
        "for train_idx, val_idx in kfold.split(df_full_train):\n",
        "  df_train = df_full_train.iloc[train_idx]\n",
        "  df_val = df_full_train.iloc[val_idx]\n",
        "\n",
        "  y_train = df_train.card_n.values\n",
        "  y_val = df_val.card_n.values\n",
        "\n",
        "  dv, model = train(df_train, y_train, C = 1)\n",
        "  y_pred = predict(df_val, dv, model)\n",
        "\n",
        "  auc = roc_auc_score(y_val, y_pred)\n",
        "  scores.append(auc)\n"
      ],
      "metadata": {
        "id": "d_OeqmCfKG9T"
      },
      "execution_count": 38,
      "outputs": []
    },
    {
      "cell_type": "code",
      "source": [
        "std = np.array(scores).std()\n",
        "std"
      ],
      "metadata": {
        "colab": {
          "base_uri": "https://localhost:8080/"
        },
        "id": "ChP5Yx6mMdRS",
        "outputId": "fa5a4009-a20b-4020-fc8c-86e091b482b0"
      },
      "execution_count": 39,
      "outputs": [
        {
          "output_type": "execute_result",
          "data": {
            "text/plain": [
              "0.0028356506168456257"
            ]
          },
          "metadata": {},
          "execution_count": 39
        }
      ]
    },
    {
      "cell_type": "markdown",
      "source": [
        "## **Answer: 0.003**"
      ],
      "metadata": {
        "id": "LokcFjV2UVa3"
      }
    },
    {
      "cell_type": "markdown",
      "source": [
        "# **Question 6**\n",
        "\n",
        "Now let's use 5-Fold cross-validation to find the best parameter C\n",
        "\n",
        "* Iterate over the following C values: [0.01, 0.1, 1, 10]\n",
        "* Initialize KFold with the same parameters as previously\n",
        "* Use these parameters for the model: LogisticRegression(solver='liblinear', C=C, max_iter=1000)\n",
        "* Compute the mean score as well as the std (round the mean and std to 3 decimal digits)\n",
        "\n",
        "Which C leads to the best mean score?\n",
        "\n",
        "* 0.01\n",
        "* 0.1\n",
        "* 1\n",
        "* 10\n",
        "\n",
        "If you have ties, select the score with the lowest std. If you still have ties, select the smallest C"
      ],
      "metadata": {
        "id": "7RnfjycgaYZ0"
      }
    },
    {
      "cell_type": "code",
      "source": [
        "def train(df_train, y_train, C=1.0):\n",
        "  dicts = df_train[columns].to_dict(orient='records')\n",
        "\n",
        "  dv = DictVectorizer(sparse=False)\n",
        "  X_train = dv.fit_transform(dicts)\n",
        "\n",
        "  model = LogisticRegression(solver ='liblinear', C=C, max_iter=1000)\n",
        "  model.fit(X_train, y_train)\n",
        "\n",
        "  return dv, model"
      ],
      "metadata": {
        "id": "OLEMaJOmOL9T"
      },
      "execution_count": 40,
      "outputs": []
    },
    {
      "cell_type": "code",
      "source": [
        "def predict(df, dv, model):\n",
        "  dicts = df[columns].to_dict(orient='records')\n",
        "\n",
        "  X = dv.transform(dicts)\n",
        "  y_pred = model.predict_proba(X)[:,1]\n",
        "\n",
        "  return y_pred"
      ],
      "metadata": {
        "id": "rk9D-93ROdEk"
      },
      "execution_count": 41,
      "outputs": []
    },
    {
      "cell_type": "code",
      "source": [
        "n_splits = 5\n",
        "\n",
        "for C in [0.01, 0.1, 1, 10]:\n",
        "  kfold = KFold(n_splits = n_splits, shuffle = True, random_state = 1)\n",
        "  \n",
        "  scores = []\n",
        "  \n",
        "  for train_idx, val_idx in kfold.split(df_full_train): # the k-fold split uses indx to shuffle the data\n",
        "    df_train = df_full_train.iloc[train_idx]\n",
        "    df_val = df_full_train.iloc[val_idx]\n",
        "\n",
        "    y_train = df_train.card_n.values # y values comes from dataset\n",
        "    y_val = df_val.card_n.values\n",
        "\n",
        "    dv, model = train(df_train, y_train, C = 1) #training and predicting\n",
        "    y_pred = predict(df_val, dv, model)\n",
        "\n",
        "    auc = roc_auc_score(y_val, y_pred) # AUC\n",
        "    scores.append(auc)\n",
        "\n",
        "print ('C= %s %.3f +- %.3f' % (C,np.mean(scores),np.std(scores)))\n"
      ],
      "metadata": {
        "colab": {
          "base_uri": "https://localhost:8080/"
        },
        "id": "XEk3l5-kOwi9",
        "outputId": "0cf8e958-8f1c-411d-d94f-ef6d85d17fc0"
      },
      "execution_count": 42,
      "outputs": [
        {
          "output_type": "stream",
          "name": "stdout",
          "text": [
            "C= 10 0.996 +- 0.003\n"
          ]
        }
      ]
    },
    {
      "cell_type": "markdown",
      "source": [
        "## **Answer: 10**"
      ],
      "metadata": {
        "id": "EJCARKEtUKw7"
      }
    }
  ]
}