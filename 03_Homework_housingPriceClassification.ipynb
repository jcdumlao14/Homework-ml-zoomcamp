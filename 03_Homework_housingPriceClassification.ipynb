{
  "nbformat": 4,
  "nbformat_minor": 0,
  "metadata": {
    "colab": {
      "provenance": [],
      "collapsed_sections": [],
      "authorship_tag": "ABX9TyOjKPRCW5hxzNGRdtX+GhyR",
      "include_colab_link": true
    },
    "kernelspec": {
      "name": "python3",
      "display_name": "Python 3"
    },
    "language_info": {
      "name": "python"
    }
  },
  "cells": [
    {
      "cell_type": "markdown",
      "metadata": {
        "id": "view-in-github",
        "colab_type": "text"
      },
      "source": [
        "<a href=\"https://colab.research.google.com/github/jcdumlao14/Homework-ml-zoomcamp/blob/main/03_Homework_housingPriceClassification.ipynb\" target=\"_parent\"><img src=\"https://colab.research.google.com/assets/colab-badge.svg\" alt=\"Open In Colab\"/></a>"
      ]
    },
    {
      "cell_type": "markdown",
      "source": [
        "# **Machine Learning Zoomcamp 2022**\n",
        "\n",
        "## Classification - California Housing Prices"
      ],
      "metadata": {
        "id": "-CGUUSOkPRjc"
      }
    },
    {
      "cell_type": "markdown",
      "source": [
        "# **Homework 03** \n",
        "\n",
        "\n",
        "\n",
        "> Note: sometimes your answer doesn't match one of the options exactly. That's fine. Select the option that's closest to your solution.\n",
        "\n",
        "\n",
        "\n"
      ],
      "metadata": {
        "id": "C7xiem0IPTlZ"
      }
    },
    {
      "cell_type": "markdown",
      "source": [
        "# **Dataset**\n",
        "\n",
        "In this homework, we will use the California Housing Prices data from Kaggle.\n",
        "\n",
        "Here's a wget-able link:\n",
        "\n"
      ],
      "metadata": {
        "id": "vunsoYQdPTT9"
      }
    },
    {
      "cell_type": "markdown",
      "source": [
        "# **Import Libraries**"
      ],
      "metadata": {
        "id": "Z9tFDXiXzvIQ"
      }
    },
    {
      "cell_type": "code",
      "source": [
        "import pandas as pd\n",
        "import numpy as np\n",
        "import matplotlib.pyplot as plt\n",
        "import seaborn as sns\n",
        "from sklearn.model_selection import train_test_split\n",
        "from sklearn.impute import SimpleImputer\n",
        "from sklearn.metrics import mutual_info_score, mean_squared_error\n",
        "from sklearn.feature_extraction import DictVectorizer\n",
        "from sklearn.linear_model import LogisticRegression, Ridge\n",
        "\n",
        "plt.rcParams['figure.figsize'] = (16,8)\n",
        "plt.style.use('fivethirtyeight')\n",
        "\n",
        "import warnings\n",
        "warnings.filterwarnings(\"ignore\")"
      ],
      "metadata": {
        "id": "uyPyH0aCVwbK"
      },
      "execution_count": 1,
      "outputs": []
    },
    {
      "cell_type": "markdown",
      "source": [
        "# **Loading and Reading Data**"
      ],
      "metadata": {
        "id": "c14o0HqQXsZO"
      }
    },
    {
      "cell_type": "code",
      "source": [
        "!wget https://raw.githubusercontent.com/alexeygrigorev/datasets/master/housing.csv"
      ],
      "metadata": {
        "colab": {
          "base_uri": "https://localhost:8080/"
        },
        "id": "_jJW6b0WQtSZ",
        "outputId": "ac4e5f91-1285-4bc6-f2f5-e7c2ee1aea16"
      },
      "execution_count": 2,
      "outputs": [
        {
          "output_type": "stream",
          "name": "stdout",
          "text": [
            "--2022-10-01 00:43:25--  https://raw.githubusercontent.com/alexeygrigorev/datasets/master/housing.csv\n",
            "Resolving raw.githubusercontent.com (raw.githubusercontent.com)... 185.199.108.133, 185.199.109.133, 185.199.110.133, ...\n",
            "Connecting to raw.githubusercontent.com (raw.githubusercontent.com)|185.199.108.133|:443... connected.\n",
            "HTTP request sent, awaiting response... 200 OK\n",
            "Length: 1423529 (1.4M) [text/plain]\n",
            "Saving to: ‘housing.csv’\n",
            "\n",
            "housing.csv         100%[===================>]   1.36M  --.-KB/s    in 0.05s   \n",
            "\n",
            "2022-10-01 00:43:25 (24.8 MB/s) - ‘housing.csv’ saved [1423529/1423529]\n",
            "\n"
          ]
        }
      ]
    },
    {
      "cell_type": "code",
      "source": [
        "data = pd.read_csv('housing.csv')\n",
        "data.head()"
      ],
      "metadata": {
        "colab": {
          "base_uri": "https://localhost:8080/",
          "height": 270
        },
        "id": "mBMrZUBoXTJP",
        "outputId": "9bfe7f56-4187-44b5-90d5-dd0eda0e8653"
      },
      "execution_count": 3,
      "outputs": [
        {
          "output_type": "execute_result",
          "data": {
            "text/plain": [
              "   longitude  latitude  housing_median_age  total_rooms  total_bedrooms  \\\n",
              "0    -122.23     37.88                41.0        880.0           129.0   \n",
              "1    -122.22     37.86                21.0       7099.0          1106.0   \n",
              "2    -122.24     37.85                52.0       1467.0           190.0   \n",
              "3    -122.25     37.85                52.0       1274.0           235.0   \n",
              "4    -122.25     37.85                52.0       1627.0           280.0   \n",
              "\n",
              "   population  households  median_income  median_house_value ocean_proximity  \n",
              "0       322.0       126.0         8.3252            452600.0        NEAR BAY  \n",
              "1      2401.0      1138.0         8.3014            358500.0        NEAR BAY  \n",
              "2       496.0       177.0         7.2574            352100.0        NEAR BAY  \n",
              "3       558.0       219.0         5.6431            341300.0        NEAR BAY  \n",
              "4       565.0       259.0         3.8462            342200.0        NEAR BAY  "
            ],
            "text/html": [
              "\n",
              "  <div id=\"df-05c55b80-5789-4883-8920-3fa0af91c9e8\">\n",
              "    <div class=\"colab-df-container\">\n",
              "      <div>\n",
              "<style scoped>\n",
              "    .dataframe tbody tr th:only-of-type {\n",
              "        vertical-align: middle;\n",
              "    }\n",
              "\n",
              "    .dataframe tbody tr th {\n",
              "        vertical-align: top;\n",
              "    }\n",
              "\n",
              "    .dataframe thead th {\n",
              "        text-align: right;\n",
              "    }\n",
              "</style>\n",
              "<table border=\"1\" class=\"dataframe\">\n",
              "  <thead>\n",
              "    <tr style=\"text-align: right;\">\n",
              "      <th></th>\n",
              "      <th>longitude</th>\n",
              "      <th>latitude</th>\n",
              "      <th>housing_median_age</th>\n",
              "      <th>total_rooms</th>\n",
              "      <th>total_bedrooms</th>\n",
              "      <th>population</th>\n",
              "      <th>households</th>\n",
              "      <th>median_income</th>\n",
              "      <th>median_house_value</th>\n",
              "      <th>ocean_proximity</th>\n",
              "    </tr>\n",
              "  </thead>\n",
              "  <tbody>\n",
              "    <tr>\n",
              "      <th>0</th>\n",
              "      <td>-122.23</td>\n",
              "      <td>37.88</td>\n",
              "      <td>41.0</td>\n",
              "      <td>880.0</td>\n",
              "      <td>129.0</td>\n",
              "      <td>322.0</td>\n",
              "      <td>126.0</td>\n",
              "      <td>8.3252</td>\n",
              "      <td>452600.0</td>\n",
              "      <td>NEAR BAY</td>\n",
              "    </tr>\n",
              "    <tr>\n",
              "      <th>1</th>\n",
              "      <td>-122.22</td>\n",
              "      <td>37.86</td>\n",
              "      <td>21.0</td>\n",
              "      <td>7099.0</td>\n",
              "      <td>1106.0</td>\n",
              "      <td>2401.0</td>\n",
              "      <td>1138.0</td>\n",
              "      <td>8.3014</td>\n",
              "      <td>358500.0</td>\n",
              "      <td>NEAR BAY</td>\n",
              "    </tr>\n",
              "    <tr>\n",
              "      <th>2</th>\n",
              "      <td>-122.24</td>\n",
              "      <td>37.85</td>\n",
              "      <td>52.0</td>\n",
              "      <td>1467.0</td>\n",
              "      <td>190.0</td>\n",
              "      <td>496.0</td>\n",
              "      <td>177.0</td>\n",
              "      <td>7.2574</td>\n",
              "      <td>352100.0</td>\n",
              "      <td>NEAR BAY</td>\n",
              "    </tr>\n",
              "    <tr>\n",
              "      <th>3</th>\n",
              "      <td>-122.25</td>\n",
              "      <td>37.85</td>\n",
              "      <td>52.0</td>\n",
              "      <td>1274.0</td>\n",
              "      <td>235.0</td>\n",
              "      <td>558.0</td>\n",
              "      <td>219.0</td>\n",
              "      <td>5.6431</td>\n",
              "      <td>341300.0</td>\n",
              "      <td>NEAR BAY</td>\n",
              "    </tr>\n",
              "    <tr>\n",
              "      <th>4</th>\n",
              "      <td>-122.25</td>\n",
              "      <td>37.85</td>\n",
              "      <td>52.0</td>\n",
              "      <td>1627.0</td>\n",
              "      <td>280.0</td>\n",
              "      <td>565.0</td>\n",
              "      <td>259.0</td>\n",
              "      <td>3.8462</td>\n",
              "      <td>342200.0</td>\n",
              "      <td>NEAR BAY</td>\n",
              "    </tr>\n",
              "  </tbody>\n",
              "</table>\n",
              "</div>\n",
              "      <button class=\"colab-df-convert\" onclick=\"convertToInteractive('df-05c55b80-5789-4883-8920-3fa0af91c9e8')\"\n",
              "              title=\"Convert this dataframe to an interactive table.\"\n",
              "              style=\"display:none;\">\n",
              "        \n",
              "  <svg xmlns=\"http://www.w3.org/2000/svg\" height=\"24px\"viewBox=\"0 0 24 24\"\n",
              "       width=\"24px\">\n",
              "    <path d=\"M0 0h24v24H0V0z\" fill=\"none\"/>\n",
              "    <path d=\"M18.56 5.44l.94 2.06.94-2.06 2.06-.94-2.06-.94-.94-2.06-.94 2.06-2.06.94zm-11 1L8.5 8.5l.94-2.06 2.06-.94-2.06-.94L8.5 2.5l-.94 2.06-2.06.94zm10 10l.94 2.06.94-2.06 2.06-.94-2.06-.94-.94-2.06-.94 2.06-2.06.94z\"/><path d=\"M17.41 7.96l-1.37-1.37c-.4-.4-.92-.59-1.43-.59-.52 0-1.04.2-1.43.59L10.3 9.45l-7.72 7.72c-.78.78-.78 2.05 0 2.83L4 21.41c.39.39.9.59 1.41.59.51 0 1.02-.2 1.41-.59l7.78-7.78 2.81-2.81c.8-.78.8-2.07 0-2.86zM5.41 20L4 18.59l7.72-7.72 1.47 1.35L5.41 20z\"/>\n",
              "  </svg>\n",
              "      </button>\n",
              "      \n",
              "  <style>\n",
              "    .colab-df-container {\n",
              "      display:flex;\n",
              "      flex-wrap:wrap;\n",
              "      gap: 12px;\n",
              "    }\n",
              "\n",
              "    .colab-df-convert {\n",
              "      background-color: #E8F0FE;\n",
              "      border: none;\n",
              "      border-radius: 50%;\n",
              "      cursor: pointer;\n",
              "      display: none;\n",
              "      fill: #1967D2;\n",
              "      height: 32px;\n",
              "      padding: 0 0 0 0;\n",
              "      width: 32px;\n",
              "    }\n",
              "\n",
              "    .colab-df-convert:hover {\n",
              "      background-color: #E2EBFA;\n",
              "      box-shadow: 0px 1px 2px rgba(60, 64, 67, 0.3), 0px 1px 3px 1px rgba(60, 64, 67, 0.15);\n",
              "      fill: #174EA6;\n",
              "    }\n",
              "\n",
              "    [theme=dark] .colab-df-convert {\n",
              "      background-color: #3B4455;\n",
              "      fill: #D2E3FC;\n",
              "    }\n",
              "\n",
              "    [theme=dark] .colab-df-convert:hover {\n",
              "      background-color: #434B5C;\n",
              "      box-shadow: 0px 1px 3px 1px rgba(0, 0, 0, 0.15);\n",
              "      filter: drop-shadow(0px 1px 2px rgba(0, 0, 0, 0.3));\n",
              "      fill: #FFFFFF;\n",
              "    }\n",
              "  </style>\n",
              "\n",
              "      <script>\n",
              "        const buttonEl =\n",
              "          document.querySelector('#df-05c55b80-5789-4883-8920-3fa0af91c9e8 button.colab-df-convert');\n",
              "        buttonEl.style.display =\n",
              "          google.colab.kernel.accessAllowed ? 'block' : 'none';\n",
              "\n",
              "        async function convertToInteractive(key) {\n",
              "          const element = document.querySelector('#df-05c55b80-5789-4883-8920-3fa0af91c9e8');\n",
              "          const dataTable =\n",
              "            await google.colab.kernel.invokeFunction('convertToInteractive',\n",
              "                                                     [key], {});\n",
              "          if (!dataTable) return;\n",
              "\n",
              "          const docLinkHtml = 'Like what you see? Visit the ' +\n",
              "            '<a target=\"_blank\" href=https://colab.research.google.com/notebooks/data_table.ipynb>data table notebook</a>'\n",
              "            + ' to learn more about interactive tables.';\n",
              "          element.innerHTML = '';\n",
              "          dataTable['output_type'] = 'display_data';\n",
              "          await google.colab.output.renderOutput(dataTable, element);\n",
              "          const docLink = document.createElement('div');\n",
              "          docLink.innerHTML = docLinkHtml;\n",
              "          element.appendChild(docLink);\n",
              "        }\n",
              "      </script>\n",
              "    </div>\n",
              "  </div>\n",
              "  "
            ]
          },
          "metadata": {},
          "execution_count": 3
        }
      ]
    },
    {
      "cell_type": "markdown",
      "source": [
        "We'll keep working with the 'median_house_value' variable, and we'll transform it to a classification task."
      ],
      "metadata": {
        "id": "ohpVODr4Qspu"
      }
    },
    {
      "cell_type": "markdown",
      "source": [
        "Features\n",
        "\n",
        "For the rest of the homework, you'll need to use only these columns:\n",
        "\n",
        "* 'latitude',\n",
        "* 'longitude',\n",
        "* 'housing_median_age',\n",
        "* 'total_rooms',\n",
        "* 'total_bedrooms',\n",
        "* 'population',\n",
        "* 'households',\n",
        "* 'median_income',\n",
        "* 'median_house_value',\n",
        "* 'ocean_proximity',"
      ],
      "metadata": {
        "id": "YFOpwCrZPS4i"
      }
    },
    {
      "cell_type": "markdown",
      "source": [
        "# Data preparation\n",
        "\n",
        "* Select only the features from above and fill in the missing values with 0.\n",
        "* Create a new column rooms_per_household by dividing the column total_rooms by the column households from dataframe.\n",
        "* Create a new column bedrooms_per_room by dividing the column total_bedrooms by the column total_rooms from dataframe.\n",
        "* Create a new column population_per_household by dividing the column population by the column households from dataframe.\n"
      ],
      "metadata": {
        "id": "mic7mI8ERNBo"
      }
    },
    {
      "cell_type": "code",
      "source": [
        "features = ['latitude','longitude','housing_median_age','total_rooms','total_bedrooms','population','households','median_income','median_house_value','ocean_proximity']\n",
        "\n",
        "df = data[features]\n",
        "\n",
        "df.describe()"
      ],
      "metadata": {
        "colab": {
          "base_uri": "https://localhost:8080/",
          "height": 344
        },
        "id": "IQjDyf9aQZXG",
        "outputId": "4bc350cc-d75f-4d18-c67e-8fec5ba9f358"
      },
      "execution_count": 4,
      "outputs": [
        {
          "output_type": "execute_result",
          "data": {
            "text/plain": [
              "           latitude     longitude  housing_median_age   total_rooms  \\\n",
              "count  20640.000000  20640.000000        20640.000000  20640.000000   \n",
              "mean      35.631861   -119.569704           28.639486   2635.763081   \n",
              "std        2.135952      2.003532           12.585558   2181.615252   \n",
              "min       32.540000   -124.350000            1.000000      2.000000   \n",
              "25%       33.930000   -121.800000           18.000000   1447.750000   \n",
              "50%       34.260000   -118.490000           29.000000   2127.000000   \n",
              "75%       37.710000   -118.010000           37.000000   3148.000000   \n",
              "max       41.950000   -114.310000           52.000000  39320.000000   \n",
              "\n",
              "       total_bedrooms    population    households  median_income  \\\n",
              "count    20433.000000  20640.000000  20640.000000   20640.000000   \n",
              "mean       537.870553   1425.476744    499.539680       3.870671   \n",
              "std        421.385070   1132.462122    382.329753       1.899822   \n",
              "min          1.000000      3.000000      1.000000       0.499900   \n",
              "25%        296.000000    787.000000    280.000000       2.563400   \n",
              "50%        435.000000   1166.000000    409.000000       3.534800   \n",
              "75%        647.000000   1725.000000    605.000000       4.743250   \n",
              "max       6445.000000  35682.000000   6082.000000      15.000100   \n",
              "\n",
              "       median_house_value  \n",
              "count        20640.000000  \n",
              "mean        206855.816909  \n",
              "std         115395.615874  \n",
              "min          14999.000000  \n",
              "25%         119600.000000  \n",
              "50%         179700.000000  \n",
              "75%         264725.000000  \n",
              "max         500001.000000  "
            ],
            "text/html": [
              "\n",
              "  <div id=\"df-941a7d10-1f5b-4fe2-9c14-83971a36d16a\">\n",
              "    <div class=\"colab-df-container\">\n",
              "      <div>\n",
              "<style scoped>\n",
              "    .dataframe tbody tr th:only-of-type {\n",
              "        vertical-align: middle;\n",
              "    }\n",
              "\n",
              "    .dataframe tbody tr th {\n",
              "        vertical-align: top;\n",
              "    }\n",
              "\n",
              "    .dataframe thead th {\n",
              "        text-align: right;\n",
              "    }\n",
              "</style>\n",
              "<table border=\"1\" class=\"dataframe\">\n",
              "  <thead>\n",
              "    <tr style=\"text-align: right;\">\n",
              "      <th></th>\n",
              "      <th>latitude</th>\n",
              "      <th>longitude</th>\n",
              "      <th>housing_median_age</th>\n",
              "      <th>total_rooms</th>\n",
              "      <th>total_bedrooms</th>\n",
              "      <th>population</th>\n",
              "      <th>households</th>\n",
              "      <th>median_income</th>\n",
              "      <th>median_house_value</th>\n",
              "    </tr>\n",
              "  </thead>\n",
              "  <tbody>\n",
              "    <tr>\n",
              "      <th>count</th>\n",
              "      <td>20640.000000</td>\n",
              "      <td>20640.000000</td>\n",
              "      <td>20640.000000</td>\n",
              "      <td>20640.000000</td>\n",
              "      <td>20433.000000</td>\n",
              "      <td>20640.000000</td>\n",
              "      <td>20640.000000</td>\n",
              "      <td>20640.000000</td>\n",
              "      <td>20640.000000</td>\n",
              "    </tr>\n",
              "    <tr>\n",
              "      <th>mean</th>\n",
              "      <td>35.631861</td>\n",
              "      <td>-119.569704</td>\n",
              "      <td>28.639486</td>\n",
              "      <td>2635.763081</td>\n",
              "      <td>537.870553</td>\n",
              "      <td>1425.476744</td>\n",
              "      <td>499.539680</td>\n",
              "      <td>3.870671</td>\n",
              "      <td>206855.816909</td>\n",
              "    </tr>\n",
              "    <tr>\n",
              "      <th>std</th>\n",
              "      <td>2.135952</td>\n",
              "      <td>2.003532</td>\n",
              "      <td>12.585558</td>\n",
              "      <td>2181.615252</td>\n",
              "      <td>421.385070</td>\n",
              "      <td>1132.462122</td>\n",
              "      <td>382.329753</td>\n",
              "      <td>1.899822</td>\n",
              "      <td>115395.615874</td>\n",
              "    </tr>\n",
              "    <tr>\n",
              "      <th>min</th>\n",
              "      <td>32.540000</td>\n",
              "      <td>-124.350000</td>\n",
              "      <td>1.000000</td>\n",
              "      <td>2.000000</td>\n",
              "      <td>1.000000</td>\n",
              "      <td>3.000000</td>\n",
              "      <td>1.000000</td>\n",
              "      <td>0.499900</td>\n",
              "      <td>14999.000000</td>\n",
              "    </tr>\n",
              "    <tr>\n",
              "      <th>25%</th>\n",
              "      <td>33.930000</td>\n",
              "      <td>-121.800000</td>\n",
              "      <td>18.000000</td>\n",
              "      <td>1447.750000</td>\n",
              "      <td>296.000000</td>\n",
              "      <td>787.000000</td>\n",
              "      <td>280.000000</td>\n",
              "      <td>2.563400</td>\n",
              "      <td>119600.000000</td>\n",
              "    </tr>\n",
              "    <tr>\n",
              "      <th>50%</th>\n",
              "      <td>34.260000</td>\n",
              "      <td>-118.490000</td>\n",
              "      <td>29.000000</td>\n",
              "      <td>2127.000000</td>\n",
              "      <td>435.000000</td>\n",
              "      <td>1166.000000</td>\n",
              "      <td>409.000000</td>\n",
              "      <td>3.534800</td>\n",
              "      <td>179700.000000</td>\n",
              "    </tr>\n",
              "    <tr>\n",
              "      <th>75%</th>\n",
              "      <td>37.710000</td>\n",
              "      <td>-118.010000</td>\n",
              "      <td>37.000000</td>\n",
              "      <td>3148.000000</td>\n",
              "      <td>647.000000</td>\n",
              "      <td>1725.000000</td>\n",
              "      <td>605.000000</td>\n",
              "      <td>4.743250</td>\n",
              "      <td>264725.000000</td>\n",
              "    </tr>\n",
              "    <tr>\n",
              "      <th>max</th>\n",
              "      <td>41.950000</td>\n",
              "      <td>-114.310000</td>\n",
              "      <td>52.000000</td>\n",
              "      <td>39320.000000</td>\n",
              "      <td>6445.000000</td>\n",
              "      <td>35682.000000</td>\n",
              "      <td>6082.000000</td>\n",
              "      <td>15.000100</td>\n",
              "      <td>500001.000000</td>\n",
              "    </tr>\n",
              "  </tbody>\n",
              "</table>\n",
              "</div>\n",
              "      <button class=\"colab-df-convert\" onclick=\"convertToInteractive('df-941a7d10-1f5b-4fe2-9c14-83971a36d16a')\"\n",
              "              title=\"Convert this dataframe to an interactive table.\"\n",
              "              style=\"display:none;\">\n",
              "        \n",
              "  <svg xmlns=\"http://www.w3.org/2000/svg\" height=\"24px\"viewBox=\"0 0 24 24\"\n",
              "       width=\"24px\">\n",
              "    <path d=\"M0 0h24v24H0V0z\" fill=\"none\"/>\n",
              "    <path d=\"M18.56 5.44l.94 2.06.94-2.06 2.06-.94-2.06-.94-.94-2.06-.94 2.06-2.06.94zm-11 1L8.5 8.5l.94-2.06 2.06-.94-2.06-.94L8.5 2.5l-.94 2.06-2.06.94zm10 10l.94 2.06.94-2.06 2.06-.94-2.06-.94-.94-2.06-.94 2.06-2.06.94z\"/><path d=\"M17.41 7.96l-1.37-1.37c-.4-.4-.92-.59-1.43-.59-.52 0-1.04.2-1.43.59L10.3 9.45l-7.72 7.72c-.78.78-.78 2.05 0 2.83L4 21.41c.39.39.9.59 1.41.59.51 0 1.02-.2 1.41-.59l7.78-7.78 2.81-2.81c.8-.78.8-2.07 0-2.86zM5.41 20L4 18.59l7.72-7.72 1.47 1.35L5.41 20z\"/>\n",
              "  </svg>\n",
              "      </button>\n",
              "      \n",
              "  <style>\n",
              "    .colab-df-container {\n",
              "      display:flex;\n",
              "      flex-wrap:wrap;\n",
              "      gap: 12px;\n",
              "    }\n",
              "\n",
              "    .colab-df-convert {\n",
              "      background-color: #E8F0FE;\n",
              "      border: none;\n",
              "      border-radius: 50%;\n",
              "      cursor: pointer;\n",
              "      display: none;\n",
              "      fill: #1967D2;\n",
              "      height: 32px;\n",
              "      padding: 0 0 0 0;\n",
              "      width: 32px;\n",
              "    }\n",
              "\n",
              "    .colab-df-convert:hover {\n",
              "      background-color: #E2EBFA;\n",
              "      box-shadow: 0px 1px 2px rgba(60, 64, 67, 0.3), 0px 1px 3px 1px rgba(60, 64, 67, 0.15);\n",
              "      fill: #174EA6;\n",
              "    }\n",
              "\n",
              "    [theme=dark] .colab-df-convert {\n",
              "      background-color: #3B4455;\n",
              "      fill: #D2E3FC;\n",
              "    }\n",
              "\n",
              "    [theme=dark] .colab-df-convert:hover {\n",
              "      background-color: #434B5C;\n",
              "      box-shadow: 0px 1px 3px 1px rgba(0, 0, 0, 0.15);\n",
              "      filter: drop-shadow(0px 1px 2px rgba(0, 0, 0, 0.3));\n",
              "      fill: #FFFFFF;\n",
              "    }\n",
              "  </style>\n",
              "\n",
              "      <script>\n",
              "        const buttonEl =\n",
              "          document.querySelector('#df-941a7d10-1f5b-4fe2-9c14-83971a36d16a button.colab-df-convert');\n",
              "        buttonEl.style.display =\n",
              "          google.colab.kernel.accessAllowed ? 'block' : 'none';\n",
              "\n",
              "        async function convertToInteractive(key) {\n",
              "          const element = document.querySelector('#df-941a7d10-1f5b-4fe2-9c14-83971a36d16a');\n",
              "          const dataTable =\n",
              "            await google.colab.kernel.invokeFunction('convertToInteractive',\n",
              "                                                     [key], {});\n",
              "          if (!dataTable) return;\n",
              "\n",
              "          const docLinkHtml = 'Like what you see? Visit the ' +\n",
              "            '<a target=\"_blank\" href=https://colab.research.google.com/notebooks/data_table.ipynb>data table notebook</a>'\n",
              "            + ' to learn more about interactive tables.';\n",
              "          element.innerHTML = '';\n",
              "          dataTable['output_type'] = 'display_data';\n",
              "          await google.colab.output.renderOutput(dataTable, element);\n",
              "          const docLink = document.createElement('div');\n",
              "          docLink.innerHTML = docLinkHtml;\n",
              "          element.appendChild(docLink);\n",
              "        }\n",
              "      </script>\n",
              "    </div>\n",
              "  </div>\n",
              "  "
            ]
          },
          "metadata": {},
          "execution_count": 4
        }
      ]
    },
    {
      "cell_type": "markdown",
      "source": [
        "### Select only the features from above and fill in the missing values with "
      ],
      "metadata": {
        "id": "6XpYJ1tySWsU"
      }
    },
    {
      "cell_type": "code",
      "source": [
        "from IPython.display import display \n",
        "missing_vals = df.isnull().sum()\n",
        "print(\"Before Inputing Missing Values\")\n",
        "display(missing_vals.to_frame().reset_index().rename({'index':'Variables',0:'Missing Values'}, axis = 1).sort_values\n",
        "        (by = 'Missing Values', ascending = False).style.background_gradient('Reds'))\n",
        "\n",
        "df.fillna(0, inplace = True)\n",
        "print(\"After Inputing Missing Values\")\n",
        "display(df.isnull().sum().to_frame().reset_index().rename({'index':'Varaibles',0:'Missing Values'},axis =1).style.background_gradient('Reds'))\n"
      ],
      "metadata": {
        "colab": {
          "base_uri": "https://localhost:8080/",
          "height": 745
        },
        "id": "cyET1sKjSTXW",
        "outputId": "8ff608a2-50b9-4f71-9e16-cd9bbbafe632"
      },
      "execution_count": 5,
      "outputs": [
        {
          "output_type": "stream",
          "name": "stdout",
          "text": [
            "Before Inputing Missing Values\n"
          ]
        },
        {
          "output_type": "display_data",
          "data": {
            "text/plain": [
              "<pandas.io.formats.style.Styler at 0x7f3796f75c10>"
            ],
            "text/html": [
              "<style type=\"text/css\">\n",
              "#T_ced27_row0_col1 {\n",
              "  background-color: #67000d;\n",
              "  color: #f1f1f1;\n",
              "}\n",
              "#T_ced27_row1_col1, #T_ced27_row2_col1, #T_ced27_row3_col1, #T_ced27_row4_col1, #T_ced27_row5_col1, #T_ced27_row6_col1, #T_ced27_row7_col1, #T_ced27_row8_col1, #T_ced27_row9_col1 {\n",
              "  background-color: #fff5f0;\n",
              "  color: #000000;\n",
              "}\n",
              "</style>\n",
              "<table id=\"T_ced27_\" class=\"dataframe\">\n",
              "  <thead>\n",
              "    <tr>\n",
              "      <th class=\"blank level0\" >&nbsp;</th>\n",
              "      <th class=\"col_heading level0 col0\" >Variables</th>\n",
              "      <th class=\"col_heading level0 col1\" >Missing Values</th>\n",
              "    </tr>\n",
              "  </thead>\n",
              "  <tbody>\n",
              "    <tr>\n",
              "      <th id=\"T_ced27_level0_row0\" class=\"row_heading level0 row0\" >4</th>\n",
              "      <td id=\"T_ced27_row0_col0\" class=\"data row0 col0\" >total_bedrooms</td>\n",
              "      <td id=\"T_ced27_row0_col1\" class=\"data row0 col1\" >207</td>\n",
              "    </tr>\n",
              "    <tr>\n",
              "      <th id=\"T_ced27_level0_row1\" class=\"row_heading level0 row1\" >0</th>\n",
              "      <td id=\"T_ced27_row1_col0\" class=\"data row1 col0\" >latitude</td>\n",
              "      <td id=\"T_ced27_row1_col1\" class=\"data row1 col1\" >0</td>\n",
              "    </tr>\n",
              "    <tr>\n",
              "      <th id=\"T_ced27_level0_row2\" class=\"row_heading level0 row2\" >1</th>\n",
              "      <td id=\"T_ced27_row2_col0\" class=\"data row2 col0\" >longitude</td>\n",
              "      <td id=\"T_ced27_row2_col1\" class=\"data row2 col1\" >0</td>\n",
              "    </tr>\n",
              "    <tr>\n",
              "      <th id=\"T_ced27_level0_row3\" class=\"row_heading level0 row3\" >2</th>\n",
              "      <td id=\"T_ced27_row3_col0\" class=\"data row3 col0\" >housing_median_age</td>\n",
              "      <td id=\"T_ced27_row3_col1\" class=\"data row3 col1\" >0</td>\n",
              "    </tr>\n",
              "    <tr>\n",
              "      <th id=\"T_ced27_level0_row4\" class=\"row_heading level0 row4\" >3</th>\n",
              "      <td id=\"T_ced27_row4_col0\" class=\"data row4 col0\" >total_rooms</td>\n",
              "      <td id=\"T_ced27_row4_col1\" class=\"data row4 col1\" >0</td>\n",
              "    </tr>\n",
              "    <tr>\n",
              "      <th id=\"T_ced27_level0_row5\" class=\"row_heading level0 row5\" >5</th>\n",
              "      <td id=\"T_ced27_row5_col0\" class=\"data row5 col0\" >population</td>\n",
              "      <td id=\"T_ced27_row5_col1\" class=\"data row5 col1\" >0</td>\n",
              "    </tr>\n",
              "    <tr>\n",
              "      <th id=\"T_ced27_level0_row6\" class=\"row_heading level0 row6\" >6</th>\n",
              "      <td id=\"T_ced27_row6_col0\" class=\"data row6 col0\" >households</td>\n",
              "      <td id=\"T_ced27_row6_col1\" class=\"data row6 col1\" >0</td>\n",
              "    </tr>\n",
              "    <tr>\n",
              "      <th id=\"T_ced27_level0_row7\" class=\"row_heading level0 row7\" >7</th>\n",
              "      <td id=\"T_ced27_row7_col0\" class=\"data row7 col0\" >median_income</td>\n",
              "      <td id=\"T_ced27_row7_col1\" class=\"data row7 col1\" >0</td>\n",
              "    </tr>\n",
              "    <tr>\n",
              "      <th id=\"T_ced27_level0_row8\" class=\"row_heading level0 row8\" >8</th>\n",
              "      <td id=\"T_ced27_row8_col0\" class=\"data row8 col0\" >median_house_value</td>\n",
              "      <td id=\"T_ced27_row8_col1\" class=\"data row8 col1\" >0</td>\n",
              "    </tr>\n",
              "    <tr>\n",
              "      <th id=\"T_ced27_level0_row9\" class=\"row_heading level0 row9\" >9</th>\n",
              "      <td id=\"T_ced27_row9_col0\" class=\"data row9 col0\" >ocean_proximity</td>\n",
              "      <td id=\"T_ced27_row9_col1\" class=\"data row9 col1\" >0</td>\n",
              "    </tr>\n",
              "  </tbody>\n",
              "</table>\n"
            ]
          },
          "metadata": {}
        },
        {
          "output_type": "stream",
          "name": "stdout",
          "text": [
            "After Inputing Missing Values\n"
          ]
        },
        {
          "output_type": "display_data",
          "data": {
            "text/plain": [
              "<pandas.io.formats.style.Styler at 0x7f379701d790>"
            ],
            "text/html": [
              "<style type=\"text/css\">\n",
              "#T_53ea1_row0_col1, #T_53ea1_row1_col1, #T_53ea1_row2_col1, #T_53ea1_row3_col1, #T_53ea1_row4_col1, #T_53ea1_row5_col1, #T_53ea1_row6_col1, #T_53ea1_row7_col1, #T_53ea1_row8_col1, #T_53ea1_row9_col1 {\n",
              "  background-color: #fff5f0;\n",
              "  color: #000000;\n",
              "}\n",
              "</style>\n",
              "<table id=\"T_53ea1_\" class=\"dataframe\">\n",
              "  <thead>\n",
              "    <tr>\n",
              "      <th class=\"blank level0\" >&nbsp;</th>\n",
              "      <th class=\"col_heading level0 col0\" >Varaibles</th>\n",
              "      <th class=\"col_heading level0 col1\" >Missing Values</th>\n",
              "    </tr>\n",
              "  </thead>\n",
              "  <tbody>\n",
              "    <tr>\n",
              "      <th id=\"T_53ea1_level0_row0\" class=\"row_heading level0 row0\" >0</th>\n",
              "      <td id=\"T_53ea1_row0_col0\" class=\"data row0 col0\" >latitude</td>\n",
              "      <td id=\"T_53ea1_row0_col1\" class=\"data row0 col1\" >0</td>\n",
              "    </tr>\n",
              "    <tr>\n",
              "      <th id=\"T_53ea1_level0_row1\" class=\"row_heading level0 row1\" >1</th>\n",
              "      <td id=\"T_53ea1_row1_col0\" class=\"data row1 col0\" >longitude</td>\n",
              "      <td id=\"T_53ea1_row1_col1\" class=\"data row1 col1\" >0</td>\n",
              "    </tr>\n",
              "    <tr>\n",
              "      <th id=\"T_53ea1_level0_row2\" class=\"row_heading level0 row2\" >2</th>\n",
              "      <td id=\"T_53ea1_row2_col0\" class=\"data row2 col0\" >housing_median_age</td>\n",
              "      <td id=\"T_53ea1_row2_col1\" class=\"data row2 col1\" >0</td>\n",
              "    </tr>\n",
              "    <tr>\n",
              "      <th id=\"T_53ea1_level0_row3\" class=\"row_heading level0 row3\" >3</th>\n",
              "      <td id=\"T_53ea1_row3_col0\" class=\"data row3 col0\" >total_rooms</td>\n",
              "      <td id=\"T_53ea1_row3_col1\" class=\"data row3 col1\" >0</td>\n",
              "    </tr>\n",
              "    <tr>\n",
              "      <th id=\"T_53ea1_level0_row4\" class=\"row_heading level0 row4\" >4</th>\n",
              "      <td id=\"T_53ea1_row4_col0\" class=\"data row4 col0\" >total_bedrooms</td>\n",
              "      <td id=\"T_53ea1_row4_col1\" class=\"data row4 col1\" >0</td>\n",
              "    </tr>\n",
              "    <tr>\n",
              "      <th id=\"T_53ea1_level0_row5\" class=\"row_heading level0 row5\" >5</th>\n",
              "      <td id=\"T_53ea1_row5_col0\" class=\"data row5 col0\" >population</td>\n",
              "      <td id=\"T_53ea1_row5_col1\" class=\"data row5 col1\" >0</td>\n",
              "    </tr>\n",
              "    <tr>\n",
              "      <th id=\"T_53ea1_level0_row6\" class=\"row_heading level0 row6\" >6</th>\n",
              "      <td id=\"T_53ea1_row6_col0\" class=\"data row6 col0\" >households</td>\n",
              "      <td id=\"T_53ea1_row6_col1\" class=\"data row6 col1\" >0</td>\n",
              "    </tr>\n",
              "    <tr>\n",
              "      <th id=\"T_53ea1_level0_row7\" class=\"row_heading level0 row7\" >7</th>\n",
              "      <td id=\"T_53ea1_row7_col0\" class=\"data row7 col0\" >median_income</td>\n",
              "      <td id=\"T_53ea1_row7_col1\" class=\"data row7 col1\" >0</td>\n",
              "    </tr>\n",
              "    <tr>\n",
              "      <th id=\"T_53ea1_level0_row8\" class=\"row_heading level0 row8\" >8</th>\n",
              "      <td id=\"T_53ea1_row8_col0\" class=\"data row8 col0\" >median_house_value</td>\n",
              "      <td id=\"T_53ea1_row8_col1\" class=\"data row8 col1\" >0</td>\n",
              "    </tr>\n",
              "    <tr>\n",
              "      <th id=\"T_53ea1_level0_row9\" class=\"row_heading level0 row9\" >9</th>\n",
              "      <td id=\"T_53ea1_row9_col0\" class=\"data row9 col0\" >ocean_proximity</td>\n",
              "      <td id=\"T_53ea1_row9_col1\" class=\"data row9 col1\" >0</td>\n",
              "    </tr>\n",
              "  </tbody>\n",
              "</table>\n"
            ]
          },
          "metadata": {}
        }
      ]
    },
    {
      "cell_type": "code",
      "source": [
        "df[\"rooms_per_household\"] = df[\"total_rooms\"] /df[\"households\"]\n",
        "df[\"bedrooms_per_room\"] = df[\"total_bedrooms\"]/df[\"total_rooms\"]\n",
        "df[\"population_per_household\"] = df[\"population\"] /df[\"households\"]"
      ],
      "metadata": {
        "id": "h7t4izo_p8MK"
      },
      "execution_count": 6,
      "outputs": []
    },
    {
      "cell_type": "code",
      "source": [
        "df.head()"
      ],
      "metadata": {
        "colab": {
          "base_uri": "https://localhost:8080/",
          "height": 270
        },
        "id": "9WYF1Q-B1VdM",
        "outputId": "25bc7c8f-5358-454f-8609-58338fd8a162"
      },
      "execution_count": 7,
      "outputs": [
        {
          "output_type": "execute_result",
          "data": {
            "text/plain": [
              "   latitude  longitude  housing_median_age  total_rooms  total_bedrooms  \\\n",
              "0     37.88    -122.23                41.0        880.0           129.0   \n",
              "1     37.86    -122.22                21.0       7099.0          1106.0   \n",
              "2     37.85    -122.24                52.0       1467.0           190.0   \n",
              "3     37.85    -122.25                52.0       1274.0           235.0   \n",
              "4     37.85    -122.25                52.0       1627.0           280.0   \n",
              "\n",
              "   population  households  median_income  median_house_value ocean_proximity  \\\n",
              "0       322.0       126.0         8.3252            452600.0        NEAR BAY   \n",
              "1      2401.0      1138.0         8.3014            358500.0        NEAR BAY   \n",
              "2       496.0       177.0         7.2574            352100.0        NEAR BAY   \n",
              "3       558.0       219.0         5.6431            341300.0        NEAR BAY   \n",
              "4       565.0       259.0         3.8462            342200.0        NEAR BAY   \n",
              "\n",
              "   rooms_per_household  bedrooms_per_room  population_per_household  \n",
              "0             6.984127           0.146591                  2.555556  \n",
              "1             6.238137           0.155797                  2.109842  \n",
              "2             8.288136           0.129516                  2.802260  \n",
              "3             5.817352           0.184458                  2.547945  \n",
              "4             6.281853           0.172096                  2.181467  "
            ],
            "text/html": [
              "\n",
              "  <div id=\"df-117a850e-4ebb-4a5e-aae3-2a1cb8d5f495\">\n",
              "    <div class=\"colab-df-container\">\n",
              "      <div>\n",
              "<style scoped>\n",
              "    .dataframe tbody tr th:only-of-type {\n",
              "        vertical-align: middle;\n",
              "    }\n",
              "\n",
              "    .dataframe tbody tr th {\n",
              "        vertical-align: top;\n",
              "    }\n",
              "\n",
              "    .dataframe thead th {\n",
              "        text-align: right;\n",
              "    }\n",
              "</style>\n",
              "<table border=\"1\" class=\"dataframe\">\n",
              "  <thead>\n",
              "    <tr style=\"text-align: right;\">\n",
              "      <th></th>\n",
              "      <th>latitude</th>\n",
              "      <th>longitude</th>\n",
              "      <th>housing_median_age</th>\n",
              "      <th>total_rooms</th>\n",
              "      <th>total_bedrooms</th>\n",
              "      <th>population</th>\n",
              "      <th>households</th>\n",
              "      <th>median_income</th>\n",
              "      <th>median_house_value</th>\n",
              "      <th>ocean_proximity</th>\n",
              "      <th>rooms_per_household</th>\n",
              "      <th>bedrooms_per_room</th>\n",
              "      <th>population_per_household</th>\n",
              "    </tr>\n",
              "  </thead>\n",
              "  <tbody>\n",
              "    <tr>\n",
              "      <th>0</th>\n",
              "      <td>37.88</td>\n",
              "      <td>-122.23</td>\n",
              "      <td>41.0</td>\n",
              "      <td>880.0</td>\n",
              "      <td>129.0</td>\n",
              "      <td>322.0</td>\n",
              "      <td>126.0</td>\n",
              "      <td>8.3252</td>\n",
              "      <td>452600.0</td>\n",
              "      <td>NEAR BAY</td>\n",
              "      <td>6.984127</td>\n",
              "      <td>0.146591</td>\n",
              "      <td>2.555556</td>\n",
              "    </tr>\n",
              "    <tr>\n",
              "      <th>1</th>\n",
              "      <td>37.86</td>\n",
              "      <td>-122.22</td>\n",
              "      <td>21.0</td>\n",
              "      <td>7099.0</td>\n",
              "      <td>1106.0</td>\n",
              "      <td>2401.0</td>\n",
              "      <td>1138.0</td>\n",
              "      <td>8.3014</td>\n",
              "      <td>358500.0</td>\n",
              "      <td>NEAR BAY</td>\n",
              "      <td>6.238137</td>\n",
              "      <td>0.155797</td>\n",
              "      <td>2.109842</td>\n",
              "    </tr>\n",
              "    <tr>\n",
              "      <th>2</th>\n",
              "      <td>37.85</td>\n",
              "      <td>-122.24</td>\n",
              "      <td>52.0</td>\n",
              "      <td>1467.0</td>\n",
              "      <td>190.0</td>\n",
              "      <td>496.0</td>\n",
              "      <td>177.0</td>\n",
              "      <td>7.2574</td>\n",
              "      <td>352100.0</td>\n",
              "      <td>NEAR BAY</td>\n",
              "      <td>8.288136</td>\n",
              "      <td>0.129516</td>\n",
              "      <td>2.802260</td>\n",
              "    </tr>\n",
              "    <tr>\n",
              "      <th>3</th>\n",
              "      <td>37.85</td>\n",
              "      <td>-122.25</td>\n",
              "      <td>52.0</td>\n",
              "      <td>1274.0</td>\n",
              "      <td>235.0</td>\n",
              "      <td>558.0</td>\n",
              "      <td>219.0</td>\n",
              "      <td>5.6431</td>\n",
              "      <td>341300.0</td>\n",
              "      <td>NEAR BAY</td>\n",
              "      <td>5.817352</td>\n",
              "      <td>0.184458</td>\n",
              "      <td>2.547945</td>\n",
              "    </tr>\n",
              "    <tr>\n",
              "      <th>4</th>\n",
              "      <td>37.85</td>\n",
              "      <td>-122.25</td>\n",
              "      <td>52.0</td>\n",
              "      <td>1627.0</td>\n",
              "      <td>280.0</td>\n",
              "      <td>565.0</td>\n",
              "      <td>259.0</td>\n",
              "      <td>3.8462</td>\n",
              "      <td>342200.0</td>\n",
              "      <td>NEAR BAY</td>\n",
              "      <td>6.281853</td>\n",
              "      <td>0.172096</td>\n",
              "      <td>2.181467</td>\n",
              "    </tr>\n",
              "  </tbody>\n",
              "</table>\n",
              "</div>\n",
              "      <button class=\"colab-df-convert\" onclick=\"convertToInteractive('df-117a850e-4ebb-4a5e-aae3-2a1cb8d5f495')\"\n",
              "              title=\"Convert this dataframe to an interactive table.\"\n",
              "              style=\"display:none;\">\n",
              "        \n",
              "  <svg xmlns=\"http://www.w3.org/2000/svg\" height=\"24px\"viewBox=\"0 0 24 24\"\n",
              "       width=\"24px\">\n",
              "    <path d=\"M0 0h24v24H0V0z\" fill=\"none\"/>\n",
              "    <path d=\"M18.56 5.44l.94 2.06.94-2.06 2.06-.94-2.06-.94-.94-2.06-.94 2.06-2.06.94zm-11 1L8.5 8.5l.94-2.06 2.06-.94-2.06-.94L8.5 2.5l-.94 2.06-2.06.94zm10 10l.94 2.06.94-2.06 2.06-.94-2.06-.94-.94-2.06-.94 2.06-2.06.94z\"/><path d=\"M17.41 7.96l-1.37-1.37c-.4-.4-.92-.59-1.43-.59-.52 0-1.04.2-1.43.59L10.3 9.45l-7.72 7.72c-.78.78-.78 2.05 0 2.83L4 21.41c.39.39.9.59 1.41.59.51 0 1.02-.2 1.41-.59l7.78-7.78 2.81-2.81c.8-.78.8-2.07 0-2.86zM5.41 20L4 18.59l7.72-7.72 1.47 1.35L5.41 20z\"/>\n",
              "  </svg>\n",
              "      </button>\n",
              "      \n",
              "  <style>\n",
              "    .colab-df-container {\n",
              "      display:flex;\n",
              "      flex-wrap:wrap;\n",
              "      gap: 12px;\n",
              "    }\n",
              "\n",
              "    .colab-df-convert {\n",
              "      background-color: #E8F0FE;\n",
              "      border: none;\n",
              "      border-radius: 50%;\n",
              "      cursor: pointer;\n",
              "      display: none;\n",
              "      fill: #1967D2;\n",
              "      height: 32px;\n",
              "      padding: 0 0 0 0;\n",
              "      width: 32px;\n",
              "    }\n",
              "\n",
              "    .colab-df-convert:hover {\n",
              "      background-color: #E2EBFA;\n",
              "      box-shadow: 0px 1px 2px rgba(60, 64, 67, 0.3), 0px 1px 3px 1px rgba(60, 64, 67, 0.15);\n",
              "      fill: #174EA6;\n",
              "    }\n",
              "\n",
              "    [theme=dark] .colab-df-convert {\n",
              "      background-color: #3B4455;\n",
              "      fill: #D2E3FC;\n",
              "    }\n",
              "\n",
              "    [theme=dark] .colab-df-convert:hover {\n",
              "      background-color: #434B5C;\n",
              "      box-shadow: 0px 1px 3px 1px rgba(0, 0, 0, 0.15);\n",
              "      filter: drop-shadow(0px 1px 2px rgba(0, 0, 0, 0.3));\n",
              "      fill: #FFFFFF;\n",
              "    }\n",
              "  </style>\n",
              "\n",
              "      <script>\n",
              "        const buttonEl =\n",
              "          document.querySelector('#df-117a850e-4ebb-4a5e-aae3-2a1cb8d5f495 button.colab-df-convert');\n",
              "        buttonEl.style.display =\n",
              "          google.colab.kernel.accessAllowed ? 'block' : 'none';\n",
              "\n",
              "        async function convertToInteractive(key) {\n",
              "          const element = document.querySelector('#df-117a850e-4ebb-4a5e-aae3-2a1cb8d5f495');\n",
              "          const dataTable =\n",
              "            await google.colab.kernel.invokeFunction('convertToInteractive',\n",
              "                                                     [key], {});\n",
              "          if (!dataTable) return;\n",
              "\n",
              "          const docLinkHtml = 'Like what you see? Visit the ' +\n",
              "            '<a target=\"_blank\" href=https://colab.research.google.com/notebooks/data_table.ipynb>data table notebook</a>'\n",
              "            + ' to learn more about interactive tables.';\n",
              "          element.innerHTML = '';\n",
              "          dataTable['output_type'] = 'display_data';\n",
              "          await google.colab.output.renderOutput(dataTable, element);\n",
              "          const docLink = document.createElement('div');\n",
              "          docLink.innerHTML = docLinkHtml;\n",
              "          element.appendChild(docLink);\n",
              "        }\n",
              "      </script>\n",
              "    </div>\n",
              "  </div>\n",
              "  "
            ]
          },
          "metadata": {},
          "execution_count": 7
        }
      ]
    },
    {
      "cell_type": "markdown",
      "source": [
        "# **Question 1**\n",
        "\n",
        "What is the most frequent observation (mode) for the column ocean_proximity?\n",
        "\n",
        "Options:\n",
        "\n",
        "* NEAR BAY\n",
        "* <1H OCEAN\n",
        "* INLAND\n",
        "* NEAR OCEAN\n"
      ],
      "metadata": {
        "id": "cxm228bzRfsF"
      }
    },
    {
      "cell_type": "code",
      "source": [
        "sns.countplot(data=df, x=\"ocean_proximity\",palette=\"rocket\").set(title = \"Frequency of Ocean Proximity\",\n",
        "                                                                    xlabel = \"Distance of Ocean from the House\",\n",
        "                                                                    ylabel = \"Frequency\")\n",
        "plt.figure(figsize=(25,15))\n",
        "plt.show()"
      ],
      "metadata": {
        "colab": {
          "base_uri": "https://localhost:8080/",
          "height": 576
        },
        "id": "YNcWZK8SsnlM",
        "outputId": "688a8bb9-16c2-4529-fc09-f1596877db19"
      },
      "execution_count": 8,
      "outputs": [
        {
          "output_type": "display_data",
          "data": {
            "text/plain": [
              "<Figure size 1152x576 with 1 Axes>"
            ],
            "image/png": "[encoded data removed]"
          },
          "metadata": {}
        },
        {
          "output_type": "display_data",
          "data": {
            "text/plain": [
              "<Figure size 1800x1080 with 0 Axes>"
            ]
          },
          "metadata": {}
        }
      ]
    },
    {
      "cell_type": "code",
      "source": [
        "print(\"Mode for variable'ocean_proximity': %s\"%(df['ocean_proximity'].value_counts().head(1)))"
      ],
      "metadata": {
        "colab": {
          "base_uri": "https://localhost:8080/"
        },
        "id": "R_71KAyzV48_",
        "outputId": "0a781d16-20d8-43a9-ac24-1b5fea2c0f79"
      },
      "execution_count": 9,
      "outputs": [
        {
          "output_type": "stream",
          "name": "stdout",
          "text": [
            "Mode for variable'ocean_proximity': <1H OCEAN    9136\n",
            "Name: ocean_proximity, dtype: int64\n"
          ]
        }
      ]
    },
    {
      "cell_type": "markdown",
      "source": [
        "## **Answer: <1H OCEAN**"
      ],
      "metadata": {
        "id": "6O6qHBjlWYNi"
      }
    },
    {
      "cell_type": "markdown",
      "source": [
        "# **Split the data**\n",
        "\n",
        "* Split your data in train/val/test sets, with 60%/20%/20% distribution.\n",
        "* Use Scikit-Learn for that (the train_test_split function) and set the seed to 42.\n",
        "* Make sure that the target value (median_house_value) is not in your dataframe.\n"
      ],
      "metadata": {
        "id": "VW0vOmsuRoeE"
      }
    },
    {
      "cell_type": "code",
      "source": [
        "from sklearn.model_selection import train_test_split\n",
        "\n",
        "df_full_train, df_test = train_test_split(df, test_size=0.2,random_state=42)\n",
        "df_train, df_val = train_test_split(df_full_train, test_size=0.25, random_state=42)\n",
        "\n",
        "df_train.reset_index(drop=True,inplace=True)\n",
        "df_test.reset_index(drop=True,inplace=True)\n",
        "df_val.reset_index(drop=True,inplace=True)\n",
        "\n",
        "y_train = df_train.median_house_value.values\n",
        "y_test = df_test.median_house_value.values\n",
        "y_val = df_val.median_house_value.values\n",
        "\n",
        "del df_train['median_house_value']\n",
        "del df_test['median_house_value']\n",
        "del df_val['median_house_value']\n"
      ],
      "metadata": {
        "id": "8WpvyWqfR-A6"
      },
      "execution_count": 10,
      "outputs": []
    },
    {
      "cell_type": "code",
      "source": [
        "len(df_train),len(df_test), len(df_val)"
      ],
      "metadata": {
        "colab": {
          "base_uri": "https://localhost:8080/"
        },
        "id": "x6P243qSmWFG",
        "outputId": "9942f4d0-f731-4538-f182-b39ad9cd11dc"
      },
      "execution_count": 11,
      "outputs": [
        {
          "output_type": "execute_result",
          "data": {
            "text/plain": [
              "(12384, 4128, 4128)"
            ]
          },
          "metadata": {},
          "execution_count": 11
        }
      ]
    },
    {
      "cell_type": "markdown",
      "source": [
        "# **Question 2**\n",
        "\n",
        "* Create the correlation matrix for the numerical features of your train dataset.\n",
        "  * In a correlation matrix, you compute the correlation coefficient between every pair of features in the dataset.\n",
        "* What are the two features that have the biggest correlation in this dataset?\n",
        "\n",
        "Options:\n",
        "\n",
        "* total_bedrooms and households\n",
        "* total_bedrooms and total_rooms\n",
        "* population and households\n",
        "* population_per_household and total_rooms\n"
      ],
      "metadata": {
        "id": "VvVSNTuHR2Bg"
      }
    },
    {
      "cell_type": "code",
      "source": [
        "\"\"\"Creating a list of Numerical and Categorical columns\"\"\"\n",
        "\n",
        "categorical = [col for col in df.columns if df[col].dtype == 'object']\n",
        "\n",
        "numerical = [col for col in df.columns if col not in categorical]\n",
        "\n",
        "\"\"\"correlation of Numerical columns\"\"\"\n",
        "display(df[numerical].corr())\n",
        "\n",
        "\"\"\"Heatmap of Numerical Variables\"\"\"\n",
        "\n",
        "display(sns.heatmap(df[numerical].corr(),annot = True, lw=0.2,square=True,cmap='crest'))\n"
      ],
      "metadata": {
        "id": "A3qc4M8BYBU4",
        "colab": {
          "base_uri": "https://localhost:8080/",
          "height": 1000
        },
        "outputId": "fdc54667-4046-4d23-a7b5-7bf3fe0fc294"
      },
      "execution_count": 12,
      "outputs": [
        {
          "output_type": "display_data",
          "data": {
            "text/plain": [
              "                          latitude  longitude  housing_median_age  \\\n",
              "latitude                  1.000000  -0.924664            0.011173   \n",
              "longitude                -0.924664   1.000000           -0.108197   \n",
              "housing_median_age        0.011173  -0.108197            1.000000   \n",
              "total_rooms              -0.036100   0.044568           -0.361262   \n",
              "total_bedrooms           -0.065318   0.068082           -0.317063   \n",
              "population               -0.108785   0.099773           -0.296244   \n",
              "households               -0.071035   0.055310           -0.302916   \n",
              "median_income            -0.079809  -0.015176           -0.119034   \n",
              "median_house_value       -0.144160  -0.045967            0.105623   \n",
              "rooms_per_household       0.106389  -0.027540           -0.153277   \n",
              "bedrooms_per_room        -0.104112   0.084836            0.125396   \n",
              "population_per_household  0.002366   0.002476            0.013191   \n",
              "\n",
              "                          total_rooms  total_bedrooms  population  households  \\\n",
              "latitude                    -0.036100       -0.065318   -0.108785   -0.071035   \n",
              "longitude                    0.044568        0.068082    0.099773    0.055310   \n",
              "housing_median_age          -0.361262       -0.317063   -0.296244   -0.302916   \n",
              "total_rooms                  1.000000        0.920196    0.857126    0.918484   \n",
              "total_bedrooms               0.920196        1.000000    0.866266    0.966507   \n",
              "population                   0.857126        0.866266    1.000000    0.907222   \n",
              "households                   0.918484        0.966507    0.907222    1.000000   \n",
              "median_income                0.198050       -0.007295    0.004834    0.013033   \n",
              "median_house_value           0.134153        0.049148   -0.024650    0.065843   \n",
              "rooms_per_household          0.133798        0.002717   -0.072213   -0.080598   \n",
              "bedrooms_per_room           -0.174583        0.122205    0.031397    0.059818   \n",
              "population_per_household    -0.024581       -0.028019    0.069863   -0.027309   \n",
              "\n",
              "                          median_income  median_house_value  \\\n",
              "latitude                      -0.079809           -0.144160   \n",
              "longitude                     -0.015176           -0.045967   \n",
              "housing_median_age            -0.119034            0.105623   \n",
              "total_rooms                    0.198050            0.134153   \n",
              "total_bedrooms                -0.007295            0.049148   \n",
              "population                     0.004834           -0.024650   \n",
              "households                     0.013033            0.065843   \n",
              "median_income                  1.000000            0.688075   \n",
              "median_house_value             0.688075            1.000000   \n",
              "rooms_per_household            0.326895            0.151948   \n",
              "bedrooms_per_room             -0.573836           -0.238759   \n",
              "population_per_household       0.018766           -0.023737   \n",
              "\n",
              "                          rooms_per_household  bedrooms_per_room  \\\n",
              "latitude                             0.106389          -0.104112   \n",
              "longitude                           -0.027540           0.084836   \n",
              "housing_median_age                  -0.153277           0.125396   \n",
              "total_rooms                          0.133798          -0.174583   \n",
              "total_bedrooms                       0.002717           0.122205   \n",
              "population                          -0.072213           0.031397   \n",
              "households                          -0.080598           0.059818   \n",
              "median_income                        0.326895          -0.573836   \n",
              "median_house_value                   0.151948          -0.238759   \n",
              "rooms_per_household                  1.000000          -0.387465   \n",
              "bedrooms_per_room                   -0.387465           1.000000   \n",
              "population_per_household            -0.004852           0.003047   \n",
              "\n",
              "                          population_per_household  \n",
              "latitude                                  0.002366  \n",
              "longitude                                 0.002476  \n",
              "housing_median_age                        0.013191  \n",
              "total_rooms                              -0.024581  \n",
              "total_bedrooms                           -0.028019  \n",
              "population                                0.069863  \n",
              "households                               -0.027309  \n",
              "median_income                             0.018766  \n",
              "median_house_value                       -0.023737  \n",
              "rooms_per_household                      -0.004852  \n",
              "bedrooms_per_room                         0.003047  \n",
              "population_per_household                  1.000000  "
            ],
            "text/html": [
              "\n",
              "  <div id=\"df-4e918573-c4d3-413a-b595-96ccd1b932cd\">\n",
              "    <div class=\"colab-df-container\">\n",
              "      <div>\n",
              "<style scoped>\n",
              "    .dataframe tbody tr th:only-of-type {\n",
              "        vertical-align: middle;\n",
              "    }\n",
              "\n",
              "    .dataframe tbody tr th {\n",
              "        vertical-align: top;\n",
              "    }\n",
              "\n",
              "    .dataframe thead th {\n",
              "        text-align: right;\n",
              "    }\n",
              "</style>\n",
              "<table border=\"1\" class=\"dataframe\">\n",
              "  <thead>\n",
              "    <tr style=\"text-align: right;\">\n",
              "      <th></th>\n",
              "      <th>latitude</th>\n",
              "      <th>longitude</th>\n",
              "      <th>housing_median_age</th>\n",
              "      <th>total_rooms</th>\n",
              "      <th>total_bedrooms</th>\n",
              "      <th>population</th>\n",
              "      <th>households</th>\n",
              "      <th>median_income</th>\n",
              "      <th>median_house_value</th>\n",
              "      <th>rooms_per_household</th>\n",
              "      <th>bedrooms_per_room</th>\n",
              "      <th>population_per_household</th>\n",
              "    </tr>\n",
              "  </thead>\n",
              "  <tbody>\n",
              "    <tr>\n",
              "      <th>latitude</th>\n",
              "      <td>1.000000</td>\n",
              "      <td>-0.924664</td>\n",
              "      <td>0.011173</td>\n",
              "      <td>-0.036100</td>\n",
              "      <td>-0.065318</td>\n",
              "      <td>-0.108785</td>\n",
              "      <td>-0.071035</td>\n",
              "      <td>-0.079809</td>\n",
              "      <td>-0.144160</td>\n",
              "      <td>0.106389</td>\n",
              "      <td>-0.104112</td>\n",
              "      <td>0.002366</td>\n",
              "    </tr>\n",
              "    <tr>\n",
              "      <th>longitude</th>\n",
              "      <td>-0.924664</td>\n",
              "      <td>1.000000</td>\n",
              "      <td>-0.108197</td>\n",
              "      <td>0.044568</td>\n",
              "      <td>0.068082</td>\n",
              "      <td>0.099773</td>\n",
              "      <td>0.055310</td>\n",
              "      <td>-0.015176</td>\n",
              "      <td>-0.045967</td>\n",
              "      <td>-0.027540</td>\n",
              "      <td>0.084836</td>\n",
              "      <td>0.002476</td>\n",
              "    </tr>\n",
              "    <tr>\n",
              "      <th>housing_median_age</th>\n",
              "      <td>0.011173</td>\n",
              "      <td>-0.108197</td>\n",
              "      <td>1.000000</td>\n",
              "      <td>-0.361262</td>\n",
              "      <td>-0.317063</td>\n",
              "      <td>-0.296244</td>\n",
              "      <td>-0.302916</td>\n",
              "      <td>-0.119034</td>\n",
              "      <td>0.105623</td>\n",
              "      <td>-0.153277</td>\n",
              "      <td>0.125396</td>\n",
              "      <td>0.013191</td>\n",
              "    </tr>\n",
              "    <tr>\n",
              "      <th>total_rooms</th>\n",
              "      <td>-0.036100</td>\n",
              "      <td>0.044568</td>\n",
              "      <td>-0.361262</td>\n",
              "      <td>1.000000</td>\n",
              "      <td>0.920196</td>\n",
              "      <td>0.857126</td>\n",
              "      <td>0.918484</td>\n",
              "      <td>0.198050</td>\n",
              "      <td>0.134153</td>\n",
              "      <td>0.133798</td>\n",
              "      <td>-0.174583</td>\n",
              "      <td>-0.024581</td>\n",
              "    </tr>\n",
              "    <tr>\n",
              "      <th>total_bedrooms</th>\n",
              "      <td>-0.065318</td>\n",
              "      <td>0.068082</td>\n",
              "      <td>-0.317063</td>\n",
              "      <td>0.920196</td>\n",
              "      <td>1.000000</td>\n",
              "      <td>0.866266</td>\n",
              "      <td>0.966507</td>\n",
              "      <td>-0.007295</td>\n",
              "      <td>0.049148</td>\n",
              "      <td>0.002717</td>\n",
              "      <td>0.122205</td>\n",
              "      <td>-0.028019</td>\n",
              "    </tr>\n",
              "    <tr>\n",
              "      <th>population</th>\n",
              "      <td>-0.108785</td>\n",
              "      <td>0.099773</td>\n",
              "      <td>-0.296244</td>\n",
              "      <td>0.857126</td>\n",
              "      <td>0.866266</td>\n",
              "      <td>1.000000</td>\n",
              "      <td>0.907222</td>\n",
              "      <td>0.004834</td>\n",
              "      <td>-0.024650</td>\n",
              "      <td>-0.072213</td>\n",
              "      <td>0.031397</td>\n",
              "      <td>0.069863</td>\n",
              "    </tr>\n",
              "    <tr>\n",
              "      <th>households</th>\n",
              "      <td>-0.071035</td>\n",
              "      <td>0.055310</td>\n",
              "      <td>-0.302916</td>\n",
              "      <td>0.918484</td>\n",
              "      <td>0.966507</td>\n",
              "      <td>0.907222</td>\n",
              "      <td>1.000000</td>\n",
              "      <td>0.013033</td>\n",
              "      <td>0.065843</td>\n",
              "      <td>-0.080598</td>\n",
              "      <td>0.059818</td>\n",
              "      <td>-0.027309</td>\n",
              "    </tr>\n",
              "    <tr>\n",
              "      <th>median_income</th>\n",
              "      <td>-0.079809</td>\n",
              "      <td>-0.015176</td>\n",
              "      <td>-0.119034</td>\n",
              "      <td>0.198050</td>\n",
              "      <td>-0.007295</td>\n",
              "      <td>0.004834</td>\n",
              "      <td>0.013033</td>\n",
              "      <td>1.000000</td>\n",
              "      <td>0.688075</td>\n",
              "      <td>0.326895</td>\n",
              "      <td>-0.573836</td>\n",
              "      <td>0.018766</td>\n",
              "    </tr>\n",
              "    <tr>\n",
              "      <th>median_house_value</th>\n",
              "      <td>-0.144160</td>\n",
              "      <td>-0.045967</td>\n",
              "      <td>0.105623</td>\n",
              "      <td>0.134153</td>\n",
              "      <td>0.049148</td>\n",
              "      <td>-0.024650</td>\n",
              "      <td>0.065843</td>\n",
              "      <td>0.688075</td>\n",
              "      <td>1.000000</td>\n",
              "      <td>0.151948</td>\n",
              "      <td>-0.238759</td>\n",
              "      <td>-0.023737</td>\n",
              "    </tr>\n",
              "    <tr>\n",
              "      <th>rooms_per_household</th>\n",
              "      <td>0.106389</td>\n",
              "      <td>-0.027540</td>\n",
              "      <td>-0.153277</td>\n",
              "      <td>0.133798</td>\n",
              "      <td>0.002717</td>\n",
              "      <td>-0.072213</td>\n",
              "      <td>-0.080598</td>\n",
              "      <td>0.326895</td>\n",
              "      <td>0.151948</td>\n",
              "      <td>1.000000</td>\n",
              "      <td>-0.387465</td>\n",
              "      <td>-0.004852</td>\n",
              "    </tr>\n",
              "    <tr>\n",
              "      <th>bedrooms_per_room</th>\n",
              "      <td>-0.104112</td>\n",
              "      <td>0.084836</td>\n",
              "      <td>0.125396</td>\n",
              "      <td>-0.174583</td>\n",
              "      <td>0.122205</td>\n",
              "      <td>0.031397</td>\n",
              "      <td>0.059818</td>\n",
              "      <td>-0.573836</td>\n",
              "      <td>-0.238759</td>\n",
              "      <td>-0.387465</td>\n",
              "      <td>1.000000</td>\n",
              "      <td>0.003047</td>\n",
              "    </tr>\n",
              "    <tr>\n",
              "      <th>population_per_household</th>\n",
              "      <td>0.002366</td>\n",
              "      <td>0.002476</td>\n",
              "      <td>0.013191</td>\n",
              "      <td>-0.024581</td>\n",
              "      <td>-0.028019</td>\n",
              "      <td>0.069863</td>\n",
              "      <td>-0.027309</td>\n",
              "      <td>0.018766</td>\n",
              "      <td>-0.023737</td>\n",
              "      <td>-0.004852</td>\n",
              "      <td>0.003047</td>\n",
              "      <td>1.000000</td>\n",
              "    </tr>\n",
              "  </tbody>\n",
              "</table>\n",
              "</div>\n",
              "      <button class=\"colab-df-convert\" onclick=\"convertToInteractive('df-4e918573-c4d3-413a-b595-96ccd1b932cd')\"\n",
              "              title=\"Convert this dataframe to an interactive table.\"\n",
              "              style=\"display:none;\">\n",
              "        \n",
              "  <svg xmlns=\"http://www.w3.org/2000/svg\" height=\"24px\"viewBox=\"0 0 24 24\"\n",
              "       width=\"24px\">\n",
              "    <path d=\"M0 0h24v24H0V0z\" fill=\"none\"/>\n",
              "    <path d=\"M18.56 5.44l.94 2.06.94-2.06 2.06-.94-2.06-.94-.94-2.06-.94 2.06-2.06.94zm-11 1L8.5 8.5l.94-2.06 2.06-.94-2.06-.94L8.5 2.5l-.94 2.06-2.06.94zm10 10l.94 2.06.94-2.06 2.06-.94-2.06-.94-.94-2.06-.94 2.06-2.06.94z\"/><path d=\"M17.41 7.96l-1.37-1.37c-.4-.4-.92-.59-1.43-.59-.52 0-1.04.2-1.43.59L10.3 9.45l-7.72 7.72c-.78.78-.78 2.05 0 2.83L4 21.41c.39.39.9.59 1.41.59.51 0 1.02-.2 1.41-.59l7.78-7.78 2.81-2.81c.8-.78.8-2.07 0-2.86zM5.41 20L4 18.59l7.72-7.72 1.47 1.35L5.41 20z\"/>\n",
              "  </svg>\n",
              "      </button>\n",
              "      \n",
              "  <style>\n",
              "    .colab-df-container {\n",
              "      display:flex;\n",
              "      flex-wrap:wrap;\n",
              "      gap: 12px;\n",
              "    }\n",
              "\n",
              "    .colab-df-convert {\n",
              "      background-color: #E8F0FE;\n",
              "      border: none;\n",
              "      border-radius: 50%;\n",
              "      cursor: pointer;\n",
              "      display: none;\n",
              "      fill: #1967D2;\n",
              "      height: 32px;\n",
              "      padding: 0 0 0 0;\n",
              "      width: 32px;\n",
              "    }\n",
              "\n",
              "    .colab-df-convert:hover {\n",
              "      background-color: #E2EBFA;\n",
              "      box-shadow: 0px 1px 2px rgba(60, 64, 67, 0.3), 0px 1px 3px 1px rgba(60, 64, 67, 0.15);\n",
              "      fill: #174EA6;\n",
              "    }\n",
              "\n",
              "    [theme=dark] .colab-df-convert {\n",
              "      background-color: #3B4455;\n",
              "      fill: #D2E3FC;\n",
              "    }\n",
              "\n",
              "    [theme=dark] .colab-df-convert:hover {\n",
              "      background-color: #434B5C;\n",
              "      box-shadow: 0px 1px 3px 1px rgba(0, 0, 0, 0.15);\n",
              "      filter: drop-shadow(0px 1px 2px rgba(0, 0, 0, 0.3));\n",
              "      fill: #FFFFFF;\n",
              "    }\n",
              "  </style>\n",
              "\n",
              "      <script>\n",
              "        const buttonEl =\n",
              "          document.querySelector('#df-4e918573-c4d3-413a-b595-96ccd1b932cd button.colab-df-convert');\n",
              "        buttonEl.style.display =\n",
              "          google.colab.kernel.accessAllowed ? 'block' : 'none';\n",
              "\n",
              "        async function convertToInteractive(key) {\n",
              "          const element = document.querySelector('#df-4e918573-c4d3-413a-b595-96ccd1b932cd');\n",
              "          const dataTable =\n",
              "            await google.colab.kernel.invokeFunction('convertToInteractive',\n",
              "                                                     [key], {});\n",
              "          if (!dataTable) return;\n",
              "\n",
              "          const docLinkHtml = 'Like what you see? Visit the ' +\n",
              "            '<a target=\"_blank\" href=https://colab.research.google.com/notebooks/data_table.ipynb>data table notebook</a>'\n",
              "            + ' to learn more about interactive tables.';\n",
              "          element.innerHTML = '';\n",
              "          dataTable['output_type'] = 'display_data';\n",
              "          await google.colab.output.renderOutput(dataTable, element);\n",
              "          const docLink = document.createElement('div');\n",
              "          docLink.innerHTML = docLinkHtml;\n",
              "          element.appendChild(docLink);\n",
              "        }\n",
              "      </script>\n",
              "    </div>\n",
              "  </div>\n",
              "  "
            ]
          },
          "metadata": {}
        },
        {
          "output_type": "display_data",
          "data": {
            "text/plain": [
              "<matplotlib.axes._subplots.AxesSubplot at 0x7f3794be3850>"
            ]
          },
          "metadata": {}
        },
        {
          "output_type": "display_data",
          "data": {
            "text/plain": [
              "<Figure size 1152x576 with 2 Axes>"
            ],
            "image/png": "[encoded data removed]"
          },
          "metadata": {}
        }
      ]
    },
    {
      "cell_type": "code",
      "source": [
        "corr_mat = df_full_train.corr()\n",
        "upper_corr_mat = corr_mat.where(np.triu(np.ones(corr_mat.shape),k=1).astype(np.bool))\n",
        "\n",
        "unique_corr_pairs = upper_corr_mat.unstack().dropna()\n",
        "\n",
        "stored_mat = unique_corr_pairs.sort_values()\n",
        "stored_mat"
      ],
      "metadata": {
        "id": "n2dbwvFeAkkR",
        "outputId": "f6c11c22-40e3-4448-c1b7-20fe0c278919",
        "colab": {
          "base_uri": "https://localhost:8080/"
        }
      },
      "execution_count": 13,
      "outputs": [
        {
          "output_type": "execute_result",
          "data": {
            "text/plain": [
              "longitude          latitude              -0.924485\n",
              "bedrooms_per_room  median_income         -0.616669\n",
              "                   rooms_per_household   -0.435169\n",
              "total_rooms        housing_median_age    -0.360922\n",
              "total_bedrooms     housing_median_age    -0.320624\n",
              "                                            ...   \n",
              "population         total_bedrooms         0.878932\n",
              "households         population             0.907452\n",
              "                   total_rooms            0.920482\n",
              "total_bedrooms     total_rooms            0.930489\n",
              "households         total_bedrooms         0.980255\n",
              "Length: 66, dtype: float64"
            ]
          },
          "metadata": {},
          "execution_count": 13
        }
      ]
    },
    {
      "cell_type": "markdown",
      "source": [
        "### **Answer: total_bedrooms and households**"
      ],
      "metadata": {
        "id": "sTS0L4GryZNc"
      }
    },
    {
      "cell_type": "markdown",
      "source": [
        "# **Make median_house_value binary**\n",
        "\n",
        "* We need to turn the median_house_value variable from numeric into binary.\n",
        "* Let's create a variable above_average which is 1 if the median_house_value is above its mean value and 0 otherwise.\n"
      ],
      "metadata": {
        "id": "UEkrotphSUEK"
      }
    },
    {
      "cell_type": "code",
      "source": [
        "y_train_num = y_train.copy()\n",
        "y_val_num = y_val.copy()\n",
        "y_test_num = y_test.copy()\n",
        "\n",
        "y_train = (y_train > y_train.mean()).astype(int)\n",
        "y_val = (y_val > y_val.mean()).astype(int)\n",
        "y_test = (y_test > y_test.mean()).astype(int)"
      ],
      "metadata": {
        "id": "Dz83z23RAyra"
      },
      "execution_count": 14,
      "outputs": []
    },
    {
      "cell_type": "markdown",
      "source": [
        "# **Question 3**\n",
        "\n",
        "* Calculate the mutual information score with the (binarized) price for the categorical variable that we have. Use the training set only.\n",
        "* What is the value of mutual information?\n",
        "* Round it to 2 decimal digits using round(score, 2)\n",
        "\n",
        "Options:\n",
        "\n",
        "* 0.26\n",
        "* 0\n",
        "* 0.10\n",
        "* 0.16"
      ],
      "metadata": {
        "id": "aDOnykBoSOEl"
      }
    },
    {
      "cell_type": "code",
      "source": [
        "from sklearn.metrics import mutual_info_score\n",
        "\n",
        "round(mutual_info_score(y_train,df_train.ocean_proximity),2)\n"
      ],
      "metadata": {
        "id": "BQDDwwYVA7NF",
        "outputId": "246f9520-f5c6-4b82-f737-b579e1d36b60",
        "colab": {
          "base_uri": "https://localhost:8080/"
        }
      },
      "execution_count": 15,
      "outputs": [
        {
          "output_type": "execute_result",
          "data": {
            "text/plain": [
              "0.1"
            ]
          },
          "metadata": {},
          "execution_count": 15
        }
      ]
    },
    {
      "cell_type": "markdown",
      "source": [
        "## **Answer: 0.1**"
      ],
      "metadata": {
        "id": "vJw8RIm-Mers"
      }
    },
    {
      "cell_type": "markdown",
      "source": [
        "# **Question 4**\n",
        "\n",
        "* Now let's train a logistic regression\n",
        "* Remember that we have one categorical variable ocean_proximity in the data. Include it using one-hot encoding.\n",
        "* Fit the model on the training dataset.\n",
        "  * To make sure the results are reproducible across different versions of Scikit-Learn, fit the model with these parameters:\n",
        "  * model = LogisticRegression(solver=\"liblinear\", C=1.0, max_iter=1000, random_state=42)\n",
        "* Calculate the accuracy on the validation dataset and round it to 2 decimal digits.\n",
        "\n",
        "Options:\n",
        "\n",
        "* 0.60\n",
        "* 0.72\n",
        "* 0.84\n",
        "* 0.95\n"
      ],
      "metadata": {
        "id": "iKgD_tW3SuJA"
      }
    },
    {
      "cell_type": "code",
      "source": [
        "numerical = [\n",
        "    'latitude',\n",
        "    'longitude',\n",
        "    'housing_median_age',\t\n",
        "    'total_rooms',\n",
        "    'total_bedrooms',\t\n",
        "    'population',\t\n",
        "    'households',\n",
        "    'median_income',\n",
        "    'rooms_per_household',\n",
        "    'bedrooms_per_room',\n",
        "    'population_per_household'\n",
        "]\n",
        "\n",
        "categorical = ['ocean_proximity']"
      ],
      "metadata": {
        "id": "DoLnb74ZBUwo"
      },
      "execution_count": 16,
      "outputs": []
    },
    {
      "cell_type": "code",
      "source": [
        "from sklearn.feature_extraction import DictVectorizer\n",
        "\n",
        "train_dict =df_train[categorical + numerical].to_dict(orient='records')\n",
        "\n",
        "dv = DictVectorizer(sparse=False)\n",
        "X_train = dv.fit_transform(train_dict)\n",
        "\n",
        "val_dicts = df_val[categorical + numerical].to_dict(orient='records')\n",
        "X_val = dv.fit_transform(val_dicts)\n",
        "\n",
        "test_dicts = df_test[categorical + numerical].to_dict(orient='records')\n",
        "X_test = dv.fit_transform(test_dicts)"
      ],
      "metadata": {
        "id": "lAFWbwWVBfN-"
      },
      "execution_count": 17,
      "outputs": []
    },
    {
      "cell_type": "code",
      "source": [
        "from sklearn.linear_model import LogisticRegression\n",
        "\n",
        "model = LogisticRegression(solver=\"liblinear\", C=1.0, max_iter=1000, random_state=42)"
      ],
      "metadata": {
        "id": "JjjiIsZBBkOY"
      },
      "execution_count": 18,
      "outputs": []
    },
    {
      "cell_type": "code",
      "source": [
        "model.fit(X_train,y_train)"
      ],
      "metadata": {
        "id": "Bqaqr7uOBrq3",
        "outputId": "a366a1a7-2018-46f8-b882-98e2f517034b",
        "colab": {
          "base_uri": "https://localhost:8080/"
        }
      },
      "execution_count": 19,
      "outputs": [
        {
          "output_type": "execute_result",
          "data": {
            "text/plain": [
              "LogisticRegression(max_iter=1000, random_state=42, solver='liblinear')"
            ]
          },
          "metadata": {},
          "execution_count": 19
        }
      ]
    },
    {
      "cell_type": "code",
      "source": [
        "from sklearn.metrics import accuracy_score\n",
        "\n",
        "acc = accuracy_score(y_val, model.predict(X_val))\n",
        "round(acc,2)"
      ],
      "metadata": {
        "id": "KJ32Vec1BxUU",
        "outputId": "ca0bfe9e-ffd9-4a6f-a0c1-e4a6b1f18d91",
        "colab": {
          "base_uri": "https://localhost:8080/"
        }
      },
      "execution_count": 20,
      "outputs": [
        {
          "output_type": "execute_result",
          "data": {
            "text/plain": [
              "0.84"
            ]
          },
          "metadata": {},
          "execution_count": 20
        }
      ]
    },
    {
      "cell_type": "markdown",
      "source": [
        "### **Answer: 0.84**"
      ],
      "metadata": {
        "id": "fddpH1eR5czh"
      }
    },
    {
      "cell_type": "markdown",
      "source": [
        "# **Question 5**\n",
        "\n",
        "* Let's find the least useful feature using the feature elimination technique.\n",
        "* Train a model with all these features (using the same parameters as in Q4).\n",
        "* Now exclude each feature from this set and train a model without it. Record the accuracy for each model.\n",
        "* For each feature, calculate the difference between the original accuracy and the accuracy without the feature.\n",
        "* Which of following feature has the smallest difference?\n",
        "  * total_rooms\n",
        "  * total_bedrooms\n",
        "  * population\n",
        "  * households\n",
        "\n",
        "> note: the difference doesn't have to be positive\n",
        "\n"
      ],
      "metadata": {
        "id": "4uMsQJG0THVs"
      }
    },
    {
      "cell_type": "code",
      "source": [
        "results = {}\n",
        "\n",
        "for feature in df_train.columns:\n",
        "  model_x = LogisticRegression(solver = \"liblinear\", C=1.0, max_iter=1000, random_state=42)\n",
        "  tmp_train = df_train.drop(feature, axis=1)\n",
        "  tmp_val = df_val.drop(feature, axis=1)\n",
        "  dv = DictVectorizer(sparse=False)\n",
        "  tmp_train = dv.fit_transform(tmp_train.to_dict(orient='records'))\n",
        "  tmp_val = dv.fit_transform(tmp_val.to_dict(orient='records'))\n",
        "  \n",
        "  model_x.fit(tmp_train,y_train)\n",
        "  results[f'model_wo_{feature}'] = accuracy_score(y_val,model_x.predict(tmp_val))"
      ],
      "metadata": {
        "id": "6lFqHmigB6fn"
      },
      "execution_count": 22,
      "outputs": []
    },
    {
      "cell_type": "code",
      "source": [
        "sorted(results.items(), key=lambda kv:kv[1])"
      ],
      "metadata": {
        "id": "U0j-2cm7CC6_",
        "outputId": "f3c015ed-0194-4b39-dc36-f2403a4e1a71",
        "colab": {
          "base_uri": "https://localhost:8080/"
        }
      },
      "execution_count": 23,
      "outputs": [
        {
          "output_type": "execute_result",
          "data": {
            "text/plain": [
              "[('model_wo_median_income', 0.7868217054263565),\n",
              " ('model_wo_ocean_proximity', 0.8212209302325582),\n",
              " ('model_wo_population', 0.8275193798449613),\n",
              " ('model_wo_housing_median_age', 0.8311531007751938),\n",
              " ('model_wo_longitude', 0.8316375968992248),\n",
              " ('model_wo_households', 0.8340600775193798),\n",
              " ('model_wo_latitude', 0.8345445736434108),\n",
              " ('model_wo_rooms_per_household', 0.8350290697674418),\n",
              " ('model_wo_bedrooms_per_room', 0.8362403100775194),\n",
              " ('model_wo_population_per_household', 0.8362403100775194),\n",
              " ('model_wo_total_bedrooms', 0.8384205426356589),\n",
              " ('model_wo_total_rooms', 0.8391472868217055)]"
            ]
          },
          "metadata": {},
          "execution_count": 23
        }
      ]
    },
    {
      "cell_type": "code",
      "source": [
        "for key, value in results.items():\n",
        "  print(f\"Different between original & {key} = {acc - value}\")"
      ],
      "metadata": {
        "id": "KCEpJUTmCMtz",
        "outputId": "c2c3e767-91ea-4ec5-9dff-1f6d9b6ec5ab",
        "colab": {
          "base_uri": "https://localhost:8080/"
        }
      },
      "execution_count": 24,
      "outputs": [
        {
          "output_type": "stream",
          "name": "stdout",
          "text": [
            "Different between original & model_wo_latitude = 0.0016957364341085857\n",
            "Different between original & model_wo_longitude = 0.004602713178294637\n",
            "Different between original & model_wo_housing_median_age = 0.005087209302325646\n",
            "Different between original & model_wo_total_rooms = -0.0029069767441860517\n",
            "Different between original & model_wo_total_bedrooms = -0.0021802325581394832\n",
            "Different between original & model_wo_population = 0.008720930232558155\n",
            "Different between original & model_wo_households = 0.0021802325581395943\n",
            "Different between original & model_wo_median_income = 0.04941860465116288\n",
            "Different between original & model_wo_ocean_proximity = 0.015019379844961267\n",
            "Different between original & model_wo_rooms_per_household = 0.001211240310077577\n",
            "Different between original & model_wo_bedrooms_per_room = 0.0\n",
            "Different between original & model_wo_population_per_household = 0.0\n"
          ]
        }
      ]
    },
    {
      "cell_type": "markdown",
      "source": [
        "### **Answer: total_bedrooms**"
      ],
      "metadata": {
        "id": "XrEe0S6F6Z7I"
      }
    },
    {
      "cell_type": "markdown",
      "source": [
        "# **Question 6**\n",
        "\n",
        "* For this question, we'll see how to use a linear regression model from Scikit-Learn\n",
        "* We'll need to use the original column 'median_house_value'. Apply the logarithmic transformation to this column.\n",
        "* Fit the Ridge regression model (model = Ridge(alpha=a, solver=\"sag\", random_state=42)) on the training data.\n",
        "* This model has a parameter alpha. Let's try the following values: [0, 0.01, 0.1, 1, 10]\n",
        "* Which of these alphas leads to the best RMSE on the validation set? Round your RMSE scores to 3 decimal digits.\n",
        "\n",
        "If there are multiple options, select the smallest alpha.\n",
        "\n",
        "Options:\n",
        "\n",
        "* 0\n",
        "* 0.01\n",
        "* 0.1\n",
        "* 1\n",
        "* 10"
      ],
      "metadata": {
        "id": "StJ0Sb2PTk4M"
      }
    },
    {
      "cell_type": "code",
      "source": [
        "from sklearn.linear_model import Ridge\n",
        "from sklearn.metrics import mean_squared_error"
      ],
      "metadata": {
        "id": "26uPOy1UCc8F"
      },
      "execution_count": 25,
      "outputs": []
    },
    {
      "cell_type": "code",
      "source": [
        "results ={}\n",
        "for a in [0, 0.01, 0.1, 1, 10]:\n",
        "  model = Ridge(alpha = a,solver=\"sag\", random_state=42)\n",
        "  model.fit(X_train, y_train)\n",
        "\n",
        "  results[f'alpha_{a}'] = round(mean_squared_error(y_val_num,model.predict(X_val),squared=False),3)"
      ],
      "metadata": {
        "id": "9QAq5K79ClDy"
      },
      "execution_count": 26,
      "outputs": []
    },
    {
      "cell_type": "code",
      "source": [
        "sorted(results.items(),key=lambda kv:kv[1])"
      ],
      "metadata": {
        "id": "k67IRki5Cvvs",
        "outputId": "6489cc2f-a82d-486c-db01-958060fedd97",
        "colab": {
          "base_uri": "https://localhost:8080/"
        }
      },
      "execution_count": 27,
      "outputs": [
        {
          "output_type": "execute_result",
          "data": {
            "text/plain": [
              "[('alpha_0', 239046.039),\n",
              " ('alpha_0.01', 239046.039),\n",
              " ('alpha_0.1', 239046.039),\n",
              " ('alpha_1', 239046.039),\n",
              " ('alpha_10', 239046.039)]"
            ]
          },
          "metadata": {},
          "execution_count": 27
        }
      ]
    },
    {
      "cell_type": "markdown",
      "source": [
        "### **Answer: 10**"
      ],
      "metadata": {
        "id": "okmo1r386lOB"
      }
    }
  ]
}