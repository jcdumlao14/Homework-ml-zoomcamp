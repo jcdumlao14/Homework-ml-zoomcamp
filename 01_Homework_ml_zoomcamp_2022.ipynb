{
  "nbformat": 4,
  "nbformat_minor": 0,
  "metadata": {
    "colab": {
      "provenance": [],
      "collapsed_sections": [],
      "authorship_tag": "ABX9TyN/f/ovr4SqeoJy/dpsbABJ",
      "include_colab_link": true
    },
    "kernelspec": {
      "name": "python3",
      "display_name": "Python 3"
    },
    "language_info": {
      "name": "python"
    }
  },
  "cells": [
    {
      "cell_type": "markdown",
      "metadata": {
        "id": "view-in-github",
        "colab_type": "text"
      },
      "source": [
        "<a href=\"https://colab.research.google.com/github/jcdumlao14/Homework-ml-zoomcamp/blob/main/01_Homework_ml_zoomcamp_2022.ipynb\" target=\"_parent\"><img src=\"https://colab.research.google.com/assets/colab-badge.svg\" alt=\"Open In Colab\"/></a>"
      ]
    },
    {
      "cell_type": "markdown",
      "source": [
        "# **ml-zoomcamp-2022: Homework-1**"
      ],
      "metadata": {
        "id": "7GRj3j3DFjAa"
      }
    },
    {
      "cell_type": "code",
      "execution_count": 1,
      "metadata": {
        "id": "Mq7vnnPsFiAd"
      },
      "outputs": [],
      "source": [
        "import pandas as pd\n",
        "import numpy as np\n",
        "\n",
        "import seaborn as sns\n",
        "from matplotlib import pyplot as plt\n",
        "%matplotlib inline\n"
      ]
    },
    {
      "cell_type": "markdown",
      "source": [
        "# **Question 1**\n",
        "\n",
        "What's the version of NumPy that you installed?\n",
        "\n",
        "You can get the version information using the __version__ field:"
      ],
      "metadata": {
        "id": "sHFk6_QcKSyH"
      }
    },
    {
      "cell_type": "code",
      "source": [
        "print(\"My Answer is:\", np.__version__)"
      ],
      "metadata": {
        "colab": {
          "base_uri": "https://localhost:8080/"
        },
        "id": "nj9PMBi6KXIL",
        "outputId": "58585909-c421-451e-e752-682cf9d05402"
      },
      "execution_count": 13,
      "outputs": [
        {
          "output_type": "stream",
          "name": "stdout",
          "text": [
            "My Answer is: 1.21.6\n"
          ]
        }
      ]
    },
    {
      "cell_type": "markdown",
      "source": [
        "# **Question 2**\n",
        "\n",
        "How many records are in the dataset?\n",
        "\n",
        "Here you need to specify the number of rows.\n",
        "\n",
        "* 16\n",
        "* 6572\n",
        "* 11914 \n",
        "* 18990"
      ],
      "metadata": {
        "id": "8czELgqhKelC"
      }
    },
    {
      "cell_type": "code",
      "source": [
        "df = pd.read_csv('https://raw.githubusercontent.com/alexeygrigorev/mlbookcamp-code/master/chapter-02-car-price/data.csv')\n",
        "len(df)"
      ],
      "metadata": {
        "colab": {
          "base_uri": "https://localhost:8080/"
        },
        "id": "Z0dSzfuvFzbO",
        "outputId": "b5191dbd-00ee-4123-ee76-de0bd6e7f5fe"
      },
      "execution_count": 3,
      "outputs": [
        {
          "output_type": "execute_result",
          "data": {
            "text/plain": [
              "11914"
            ]
          },
          "metadata": {},
          "execution_count": 3
        }
      ]
    },
    {
      "cell_type": "code",
      "source": [
        "df.shape\n",
        "print(\"My Answer is:\",11914)"
      ],
      "metadata": {
        "colab": {
          "base_uri": "https://localhost:8080/"
        },
        "id": "BxDmRd9L7vmk",
        "outputId": "bddb6867-ef1c-40f0-8265-1549262051e4"
      },
      "execution_count": 10,
      "outputs": [
        {
          "output_type": "stream",
          "name": "stdout",
          "text": [
            "My Answer is: 11914\n"
          ]
        }
      ]
    },
    {
      "cell_type": "markdown",
      "source": [
        "# **Question 3**\n",
        "\n",
        "Who are the most frequent car manufacturers (top-3) according to the dataset?\n",
        "\n",
        "* Chevrolet, Volkswagen, Toyota\n",
        "* Chevrolet, Ford, Toyota\n",
        "* Ford, Volkswagen, Toyota\n",
        "* Chevrolet, Ford, Volkswagen\n"
      ],
      "metadata": {
        "id": "Lc5EQjWpK_af"
      }
    },
    {
      "cell_type": "code",
      "source": [
        "df.head()"
      ],
      "metadata": {
        "id": "GBjYyKgyPXrR",
        "colab": {
          "base_uri": "https://localhost:8080/",
          "height": 478
        },
        "outputId": "09545e8a-ea4b-4f8d-a473-8cb31ccf7bb1"
      },
      "execution_count": 5,
      "outputs": [
        {
          "output_type": "execute_result",
          "data": {
            "text/plain": [
              "  Make       Model  Year             Engine Fuel Type  Engine HP  \\\n",
              "0  BMW  1 Series M  2011  premium unleaded (required)      335.0   \n",
              "1  BMW    1 Series  2011  premium unleaded (required)      300.0   \n",
              "2  BMW    1 Series  2011  premium unleaded (required)      300.0   \n",
              "3  BMW    1 Series  2011  premium unleaded (required)      230.0   \n",
              "4  BMW    1 Series  2011  premium unleaded (required)      230.0   \n",
              "\n",
              "   Engine Cylinders Transmission Type     Driven_Wheels  Number of Doors  \\\n",
              "0               6.0            MANUAL  rear wheel drive              2.0   \n",
              "1               6.0            MANUAL  rear wheel drive              2.0   \n",
              "2               6.0            MANUAL  rear wheel drive              2.0   \n",
              "3               6.0            MANUAL  rear wheel drive              2.0   \n",
              "4               6.0            MANUAL  rear wheel drive              2.0   \n",
              "\n",
              "                         Market Category Vehicle Size Vehicle Style  \\\n",
              "0  Factory Tuner,Luxury,High-Performance      Compact         Coupe   \n",
              "1                     Luxury,Performance      Compact   Convertible   \n",
              "2                Luxury,High-Performance      Compact         Coupe   \n",
              "3                     Luxury,Performance      Compact         Coupe   \n",
              "4                                 Luxury      Compact   Convertible   \n",
              "\n",
              "   highway MPG  city mpg  Popularity   MSRP  \n",
              "0           26        19        3916  46135  \n",
              "1           28        19        3916  40650  \n",
              "2           28        20        3916  36350  \n",
              "3           28        18        3916  29450  \n",
              "4           28        18        3916  34500  "
            ],
            "text/html": [
              "\n",
              "  <div id=\"df-c700e834-5148-4617-ba04-0a30898d350e\">\n",
              "    <div class=\"colab-df-container\">\n",
              "      <div>\n",
              "<style scoped>\n",
              "    .dataframe tbody tr th:only-of-type {\n",
              "        vertical-align: middle;\n",
              "    }\n",
              "\n",
              "    .dataframe tbody tr th {\n",
              "        vertical-align: top;\n",
              "    }\n",
              "\n",
              "    .dataframe thead th {\n",
              "        text-align: right;\n",
              "    }\n",
              "</style>\n",
              "<table border=\"1\" class=\"dataframe\">\n",
              "  <thead>\n",
              "    <tr style=\"text-align: right;\">\n",
              "      <th></th>\n",
              "      <th>Make</th>\n",
              "      <th>Model</th>\n",
              "      <th>Year</th>\n",
              "      <th>Engine Fuel Type</th>\n",
              "      <th>Engine HP</th>\n",
              "      <th>Engine Cylinders</th>\n",
              "      <th>Transmission Type</th>\n",
              "      <th>Driven_Wheels</th>\n",
              "      <th>Number of Doors</th>\n",
              "      <th>Market Category</th>\n",
              "      <th>Vehicle Size</th>\n",
              "      <th>Vehicle Style</th>\n",
              "      <th>highway MPG</th>\n",
              "      <th>city mpg</th>\n",
              "      <th>Popularity</th>\n",
              "      <th>MSRP</th>\n",
              "    </tr>\n",
              "  </thead>\n",
              "  <tbody>\n",
              "    <tr>\n",
              "      <th>0</th>\n",
              "      <td>BMW</td>\n",
              "      <td>1 Series M</td>\n",
              "      <td>2011</td>\n",
              "      <td>premium unleaded (required)</td>\n",
              "      <td>335.0</td>\n",
              "      <td>6.0</td>\n",
              "      <td>MANUAL</td>\n",
              "      <td>rear wheel drive</td>\n",
              "      <td>2.0</td>\n",
              "      <td>Factory Tuner,Luxury,High-Performance</td>\n",
              "      <td>Compact</td>\n",
              "      <td>Coupe</td>\n",
              "      <td>26</td>\n",
              "      <td>19</td>\n",
              "      <td>3916</td>\n",
              "      <td>46135</td>\n",
              "    </tr>\n",
              "    <tr>\n",
              "      <th>1</th>\n",
              "      <td>BMW</td>\n",
              "      <td>1 Series</td>\n",
              "      <td>2011</td>\n",
              "      <td>premium unleaded (required)</td>\n",
              "      <td>300.0</td>\n",
              "      <td>6.0</td>\n",
              "      <td>MANUAL</td>\n",
              "      <td>rear wheel drive</td>\n",
              "      <td>2.0</td>\n",
              "      <td>Luxury,Performance</td>\n",
              "      <td>Compact</td>\n",
              "      <td>Convertible</td>\n",
              "      <td>28</td>\n",
              "      <td>19</td>\n",
              "      <td>3916</td>\n",
              "      <td>40650</td>\n",
              "    </tr>\n",
              "    <tr>\n",
              "      <th>2</th>\n",
              "      <td>BMW</td>\n",
              "      <td>1 Series</td>\n",
              "      <td>2011</td>\n",
              "      <td>premium unleaded (required)</td>\n",
              "      <td>300.0</td>\n",
              "      <td>6.0</td>\n",
              "      <td>MANUAL</td>\n",
              "      <td>rear wheel drive</td>\n",
              "      <td>2.0</td>\n",
              "      <td>Luxury,High-Performance</td>\n",
              "      <td>Compact</td>\n",
              "      <td>Coupe</td>\n",
              "      <td>28</td>\n",
              "      <td>20</td>\n",
              "      <td>3916</td>\n",
              "      <td>36350</td>\n",
              "    </tr>\n",
              "    <tr>\n",
              "      <th>3</th>\n",
              "      <td>BMW</td>\n",
              "      <td>1 Series</td>\n",
              "      <td>2011</td>\n",
              "      <td>premium unleaded (required)</td>\n",
              "      <td>230.0</td>\n",
              "      <td>6.0</td>\n",
              "      <td>MANUAL</td>\n",
              "      <td>rear wheel drive</td>\n",
              "      <td>2.0</td>\n",
              "      <td>Luxury,Performance</td>\n",
              "      <td>Compact</td>\n",
              "      <td>Coupe</td>\n",
              "      <td>28</td>\n",
              "      <td>18</td>\n",
              "      <td>3916</td>\n",
              "      <td>29450</td>\n",
              "    </tr>\n",
              "    <tr>\n",
              "      <th>4</th>\n",
              "      <td>BMW</td>\n",
              "      <td>1 Series</td>\n",
              "      <td>2011</td>\n",
              "      <td>premium unleaded (required)</td>\n",
              "      <td>230.0</td>\n",
              "      <td>6.0</td>\n",
              "      <td>MANUAL</td>\n",
              "      <td>rear wheel drive</td>\n",
              "      <td>2.0</td>\n",
              "      <td>Luxury</td>\n",
              "      <td>Compact</td>\n",
              "      <td>Convertible</td>\n",
              "      <td>28</td>\n",
              "      <td>18</td>\n",
              "      <td>3916</td>\n",
              "      <td>34500</td>\n",
              "    </tr>\n",
              "  </tbody>\n",
              "</table>\n",
              "</div>\n",
              "      <button class=\"colab-df-convert\" onclick=\"convertToInteractive('df-c700e834-5148-4617-ba04-0a30898d350e')\"\n",
              "              title=\"Convert this dataframe to an interactive table.\"\n",
              "              style=\"display:none;\">\n",
              "        \n",
              "  <svg xmlns=\"http://www.w3.org/2000/svg\" height=\"24px\"viewBox=\"0 0 24 24\"\n",
              "       width=\"24px\">\n",
              "    <path d=\"M0 0h24v24H0V0z\" fill=\"none\"/>\n",
              "    <path d=\"M18.56 5.44l.94 2.06.94-2.06 2.06-.94-2.06-.94-.94-2.06-.94 2.06-2.06.94zm-11 1L8.5 8.5l.94-2.06 2.06-.94-2.06-.94L8.5 2.5l-.94 2.06-2.06.94zm10 10l.94 2.06.94-2.06 2.06-.94-2.06-.94-.94-2.06-.94 2.06-2.06.94z\"/><path d=\"M17.41 7.96l-1.37-1.37c-.4-.4-.92-.59-1.43-.59-.52 0-1.04.2-1.43.59L10.3 9.45l-7.72 7.72c-.78.78-.78 2.05 0 2.83L4 21.41c.39.39.9.59 1.41.59.51 0 1.02-.2 1.41-.59l7.78-7.78 2.81-2.81c.8-.78.8-2.07 0-2.86zM5.41 20L4 18.59l7.72-7.72 1.47 1.35L5.41 20z\"/>\n",
              "  </svg>\n",
              "      </button>\n",
              "      \n",
              "  <style>\n",
              "    .colab-df-container {\n",
              "      display:flex;\n",
              "      flex-wrap:wrap;\n",
              "      gap: 12px;\n",
              "    }\n",
              "\n",
              "    .colab-df-convert {\n",
              "      background-color: #E8F0FE;\n",
              "      border: none;\n",
              "      border-radius: 50%;\n",
              "      cursor: pointer;\n",
              "      display: none;\n",
              "      fill: #1967D2;\n",
              "      height: 32px;\n",
              "      padding: 0 0 0 0;\n",
              "      width: 32px;\n",
              "    }\n",
              "\n",
              "    .colab-df-convert:hover {\n",
              "      background-color: #E2EBFA;\n",
              "      box-shadow: 0px 1px 2px rgba(60, 64, 67, 0.3), 0px 1px 3px 1px rgba(60, 64, 67, 0.15);\n",
              "      fill: #174EA6;\n",
              "    }\n",
              "\n",
              "    [theme=dark] .colab-df-convert {\n",
              "      background-color: #3B4455;\n",
              "      fill: #D2E3FC;\n",
              "    }\n",
              "\n",
              "    [theme=dark] .colab-df-convert:hover {\n",
              "      background-color: #434B5C;\n",
              "      box-shadow: 0px 1px 3px 1px rgba(0, 0, 0, 0.15);\n",
              "      filter: drop-shadow(0px 1px 2px rgba(0, 0, 0, 0.3));\n",
              "      fill: #FFFFFF;\n",
              "    }\n",
              "  </style>\n",
              "\n",
              "      <script>\n",
              "        const buttonEl =\n",
              "          document.querySelector('#df-c700e834-5148-4617-ba04-0a30898d350e button.colab-df-convert');\n",
              "        buttonEl.style.display =\n",
              "          google.colab.kernel.accessAllowed ? 'block' : 'none';\n",
              "\n",
              "        async function convertToInteractive(key) {\n",
              "          const element = document.querySelector('#df-c700e834-5148-4617-ba04-0a30898d350e');\n",
              "          const dataTable =\n",
              "            await google.colab.kernel.invokeFunction('convertToInteractive',\n",
              "                                                     [key], {});\n",
              "          if (!dataTable) return;\n",
              "\n",
              "          const docLinkHtml = 'Like what you see? Visit the ' +\n",
              "            '<a target=\"_blank\" href=https://colab.research.google.com/notebooks/data_table.ipynb>data table notebook</a>'\n",
              "            + ' to learn more about interactive tables.';\n",
              "          element.innerHTML = '';\n",
              "          dataTable['output_type'] = 'display_data';\n",
              "          await google.colab.output.renderOutput(dataTable, element);\n",
              "          const docLink = document.createElement('div');\n",
              "          docLink.innerHTML = docLinkHtml;\n",
              "          element.appendChild(docLink);\n",
              "        }\n",
              "      </script>\n",
              "    </div>\n",
              "  </div>\n",
              "  "
            ]
          },
          "metadata": {},
          "execution_count": 5
        }
      ]
    },
    {
      "cell_type": "code",
      "source": [
        "df[\"Make\"].value_counts()[:3]"
      ],
      "metadata": {
        "colab": {
          "base_uri": "https://localhost:8080/"
        },
        "id": "1Pj89gNF8N6K",
        "outputId": "d44b5dc1-5761-423f-db29-a2789316c34c"
      },
      "execution_count": 6,
      "outputs": [
        {
          "output_type": "execute_result",
          "data": {
            "text/plain": [
              "Chevrolet     1123\n",
              "Ford           881\n",
              "Volkswagen     809\n",
              "Name: Make, dtype: int64"
            ]
          },
          "metadata": {},
          "execution_count": 6
        }
      ]
    },
    {
      "cell_type": "markdown",
      "source": [
        "Answer:  Chevrolet, Ford, Volkswagen"
      ],
      "metadata": {
        "id": "DZwd6QwV8Xy4"
      }
    },
    {
      "cell_type": "markdown",
      "source": [
        "# **Question 4**\n",
        "\n",
        "What's the number of unique Audi car models in the dataset?\n",
        "\n",
        "* 3\n",
        "* 16 \n",
        "* 26\n",
        "* 34 "
      ],
      "metadata": {
        "id": "4NELNoGSLMgz"
      }
    },
    {
      "cell_type": "code",
      "source": [
        "print(\"My Answer is:\",df[df['Make'] == 'Audi']['Model'].nunique())"
      ],
      "metadata": {
        "colab": {
          "base_uri": "https://localhost:8080/"
        },
        "id": "IPPVxV8G8msv",
        "outputId": "43ad296d-ad94-46b7-ab4f-3bd2e2cf077d"
      },
      "execution_count": 9,
      "outputs": [
        {
          "output_type": "stream",
          "name": "stdout",
          "text": [
            "My Answer is: 34\n"
          ]
        }
      ]
    },
    {
      "cell_type": "markdown",
      "source": [
        "# **Question 5**\n",
        "\n",
        "How many columns in the dataset have missing values?\n",
        "\n",
        "* 5 \n",
        "* 6\n",
        "* 7\n",
        "* 8\n",
        "\n"
      ],
      "metadata": {
        "id": "bJbyOtPjLTSM"
      }
    },
    {
      "cell_type": "code",
      "source": [
        "columns_with_nan = df.columns[df.isna().any()].to_list()\n",
        "print(f\"Columns with missing values:{columns_with_nan}\")\n",
        "print(f\"Number of columns with missing values : is the Answer = {len(columns_with_nan)}\")\n"
      ],
      "metadata": {
        "colab": {
          "base_uri": "https://localhost:8080/"
        },
        "id": "r7xuegUd-x4F",
        "outputId": "164c5acb-2dff-4794-b949-08ed4718f375"
      },
      "execution_count": 14,
      "outputs": [
        {
          "output_type": "stream",
          "name": "stdout",
          "text": [
            "Columns with missing values:['Engine Fuel Type', 'Engine HP', 'Engine Cylinders', 'Number of Doors', 'Market Category']\n",
            "Number of columns with missing values : is the Answer = 5\n"
          ]
        }
      ]
    },
    {
      "cell_type": "markdown",
      "source": [
        "# **Question 6**\n",
        "\n",
        "1. Find the median value of \"Engine Cylinders\" column in the dataset.\n",
        "Next, calculate the most frequent value of the same \"Engine Cylinders\".\n",
        "\n",
        "2. Use the fillna method to fill the missing values in \"Engine \n",
        "\n",
        "3. Cylinders\" with the most frequent value from the previous step.\n",
        "\n",
        "4. Now, calculate the median value of \"Engine Cylinders\" once again.\n",
        "Has it changed?\n",
        "\n",
        "Hint: refer to existing mode and median functions to complete the task.\n",
        "\n",
        "* Yes\n",
        "* No"
      ],
      "metadata": {
        "id": "U0JSPBy4LT6b"
      }
    },
    {
      "cell_type": "markdown",
      "source": [
        "### 1. Find the median value of \"Engine Cylinders\" column in the dataset. Next, calculate the most frequent value of the same \"Engine Cylinders\""
      ],
      "metadata": {
        "id": "Gh0Ksz69AT7Y"
      }
    },
    {
      "cell_type": "code",
      "source": [
        "df[\"Engine Cylinders\"].median()"
      ],
      "metadata": {
        "id": "7eNid4j2T_x3",
        "colab": {
          "base_uri": "https://localhost:8080/"
        },
        "outputId": "3b313258-fc13-48bb-8108-38fe0d77b549"
      },
      "execution_count": 15,
      "outputs": [
        {
          "output_type": "execute_result",
          "data": {
            "text/plain": [
              "6.0"
            ]
          },
          "metadata": {},
          "execution_count": 15
        }
      ]
    },
    {
      "cell_type": "markdown",
      "source": [
        "### 1.1 Next, calculate the most frequent value of the same \"Engine Cylinders\""
      ],
      "metadata": {
        "id": "8sR9LuegAw69"
      }
    },
    {
      "cell_type": "code",
      "source": [
        "df[\"Engine Cylinders\"].mode()"
      ],
      "metadata": {
        "colab": {
          "base_uri": "https://localhost:8080/"
        },
        "id": "maPNnlJKANjU",
        "outputId": "3b4e6def-c93c-4858-ca25-8892465d7a62"
      },
      "execution_count": 17,
      "outputs": [
        {
          "output_type": "execute_result",
          "data": {
            "text/plain": [
              "0    4.0\n",
              "dtype: float64"
            ]
          },
          "metadata": {},
          "execution_count": 17
        }
      ]
    },
    {
      "cell_type": "markdown",
      "source": [
        "### 2. Use the fillna method to fill the missing values in \"Engine Cylinders\""
      ],
      "metadata": {
        "id": "QdwlSUIzBTu3"
      }
    },
    {
      "cell_type": "code",
      "source": [
        "df[\"Engine Cylinders\"].fillna(float(df[\"Engine Cylinders\"].mode()),inplace = True)"
      ],
      "metadata": {
        "id": "9P7-UF2kANeO"
      },
      "execution_count": 19,
      "outputs": []
    },
    {
      "cell_type": "code",
      "source": [
        "df[\"Engine Cylinders\"].isna().value_counts()"
      ],
      "metadata": {
        "colab": {
          "base_uri": "https://localhost:8080/"
        },
        "id": "kuaK0bTAByl-",
        "outputId": "35c79962-0359-4293-fbc5-9abeac03551b"
      },
      "execution_count": 20,
      "outputs": [
        {
          "output_type": "execute_result",
          "data": {
            "text/plain": [
              "False    11914\n",
              "Name: Engine Cylinders, dtype: int64"
            ]
          },
          "metadata": {},
          "execution_count": 20
        }
      ]
    },
    {
      "cell_type": "markdown",
      "source": [
        "### 4. Now, calculate the median value of \"Engine Cylinders\" once again. Has it changed?\n",
        "\n"
      ],
      "metadata": {
        "id": "MA7mL8tnCZDU"
      }
    },
    {
      "cell_type": "code",
      "source": [
        "df[\"Engine Cylinders\"].median()"
      ],
      "metadata": {
        "colab": {
          "base_uri": "https://localhost:8080/"
        },
        "id": "BQaHY7rLCSW0",
        "outputId": "5a951368-9dd2-4bef-88e3-cea0d412cff2"
      },
      "execution_count": 21,
      "outputs": [
        {
          "output_type": "execute_result",
          "data": {
            "text/plain": [
              "6.0"
            ]
          },
          "metadata": {},
          "execution_count": 21
        }
      ]
    },
    {
      "cell_type": "markdown",
      "source": [
        "Answer: No, their no changes"
      ],
      "metadata": {
        "id": "BXLy7kd8CuQt"
      }
    },
    {
      "cell_type": "markdown",
      "source": [
        "# **Question 7**\n",
        "\n",
        "1. Select all the \"Lotus\" cars from the dataset.\n",
        "\n",
        "2. Select only columns \"Engine HP\", \"Engine Cylinders\".\n",
        "\n",
        "3. Now drop all duplicated rows using drop_duplicates method (you should get a dataframe with 9 rows).\n",
        "\n",
        "4. Get the underlying NumPy array. Let's call it X.\n",
        "\n",
        "5. Compute matrix-matrix multiplication between the transpose of X and X. To get the transpose, use X.T. Let's call the result XTX.\n",
        "\n",
        "6. Invert XTX.\n",
        "\n",
        "7. Create an array y with values [1100, 800, 750, 850, 1300, 1000, 1000, 1300, 800].\n",
        "\n",
        "8. Multiply the inverse of XTX with the transpose of X, and then multiply the result by y. Call the result w.\n",
        "\n",
        "9. What's the value of the first element of w?\n",
        "\n",
        "Note: You just implemented linear regression. We'll talk about it in the next lesson.\n",
        "\n",
        "* -0.0723\n",
        "* 4.5949\n",
        "* 31.6537\n",
        "* 63.5643"
      ],
      "metadata": {
        "id": "TUHJdMcqL8qh"
      }
    },
    {
      "cell_type": "markdown",
      "source": [
        "### 1. Select all the \"Lotus\" cars from the dataset."
      ],
      "metadata": {
        "id": "j2h_GtJFDRGO"
      }
    },
    {
      "cell_type": "code",
      "source": [
        "lotus_cars = df[df[\"Make\"]== 'Lotus']\n",
        "lotus_cars"
      ],
      "metadata": {
        "id": "3MrbiO_XHuip",
        "colab": {
          "base_uri": "https://localhost:8080/",
          "height": 1000
        },
        "outputId": "636b4f08-9ba5-4c8c-a8d0-a8ec37b9fdc5"
      },
      "execution_count": 23,
      "outputs": [
        {
          "output_type": "execute_result",
          "data": {
            "text/plain": [
              "       Make      Model  Year                Engine Fuel Type  Engine HP  \\\n",
              "3912  Lotus      Elise  2009     premium unleaded (required)      189.0   \n",
              "3913  Lotus      Elise  2009     premium unleaded (required)      218.0   \n",
              "3914  Lotus      Elise  2009     premium unleaded (required)      189.0   \n",
              "3915  Lotus      Elise  2010     premium unleaded (required)      189.0   \n",
              "3916  Lotus      Elise  2010     premium unleaded (required)      218.0   \n",
              "3917  Lotus      Elise  2011     premium unleaded (required)      189.0   \n",
              "3918  Lotus      Elise  2011     premium unleaded (required)      217.0   \n",
              "3919  Lotus      Elise  2011     premium unleaded (required)      217.0   \n",
              "4216  Lotus     Esprit  2002     premium unleaded (required)      350.0   \n",
              "4217  Lotus     Esprit  2003     premium unleaded (required)      350.0   \n",
              "4218  Lotus     Esprit  2004     premium unleaded (required)      350.0   \n",
              "4257  Lotus  Evora 400  2017     premium unleaded (required)      400.0   \n",
              "4258  Lotus  Evora 400  2017     premium unleaded (required)      400.0   \n",
              "4259  Lotus      Evora  2011     premium unleaded (required)      276.0   \n",
              "4260  Lotus      Evora  2011     premium unleaded (required)      276.0   \n",
              "4261  Lotus      Evora  2013     premium unleaded (required)      276.0   \n",
              "4262  Lotus      Evora  2013     premium unleaded (required)      345.0   \n",
              "4263  Lotus      Evora  2013     premium unleaded (required)      345.0   \n",
              "4264  Lotus      Evora  2013     premium unleaded (required)      276.0   \n",
              "4265  Lotus      Evora  2014     premium unleaded (required)      345.0   \n",
              "4266  Lotus      Evora  2014     premium unleaded (required)      276.0   \n",
              "4267  Lotus      Evora  2014     premium unleaded (required)      345.0   \n",
              "4268  Lotus      Evora  2014     premium unleaded (required)      276.0   \n",
              "4292  Lotus      Exige  2009  premium unleaded (recommended)      257.0   \n",
              "4293  Lotus      Exige  2009  premium unleaded (recommended)      240.0   \n",
              "4294  Lotus      Exige  2010  premium unleaded (recommended)      240.0   \n",
              "4295  Lotus      Exige  2011  premium unleaded (recommended)      240.0   \n",
              "4296  Lotus      Exige  2011  premium unleaded (recommended)      257.0   \n",
              "4297  Lotus      Exige  2011  premium unleaded (recommended)      257.0   \n",
              "\n",
              "      Engine Cylinders Transmission Type     Driven_Wheels  Number of Doors  \\\n",
              "3912               4.0            MANUAL  rear wheel drive              2.0   \n",
              "3913               4.0            MANUAL  rear wheel drive              2.0   \n",
              "3914               4.0            MANUAL  rear wheel drive              2.0   \n",
              "3915               4.0            MANUAL  rear wheel drive              2.0   \n",
              "3916               4.0            MANUAL  rear wheel drive              2.0   \n",
              "3917               4.0            MANUAL  rear wheel drive              2.0   \n",
              "3918               4.0            MANUAL  rear wheel drive              2.0   \n",
              "3919               4.0            MANUAL  rear wheel drive              2.0   \n",
              "4216               8.0            MANUAL  rear wheel drive              2.0   \n",
              "4217               8.0            MANUAL  rear wheel drive              2.0   \n",
              "4218               8.0            MANUAL  rear wheel drive              2.0   \n",
              "4257               6.0            MANUAL  rear wheel drive              2.0   \n",
              "4258               6.0            MANUAL  rear wheel drive              2.0   \n",
              "4259               6.0            MANUAL  rear wheel drive              2.0   \n",
              "4260               6.0            MANUAL  rear wheel drive              2.0   \n",
              "4261               6.0            MANUAL  rear wheel drive              2.0   \n",
              "4262               6.0            MANUAL  rear wheel drive              2.0   \n",
              "4263               6.0            MANUAL  rear wheel drive              2.0   \n",
              "4264               6.0            MANUAL  rear wheel drive              2.0   \n",
              "4265               6.0            MANUAL  rear wheel drive              2.0   \n",
              "4266               6.0            MANUAL  rear wheel drive              2.0   \n",
              "4267               6.0            MANUAL  rear wheel drive              2.0   \n",
              "4268               6.0            MANUAL  rear wheel drive              2.0   \n",
              "4292               4.0            MANUAL  rear wheel drive              2.0   \n",
              "4293               4.0            MANUAL  rear wheel drive              2.0   \n",
              "4294               4.0            MANUAL  rear wheel drive              2.0   \n",
              "4295               4.0            MANUAL  rear wheel drive              2.0   \n",
              "4296               4.0            MANUAL  rear wheel drive              2.0   \n",
              "4297               4.0            MANUAL  rear wheel drive              2.0   \n",
              "\n",
              "              Market Category Vehicle Size Vehicle Style  highway MPG  \\\n",
              "3912  Exotic,High-Performance      Compact   Convertible           27   \n",
              "3913  Exotic,High-Performance      Compact   Convertible           26   \n",
              "3914  Exotic,High-Performance      Compact   Convertible           27   \n",
              "3915  Exotic,High-Performance      Compact   Convertible           27   \n",
              "3916  Exotic,High-Performance      Compact   Convertible           26   \n",
              "3917  Exotic,High-Performance      Compact   Convertible           27   \n",
              "3918  Exotic,High-Performance      Compact   Convertible           26   \n",
              "3919  Exotic,High-Performance      Compact   Convertible           26   \n",
              "4216  Exotic,High-Performance      Compact         Coupe           21   \n",
              "4217  Exotic,High-Performance      Compact         Coupe           21   \n",
              "4218  Exotic,High-Performance      Compact         Coupe           21   \n",
              "4257  Exotic,High-Performance      Compact         Coupe           39   \n",
              "4258  Exotic,High-Performance      Compact         Coupe           39   \n",
              "4259  Exotic,High-Performance      Compact         Coupe           27   \n",
              "4260  Exotic,High-Performance      Compact         Coupe           26   \n",
              "4261  Exotic,High-Performance      Compact         Coupe           26   \n",
              "4262  Exotic,High-Performance      Compact         Coupe           26   \n",
              "4263  Exotic,High-Performance      Compact         Coupe           26   \n",
              "4264  Exotic,High-Performance      Compact         Coupe           26   \n",
              "4265  Exotic,High-Performance      Compact         Coupe           26   \n",
              "4266  Exotic,High-Performance      Compact         Coupe           26   \n",
              "4267  Exotic,High-Performance      Compact         Coupe           26   \n",
              "4268  Exotic,High-Performance      Compact         Coupe           26   \n",
              "4292  Exotic,High-Performance      Compact         Coupe           26   \n",
              "4293  Exotic,High-Performance      Compact         Coupe           26   \n",
              "4294  Exotic,High-Performance      Compact         Coupe           26   \n",
              "4295  Exotic,High-Performance      Compact         Coupe           26   \n",
              "4296  Exotic,High-Performance      Compact         Coupe           26   \n",
              "4297  Exotic,High-Performance      Compact         Coupe           26   \n",
              "\n",
              "      city mpg  Popularity   MSRP  \n",
              "3912        21         613  43995  \n",
              "3913        20         613  54990  \n",
              "3914        21         613  47250  \n",
              "3915        21         613  47250  \n",
              "3916        20         613  54990  \n",
              "3917        21         613  51845  \n",
              "3918        20         613  54990  \n",
              "3919        20         613  57950  \n",
              "4216        14         613  89825  \n",
              "4217        14         613  90825  \n",
              "4218        14         613  93225  \n",
              "4257        21         613  91900  \n",
              "4258        21         613  91900  \n",
              "4259        18         613  64000  \n",
              "4260        18         613  65500  \n",
              "4261        18         613  66800  \n",
              "4262        17         613  77100  \n",
              "4263        17         613  78600  \n",
              "4264        18         613  68300  \n",
              "4265        17         613  78750  \n",
              "4266        18         613  68750  \n",
              "4267        17         613  79980  \n",
              "4268        18         613  69980  \n",
              "4292        20         613  74995  \n",
              "4293        20         613  65690  \n",
              "4294        20         613  65690  \n",
              "4295        20         613  65690  \n",
              "4296        20         613  70750  \n",
              "4297        20         613  74950  "
            ],
            "text/html": [
              "\n",
              "  <div id=\"df-7e863f8a-5e42-4c34-817c-fd898341ce31\">\n",
              "    <div class=\"colab-df-container\">\n",
              "      <div>\n",
              "<style scoped>\n",
              "    .dataframe tbody tr th:only-of-type {\n",
              "        vertical-align: middle;\n",
              "    }\n",
              "\n",
              "    .dataframe tbody tr th {\n",
              "        vertical-align: top;\n",
              "    }\n",
              "\n",
              "    .dataframe thead th {\n",
              "        text-align: right;\n",
              "    }\n",
              "</style>\n",
              "<table border=\"1\" class=\"dataframe\">\n",
              "  <thead>\n",
              "    <tr style=\"text-align: right;\">\n",
              "      <th></th>\n",
              "      <th>Make</th>\n",
              "      <th>Model</th>\n",
              "      <th>Year</th>\n",
              "      <th>Engine Fuel Type</th>\n",
              "      <th>Engine HP</th>\n",
              "      <th>Engine Cylinders</th>\n",
              "      <th>Transmission Type</th>\n",
              "      <th>Driven_Wheels</th>\n",
              "      <th>Number of Doors</th>\n",
              "      <th>Market Category</th>\n",
              "      <th>Vehicle Size</th>\n",
              "      <th>Vehicle Style</th>\n",
              "      <th>highway MPG</th>\n",
              "      <th>city mpg</th>\n",
              "      <th>Popularity</th>\n",
              "      <th>MSRP</th>\n",
              "    </tr>\n",
              "  </thead>\n",
              "  <tbody>\n",
              "    <tr>\n",
              "      <th>3912</th>\n",
              "      <td>Lotus</td>\n",
              "      <td>Elise</td>\n",
              "      <td>2009</td>\n",
              "      <td>premium unleaded (required)</td>\n",
              "      <td>189.0</td>\n",
              "      <td>4.0</td>\n",
              "      <td>MANUAL</td>\n",
              "      <td>rear wheel drive</td>\n",
              "      <td>2.0</td>\n",
              "      <td>Exotic,High-Performance</td>\n",
              "      <td>Compact</td>\n",
              "      <td>Convertible</td>\n",
              "      <td>27</td>\n",
              "      <td>21</td>\n",
              "      <td>613</td>\n",
              "      <td>43995</td>\n",
              "    </tr>\n",
              "    <tr>\n",
              "      <th>3913</th>\n",
              "      <td>Lotus</td>\n",
              "      <td>Elise</td>\n",
              "      <td>2009</td>\n",
              "      <td>premium unleaded (required)</td>\n",
              "      <td>218.0</td>\n",
              "      <td>4.0</td>\n",
              "      <td>MANUAL</td>\n",
              "      <td>rear wheel drive</td>\n",
              "      <td>2.0</td>\n",
              "      <td>Exotic,High-Performance</td>\n",
              "      <td>Compact</td>\n",
              "      <td>Convertible</td>\n",
              "      <td>26</td>\n",
              "      <td>20</td>\n",
              "      <td>613</td>\n",
              "      <td>54990</td>\n",
              "    </tr>\n",
              "    <tr>\n",
              "      <th>3914</th>\n",
              "      <td>Lotus</td>\n",
              "      <td>Elise</td>\n",
              "      <td>2009</td>\n",
              "      <td>premium unleaded (required)</td>\n",
              "      <td>189.0</td>\n",
              "      <td>4.0</td>\n",
              "      <td>MANUAL</td>\n",
              "      <td>rear wheel drive</td>\n",
              "      <td>2.0</td>\n",
              "      <td>Exotic,High-Performance</td>\n",
              "      <td>Compact</td>\n",
              "      <td>Convertible</td>\n",
              "      <td>27</td>\n",
              "      <td>21</td>\n",
              "      <td>613</td>\n",
              "      <td>47250</td>\n",
              "    </tr>\n",
              "    <tr>\n",
              "      <th>3915</th>\n",
              "      <td>Lotus</td>\n",
              "      <td>Elise</td>\n",
              "      <td>2010</td>\n",
              "      <td>premium unleaded (required)</td>\n",
              "      <td>189.0</td>\n",
              "      <td>4.0</td>\n",
              "      <td>MANUAL</td>\n",
              "      <td>rear wheel drive</td>\n",
              "      <td>2.0</td>\n",
              "      <td>Exotic,High-Performance</td>\n",
              "      <td>Compact</td>\n",
              "      <td>Convertible</td>\n",
              "      <td>27</td>\n",
              "      <td>21</td>\n",
              "      <td>613</td>\n",
              "      <td>47250</td>\n",
              "    </tr>\n",
              "    <tr>\n",
              "      <th>3916</th>\n",
              "      <td>Lotus</td>\n",
              "      <td>Elise</td>\n",
              "      <td>2010</td>\n",
              "      <td>premium unleaded (required)</td>\n",
              "      <td>218.0</td>\n",
              "      <td>4.0</td>\n",
              "      <td>MANUAL</td>\n",
              "      <td>rear wheel drive</td>\n",
              "      <td>2.0</td>\n",
              "      <td>Exotic,High-Performance</td>\n",
              "      <td>Compact</td>\n",
              "      <td>Convertible</td>\n",
              "      <td>26</td>\n",
              "      <td>20</td>\n",
              "      <td>613</td>\n",
              "      <td>54990</td>\n",
              "    </tr>\n",
              "    <tr>\n",
              "      <th>3917</th>\n",
              "      <td>Lotus</td>\n",
              "      <td>Elise</td>\n",
              "      <td>2011</td>\n",
              "      <td>premium unleaded (required)</td>\n",
              "      <td>189.0</td>\n",
              "      <td>4.0</td>\n",
              "      <td>MANUAL</td>\n",
              "      <td>rear wheel drive</td>\n",
              "      <td>2.0</td>\n",
              "      <td>Exotic,High-Performance</td>\n",
              "      <td>Compact</td>\n",
              "      <td>Convertible</td>\n",
              "      <td>27</td>\n",
              "      <td>21</td>\n",
              "      <td>613</td>\n",
              "      <td>51845</td>\n",
              "    </tr>\n",
              "    <tr>\n",
              "      <th>3918</th>\n",
              "      <td>Lotus</td>\n",
              "      <td>Elise</td>\n",
              "      <td>2011</td>\n",
              "      <td>premium unleaded (required)</td>\n",
              "      <td>217.0</td>\n",
              "      <td>4.0</td>\n",
              "      <td>MANUAL</td>\n",
              "      <td>rear wheel drive</td>\n",
              "      <td>2.0</td>\n",
              "      <td>Exotic,High-Performance</td>\n",
              "      <td>Compact</td>\n",
              "      <td>Convertible</td>\n",
              "      <td>26</td>\n",
              "      <td>20</td>\n",
              "      <td>613</td>\n",
              "      <td>54990</td>\n",
              "    </tr>\n",
              "    <tr>\n",
              "      <th>3919</th>\n",
              "      <td>Lotus</td>\n",
              "      <td>Elise</td>\n",
              "      <td>2011</td>\n",
              "      <td>premium unleaded (required)</td>\n",
              "      <td>217.0</td>\n",
              "      <td>4.0</td>\n",
              "      <td>MANUAL</td>\n",
              "      <td>rear wheel drive</td>\n",
              "      <td>2.0</td>\n",
              "      <td>Exotic,High-Performance</td>\n",
              "      <td>Compact</td>\n",
              "      <td>Convertible</td>\n",
              "      <td>26</td>\n",
              "      <td>20</td>\n",
              "      <td>613</td>\n",
              "      <td>57950</td>\n",
              "    </tr>\n",
              "    <tr>\n",
              "      <th>4216</th>\n",
              "      <td>Lotus</td>\n",
              "      <td>Esprit</td>\n",
              "      <td>2002</td>\n",
              "      <td>premium unleaded (required)</td>\n",
              "      <td>350.0</td>\n",
              "      <td>8.0</td>\n",
              "      <td>MANUAL</td>\n",
              "      <td>rear wheel drive</td>\n",
              "      <td>2.0</td>\n",
              "      <td>Exotic,High-Performance</td>\n",
              "      <td>Compact</td>\n",
              "      <td>Coupe</td>\n",
              "      <td>21</td>\n",
              "      <td>14</td>\n",
              "      <td>613</td>\n",
              "      <td>89825</td>\n",
              "    </tr>\n",
              "    <tr>\n",
              "      <th>4217</th>\n",
              "      <td>Lotus</td>\n",
              "      <td>Esprit</td>\n",
              "      <td>2003</td>\n",
              "      <td>premium unleaded (required)</td>\n",
              "      <td>350.0</td>\n",
              "      <td>8.0</td>\n",
              "      <td>MANUAL</td>\n",
              "      <td>rear wheel drive</td>\n",
              "      <td>2.0</td>\n",
              "      <td>Exotic,High-Performance</td>\n",
              "      <td>Compact</td>\n",
              "      <td>Coupe</td>\n",
              "      <td>21</td>\n",
              "      <td>14</td>\n",
              "      <td>613</td>\n",
              "      <td>90825</td>\n",
              "    </tr>\n",
              "    <tr>\n",
              "      <th>4218</th>\n",
              "      <td>Lotus</td>\n",
              "      <td>Esprit</td>\n",
              "      <td>2004</td>\n",
              "      <td>premium unleaded (required)</td>\n",
              "      <td>350.0</td>\n",
              "      <td>8.0</td>\n",
              "      <td>MANUAL</td>\n",
              "      <td>rear wheel drive</td>\n",
              "      <td>2.0</td>\n",
              "      <td>Exotic,High-Performance</td>\n",
              "      <td>Compact</td>\n",
              "      <td>Coupe</td>\n",
              "      <td>21</td>\n",
              "      <td>14</td>\n",
              "      <td>613</td>\n",
              "      <td>93225</td>\n",
              "    </tr>\n",
              "    <tr>\n",
              "      <th>4257</th>\n",
              "      <td>Lotus</td>\n",
              "      <td>Evora 400</td>\n",
              "      <td>2017</td>\n",
              "      <td>premium unleaded (required)</td>\n",
              "      <td>400.0</td>\n",
              "      <td>6.0</td>\n",
              "      <td>MANUAL</td>\n",
              "      <td>rear wheel drive</td>\n",
              "      <td>2.0</td>\n",
              "      <td>Exotic,High-Performance</td>\n",
              "      <td>Compact</td>\n",
              "      <td>Coupe</td>\n",
              "      <td>39</td>\n",
              "      <td>21</td>\n",
              "      <td>613</td>\n",
              "      <td>91900</td>\n",
              "    </tr>\n",
              "    <tr>\n",
              "      <th>4258</th>\n",
              "      <td>Lotus</td>\n",
              "      <td>Evora 400</td>\n",
              "      <td>2017</td>\n",
              "      <td>premium unleaded (required)</td>\n",
              "      <td>400.0</td>\n",
              "      <td>6.0</td>\n",
              "      <td>MANUAL</td>\n",
              "      <td>rear wheel drive</td>\n",
              "      <td>2.0</td>\n",
              "      <td>Exotic,High-Performance</td>\n",
              "      <td>Compact</td>\n",
              "      <td>Coupe</td>\n",
              "      <td>39</td>\n",
              "      <td>21</td>\n",
              "      <td>613</td>\n",
              "      <td>91900</td>\n",
              "    </tr>\n",
              "    <tr>\n",
              "      <th>4259</th>\n",
              "      <td>Lotus</td>\n",
              "      <td>Evora</td>\n",
              "      <td>2011</td>\n",
              "      <td>premium unleaded (required)</td>\n",
              "      <td>276.0</td>\n",
              "      <td>6.0</td>\n",
              "      <td>MANUAL</td>\n",
              "      <td>rear wheel drive</td>\n",
              "      <td>2.0</td>\n",
              "      <td>Exotic,High-Performance</td>\n",
              "      <td>Compact</td>\n",
              "      <td>Coupe</td>\n",
              "      <td>27</td>\n",
              "      <td>18</td>\n",
              "      <td>613</td>\n",
              "      <td>64000</td>\n",
              "    </tr>\n",
              "    <tr>\n",
              "      <th>4260</th>\n",
              "      <td>Lotus</td>\n",
              "      <td>Evora</td>\n",
              "      <td>2011</td>\n",
              "      <td>premium unleaded (required)</td>\n",
              "      <td>276.0</td>\n",
              "      <td>6.0</td>\n",
              "      <td>MANUAL</td>\n",
              "      <td>rear wheel drive</td>\n",
              "      <td>2.0</td>\n",
              "      <td>Exotic,High-Performance</td>\n",
              "      <td>Compact</td>\n",
              "      <td>Coupe</td>\n",
              "      <td>26</td>\n",
              "      <td>18</td>\n",
              "      <td>613</td>\n",
              "      <td>65500</td>\n",
              "    </tr>\n",
              "    <tr>\n",
              "      <th>4261</th>\n",
              "      <td>Lotus</td>\n",
              "      <td>Evora</td>\n",
              "      <td>2013</td>\n",
              "      <td>premium unleaded (required)</td>\n",
              "      <td>276.0</td>\n",
              "      <td>6.0</td>\n",
              "      <td>MANUAL</td>\n",
              "      <td>rear wheel drive</td>\n",
              "      <td>2.0</td>\n",
              "      <td>Exotic,High-Performance</td>\n",
              "      <td>Compact</td>\n",
              "      <td>Coupe</td>\n",
              "      <td>26</td>\n",
              "      <td>18</td>\n",
              "      <td>613</td>\n",
              "      <td>66800</td>\n",
              "    </tr>\n",
              "    <tr>\n",
              "      <th>4262</th>\n",
              "      <td>Lotus</td>\n",
              "      <td>Evora</td>\n",
              "      <td>2013</td>\n",
              "      <td>premium unleaded (required)</td>\n",
              "      <td>345.0</td>\n",
              "      <td>6.0</td>\n",
              "      <td>MANUAL</td>\n",
              "      <td>rear wheel drive</td>\n",
              "      <td>2.0</td>\n",
              "      <td>Exotic,High-Performance</td>\n",
              "      <td>Compact</td>\n",
              "      <td>Coupe</td>\n",
              "      <td>26</td>\n",
              "      <td>17</td>\n",
              "      <td>613</td>\n",
              "      <td>77100</td>\n",
              "    </tr>\n",
              "    <tr>\n",
              "      <th>4263</th>\n",
              "      <td>Lotus</td>\n",
              "      <td>Evora</td>\n",
              "      <td>2013</td>\n",
              "      <td>premium unleaded (required)</td>\n",
              "      <td>345.0</td>\n",
              "      <td>6.0</td>\n",
              "      <td>MANUAL</td>\n",
              "      <td>rear wheel drive</td>\n",
              "      <td>2.0</td>\n",
              "      <td>Exotic,High-Performance</td>\n",
              "      <td>Compact</td>\n",
              "      <td>Coupe</td>\n",
              "      <td>26</td>\n",
              "      <td>17</td>\n",
              "      <td>613</td>\n",
              "      <td>78600</td>\n",
              "    </tr>\n",
              "    <tr>\n",
              "      <th>4264</th>\n",
              "      <td>Lotus</td>\n",
              "      <td>Evora</td>\n",
              "      <td>2013</td>\n",
              "      <td>premium unleaded (required)</td>\n",
              "      <td>276.0</td>\n",
              "      <td>6.0</td>\n",
              "      <td>MANUAL</td>\n",
              "      <td>rear wheel drive</td>\n",
              "      <td>2.0</td>\n",
              "      <td>Exotic,High-Performance</td>\n",
              "      <td>Compact</td>\n",
              "      <td>Coupe</td>\n",
              "      <td>26</td>\n",
              "      <td>18</td>\n",
              "      <td>613</td>\n",
              "      <td>68300</td>\n",
              "    </tr>\n",
              "    <tr>\n",
              "      <th>4265</th>\n",
              "      <td>Lotus</td>\n",
              "      <td>Evora</td>\n",
              "      <td>2014</td>\n",
              "      <td>premium unleaded (required)</td>\n",
              "      <td>345.0</td>\n",
              "      <td>6.0</td>\n",
              "      <td>MANUAL</td>\n",
              "      <td>rear wheel drive</td>\n",
              "      <td>2.0</td>\n",
              "      <td>Exotic,High-Performance</td>\n",
              "      <td>Compact</td>\n",
              "      <td>Coupe</td>\n",
              "      <td>26</td>\n",
              "      <td>17</td>\n",
              "      <td>613</td>\n",
              "      <td>78750</td>\n",
              "    </tr>\n",
              "    <tr>\n",
              "      <th>4266</th>\n",
              "      <td>Lotus</td>\n",
              "      <td>Evora</td>\n",
              "      <td>2014</td>\n",
              "      <td>premium unleaded (required)</td>\n",
              "      <td>276.0</td>\n",
              "      <td>6.0</td>\n",
              "      <td>MANUAL</td>\n",
              "      <td>rear wheel drive</td>\n",
              "      <td>2.0</td>\n",
              "      <td>Exotic,High-Performance</td>\n",
              "      <td>Compact</td>\n",
              "      <td>Coupe</td>\n",
              "      <td>26</td>\n",
              "      <td>18</td>\n",
              "      <td>613</td>\n",
              "      <td>68750</td>\n",
              "    </tr>\n",
              "    <tr>\n",
              "      <th>4267</th>\n",
              "      <td>Lotus</td>\n",
              "      <td>Evora</td>\n",
              "      <td>2014</td>\n",
              "      <td>premium unleaded (required)</td>\n",
              "      <td>345.0</td>\n",
              "      <td>6.0</td>\n",
              "      <td>MANUAL</td>\n",
              "      <td>rear wheel drive</td>\n",
              "      <td>2.0</td>\n",
              "      <td>Exotic,High-Performance</td>\n",
              "      <td>Compact</td>\n",
              "      <td>Coupe</td>\n",
              "      <td>26</td>\n",
              "      <td>17</td>\n",
              "      <td>613</td>\n",
              "      <td>79980</td>\n",
              "    </tr>\n",
              "    <tr>\n",
              "      <th>4268</th>\n",
              "      <td>Lotus</td>\n",
              "      <td>Evora</td>\n",
              "      <td>2014</td>\n",
              "      <td>premium unleaded (required)</td>\n",
              "      <td>276.0</td>\n",
              "      <td>6.0</td>\n",
              "      <td>MANUAL</td>\n",
              "      <td>rear wheel drive</td>\n",
              "      <td>2.0</td>\n",
              "      <td>Exotic,High-Performance</td>\n",
              "      <td>Compact</td>\n",
              "      <td>Coupe</td>\n",
              "      <td>26</td>\n",
              "      <td>18</td>\n",
              "      <td>613</td>\n",
              "      <td>69980</td>\n",
              "    </tr>\n",
              "    <tr>\n",
              "      <th>4292</th>\n",
              "      <td>Lotus</td>\n",
              "      <td>Exige</td>\n",
              "      <td>2009</td>\n",
              "      <td>premium unleaded (recommended)</td>\n",
              "      <td>257.0</td>\n",
              "      <td>4.0</td>\n",
              "      <td>MANUAL</td>\n",
              "      <td>rear wheel drive</td>\n",
              "      <td>2.0</td>\n",
              "      <td>Exotic,High-Performance</td>\n",
              "      <td>Compact</td>\n",
              "      <td>Coupe</td>\n",
              "      <td>26</td>\n",
              "      <td>20</td>\n",
              "      <td>613</td>\n",
              "      <td>74995</td>\n",
              "    </tr>\n",
              "    <tr>\n",
              "      <th>4293</th>\n",
              "      <td>Lotus</td>\n",
              "      <td>Exige</td>\n",
              "      <td>2009</td>\n",
              "      <td>premium unleaded (recommended)</td>\n",
              "      <td>240.0</td>\n",
              "      <td>4.0</td>\n",
              "      <td>MANUAL</td>\n",
              "      <td>rear wheel drive</td>\n",
              "      <td>2.0</td>\n",
              "      <td>Exotic,High-Performance</td>\n",
              "      <td>Compact</td>\n",
              "      <td>Coupe</td>\n",
              "      <td>26</td>\n",
              "      <td>20</td>\n",
              "      <td>613</td>\n",
              "      <td>65690</td>\n",
              "    </tr>\n",
              "    <tr>\n",
              "      <th>4294</th>\n",
              "      <td>Lotus</td>\n",
              "      <td>Exige</td>\n",
              "      <td>2010</td>\n",
              "      <td>premium unleaded (recommended)</td>\n",
              "      <td>240.0</td>\n",
              "      <td>4.0</td>\n",
              "      <td>MANUAL</td>\n",
              "      <td>rear wheel drive</td>\n",
              "      <td>2.0</td>\n",
              "      <td>Exotic,High-Performance</td>\n",
              "      <td>Compact</td>\n",
              "      <td>Coupe</td>\n",
              "      <td>26</td>\n",
              "      <td>20</td>\n",
              "      <td>613</td>\n",
              "      <td>65690</td>\n",
              "    </tr>\n",
              "    <tr>\n",
              "      <th>4295</th>\n",
              "      <td>Lotus</td>\n",
              "      <td>Exige</td>\n",
              "      <td>2011</td>\n",
              "      <td>premium unleaded (recommended)</td>\n",
              "      <td>240.0</td>\n",
              "      <td>4.0</td>\n",
              "      <td>MANUAL</td>\n",
              "      <td>rear wheel drive</td>\n",
              "      <td>2.0</td>\n",
              "      <td>Exotic,High-Performance</td>\n",
              "      <td>Compact</td>\n",
              "      <td>Coupe</td>\n",
              "      <td>26</td>\n",
              "      <td>20</td>\n",
              "      <td>613</td>\n",
              "      <td>65690</td>\n",
              "    </tr>\n",
              "    <tr>\n",
              "      <th>4296</th>\n",
              "      <td>Lotus</td>\n",
              "      <td>Exige</td>\n",
              "      <td>2011</td>\n",
              "      <td>premium unleaded (recommended)</td>\n",
              "      <td>257.0</td>\n",
              "      <td>4.0</td>\n",
              "      <td>MANUAL</td>\n",
              "      <td>rear wheel drive</td>\n",
              "      <td>2.0</td>\n",
              "      <td>Exotic,High-Performance</td>\n",
              "      <td>Compact</td>\n",
              "      <td>Coupe</td>\n",
              "      <td>26</td>\n",
              "      <td>20</td>\n",
              "      <td>613</td>\n",
              "      <td>70750</td>\n",
              "    </tr>\n",
              "    <tr>\n",
              "      <th>4297</th>\n",
              "      <td>Lotus</td>\n",
              "      <td>Exige</td>\n",
              "      <td>2011</td>\n",
              "      <td>premium unleaded (recommended)</td>\n",
              "      <td>257.0</td>\n",
              "      <td>4.0</td>\n",
              "      <td>MANUAL</td>\n",
              "      <td>rear wheel drive</td>\n",
              "      <td>2.0</td>\n",
              "      <td>Exotic,High-Performance</td>\n",
              "      <td>Compact</td>\n",
              "      <td>Coupe</td>\n",
              "      <td>26</td>\n",
              "      <td>20</td>\n",
              "      <td>613</td>\n",
              "      <td>74950</td>\n",
              "    </tr>\n",
              "  </tbody>\n",
              "</table>\n",
              "</div>\n",
              "      <button class=\"colab-df-convert\" onclick=\"convertToInteractive('df-7e863f8a-5e42-4c34-817c-fd898341ce31')\"\n",
              "              title=\"Convert this dataframe to an interactive table.\"\n",
              "              style=\"display:none;\">\n",
              "        \n",
              "  <svg xmlns=\"http://www.w3.org/2000/svg\" height=\"24px\"viewBox=\"0 0 24 24\"\n",
              "       width=\"24px\">\n",
              "    <path d=\"M0 0h24v24H0V0z\" fill=\"none\"/>\n",
              "    <path d=\"M18.56 5.44l.94 2.06.94-2.06 2.06-.94-2.06-.94-.94-2.06-.94 2.06-2.06.94zm-11 1L8.5 8.5l.94-2.06 2.06-.94-2.06-.94L8.5 2.5l-.94 2.06-2.06.94zm10 10l.94 2.06.94-2.06 2.06-.94-2.06-.94-.94-2.06-.94 2.06-2.06.94z\"/><path d=\"M17.41 7.96l-1.37-1.37c-.4-.4-.92-.59-1.43-.59-.52 0-1.04.2-1.43.59L10.3 9.45l-7.72 7.72c-.78.78-.78 2.05 0 2.83L4 21.41c.39.39.9.59 1.41.59.51 0 1.02-.2 1.41-.59l7.78-7.78 2.81-2.81c.8-.78.8-2.07 0-2.86zM5.41 20L4 18.59l7.72-7.72 1.47 1.35L5.41 20z\"/>\n",
              "  </svg>\n",
              "      </button>\n",
              "      \n",
              "  <style>\n",
              "    .colab-df-container {\n",
              "      display:flex;\n",
              "      flex-wrap:wrap;\n",
              "      gap: 12px;\n",
              "    }\n",
              "\n",
              "    .colab-df-convert {\n",
              "      background-color: #E8F0FE;\n",
              "      border: none;\n",
              "      border-radius: 50%;\n",
              "      cursor: pointer;\n",
              "      display: none;\n",
              "      fill: #1967D2;\n",
              "      height: 32px;\n",
              "      padding: 0 0 0 0;\n",
              "      width: 32px;\n",
              "    }\n",
              "\n",
              "    .colab-df-convert:hover {\n",
              "      background-color: #E2EBFA;\n",
              "      box-shadow: 0px 1px 2px rgba(60, 64, 67, 0.3), 0px 1px 3px 1px rgba(60, 64, 67, 0.15);\n",
              "      fill: #174EA6;\n",
              "    }\n",
              "\n",
              "    [theme=dark] .colab-df-convert {\n",
              "      background-color: #3B4455;\n",
              "      fill: #D2E3FC;\n",
              "    }\n",
              "\n",
              "    [theme=dark] .colab-df-convert:hover {\n",
              "      background-color: #434B5C;\n",
              "      box-shadow: 0px 1px 3px 1px rgba(0, 0, 0, 0.15);\n",
              "      filter: drop-shadow(0px 1px 2px rgba(0, 0, 0, 0.3));\n",
              "      fill: #FFFFFF;\n",
              "    }\n",
              "  </style>\n",
              "\n",
              "      <script>\n",
              "        const buttonEl =\n",
              "          document.querySelector('#df-7e863f8a-5e42-4c34-817c-fd898341ce31 button.colab-df-convert');\n",
              "        buttonEl.style.display =\n",
              "          google.colab.kernel.accessAllowed ? 'block' : 'none';\n",
              "\n",
              "        async function convertToInteractive(key) {\n",
              "          const element = document.querySelector('#df-7e863f8a-5e42-4c34-817c-fd898341ce31');\n",
              "          const dataTable =\n",
              "            await google.colab.kernel.invokeFunction('convertToInteractive',\n",
              "                                                     [key], {});\n",
              "          if (!dataTable) return;\n",
              "\n",
              "          const docLinkHtml = 'Like what you see? Visit the ' +\n",
              "            '<a target=\"_blank\" href=https://colab.research.google.com/notebooks/data_table.ipynb>data table notebook</a>'\n",
              "            + ' to learn more about interactive tables.';\n",
              "          element.innerHTML = '';\n",
              "          dataTable['output_type'] = 'display_data';\n",
              "          await google.colab.output.renderOutput(dataTable, element);\n",
              "          const docLink = document.createElement('div');\n",
              "          docLink.innerHTML = docLinkHtml;\n",
              "          element.appendChild(docLink);\n",
              "        }\n",
              "      </script>\n",
              "    </div>\n",
              "  </div>\n",
              "  "
            ]
          },
          "metadata": {},
          "execution_count": 23
        }
      ]
    },
    {
      "cell_type": "markdown",
      "source": [
        "### 2. Select only columns \"Engine HP\", \"Engine Cylinders\"."
      ],
      "metadata": {
        "id": "xhN5V7S-Drh4"
      }
    },
    {
      "cell_type": "code",
      "source": [
        "select_columns = lotus_cars[[\"Engine HP\", \"Engine Cylinders\"]]\n",
        "select_columns"
      ],
      "metadata": {
        "colab": {
          "base_uri": "https://localhost:8080/",
          "height": 959
        },
        "id": "B2LFJXP_Dr-5",
        "outputId": "c5f3023f-60a9-4f14-90e1-cdd7d1787168"
      },
      "execution_count": 25,
      "outputs": [
        {
          "output_type": "execute_result",
          "data": {
            "text/plain": [
              "      Engine HP  Engine Cylinders\n",
              "3912      189.0               4.0\n",
              "3913      218.0               4.0\n",
              "3914      189.0               4.0\n",
              "3915      189.0               4.0\n",
              "3916      218.0               4.0\n",
              "3917      189.0               4.0\n",
              "3918      217.0               4.0\n",
              "3919      217.0               4.0\n",
              "4216      350.0               8.0\n",
              "4217      350.0               8.0\n",
              "4218      350.0               8.0\n",
              "4257      400.0               6.0\n",
              "4258      400.0               6.0\n",
              "4259      276.0               6.0\n",
              "4260      276.0               6.0\n",
              "4261      276.0               6.0\n",
              "4262      345.0               6.0\n",
              "4263      345.0               6.0\n",
              "4264      276.0               6.0\n",
              "4265      345.0               6.0\n",
              "4266      276.0               6.0\n",
              "4267      345.0               6.0\n",
              "4268      276.0               6.0\n",
              "4292      257.0               4.0\n",
              "4293      240.0               4.0\n",
              "4294      240.0               4.0\n",
              "4295      240.0               4.0\n",
              "4296      257.0               4.0\n",
              "4297      257.0               4.0"
            ],
            "text/html": [
              "\n",
              "  <div id=\"df-a37dac9f-921e-47d9-a54d-61244545e9cf\">\n",
              "    <div class=\"colab-df-container\">\n",
              "      <div>\n",
              "<style scoped>\n",
              "    .dataframe tbody tr th:only-of-type {\n",
              "        vertical-align: middle;\n",
              "    }\n",
              "\n",
              "    .dataframe tbody tr th {\n",
              "        vertical-align: top;\n",
              "    }\n",
              "\n",
              "    .dataframe thead th {\n",
              "        text-align: right;\n",
              "    }\n",
              "</style>\n",
              "<table border=\"1\" class=\"dataframe\">\n",
              "  <thead>\n",
              "    <tr style=\"text-align: right;\">\n",
              "      <th></th>\n",
              "      <th>Engine HP</th>\n",
              "      <th>Engine Cylinders</th>\n",
              "    </tr>\n",
              "  </thead>\n",
              "  <tbody>\n",
              "    <tr>\n",
              "      <th>3912</th>\n",
              "      <td>189.0</td>\n",
              "      <td>4.0</td>\n",
              "    </tr>\n",
              "    <tr>\n",
              "      <th>3913</th>\n",
              "      <td>218.0</td>\n",
              "      <td>4.0</td>\n",
              "    </tr>\n",
              "    <tr>\n",
              "      <th>3914</th>\n",
              "      <td>189.0</td>\n",
              "      <td>4.0</td>\n",
              "    </tr>\n",
              "    <tr>\n",
              "      <th>3915</th>\n",
              "      <td>189.0</td>\n",
              "      <td>4.0</td>\n",
              "    </tr>\n",
              "    <tr>\n",
              "      <th>3916</th>\n",
              "      <td>218.0</td>\n",
              "      <td>4.0</td>\n",
              "    </tr>\n",
              "    <tr>\n",
              "      <th>3917</th>\n",
              "      <td>189.0</td>\n",
              "      <td>4.0</td>\n",
              "    </tr>\n",
              "    <tr>\n",
              "      <th>3918</th>\n",
              "      <td>217.0</td>\n",
              "      <td>4.0</td>\n",
              "    </tr>\n",
              "    <tr>\n",
              "      <th>3919</th>\n",
              "      <td>217.0</td>\n",
              "      <td>4.0</td>\n",
              "    </tr>\n",
              "    <tr>\n",
              "      <th>4216</th>\n",
              "      <td>350.0</td>\n",
              "      <td>8.0</td>\n",
              "    </tr>\n",
              "    <tr>\n",
              "      <th>4217</th>\n",
              "      <td>350.0</td>\n",
              "      <td>8.0</td>\n",
              "    </tr>\n",
              "    <tr>\n",
              "      <th>4218</th>\n",
              "      <td>350.0</td>\n",
              "      <td>8.0</td>\n",
              "    </tr>\n",
              "    <tr>\n",
              "      <th>4257</th>\n",
              "      <td>400.0</td>\n",
              "      <td>6.0</td>\n",
              "    </tr>\n",
              "    <tr>\n",
              "      <th>4258</th>\n",
              "      <td>400.0</td>\n",
              "      <td>6.0</td>\n",
              "    </tr>\n",
              "    <tr>\n",
              "      <th>4259</th>\n",
              "      <td>276.0</td>\n",
              "      <td>6.0</td>\n",
              "    </tr>\n",
              "    <tr>\n",
              "      <th>4260</th>\n",
              "      <td>276.0</td>\n",
              "      <td>6.0</td>\n",
              "    </tr>\n",
              "    <tr>\n",
              "      <th>4261</th>\n",
              "      <td>276.0</td>\n",
              "      <td>6.0</td>\n",
              "    </tr>\n",
              "    <tr>\n",
              "      <th>4262</th>\n",
              "      <td>345.0</td>\n",
              "      <td>6.0</td>\n",
              "    </tr>\n",
              "    <tr>\n",
              "      <th>4263</th>\n",
              "      <td>345.0</td>\n",
              "      <td>6.0</td>\n",
              "    </tr>\n",
              "    <tr>\n",
              "      <th>4264</th>\n",
              "      <td>276.0</td>\n",
              "      <td>6.0</td>\n",
              "    </tr>\n",
              "    <tr>\n",
              "      <th>4265</th>\n",
              "      <td>345.0</td>\n",
              "      <td>6.0</td>\n",
              "    </tr>\n",
              "    <tr>\n",
              "      <th>4266</th>\n",
              "      <td>276.0</td>\n",
              "      <td>6.0</td>\n",
              "    </tr>\n",
              "    <tr>\n",
              "      <th>4267</th>\n",
              "      <td>345.0</td>\n",
              "      <td>6.0</td>\n",
              "    </tr>\n",
              "    <tr>\n",
              "      <th>4268</th>\n",
              "      <td>276.0</td>\n",
              "      <td>6.0</td>\n",
              "    </tr>\n",
              "    <tr>\n",
              "      <th>4292</th>\n",
              "      <td>257.0</td>\n",
              "      <td>4.0</td>\n",
              "    </tr>\n",
              "    <tr>\n",
              "      <th>4293</th>\n",
              "      <td>240.0</td>\n",
              "      <td>4.0</td>\n",
              "    </tr>\n",
              "    <tr>\n",
              "      <th>4294</th>\n",
              "      <td>240.0</td>\n",
              "      <td>4.0</td>\n",
              "    </tr>\n",
              "    <tr>\n",
              "      <th>4295</th>\n",
              "      <td>240.0</td>\n",
              "      <td>4.0</td>\n",
              "    </tr>\n",
              "    <tr>\n",
              "      <th>4296</th>\n",
              "      <td>257.0</td>\n",
              "      <td>4.0</td>\n",
              "    </tr>\n",
              "    <tr>\n",
              "      <th>4297</th>\n",
              "      <td>257.0</td>\n",
              "      <td>4.0</td>\n",
              "    </tr>\n",
              "  </tbody>\n",
              "</table>\n",
              "</div>\n",
              "      <button class=\"colab-df-convert\" onclick=\"convertToInteractive('df-a37dac9f-921e-47d9-a54d-61244545e9cf')\"\n",
              "              title=\"Convert this dataframe to an interactive table.\"\n",
              "              style=\"display:none;\">\n",
              "        \n",
              "  <svg xmlns=\"http://www.w3.org/2000/svg\" height=\"24px\"viewBox=\"0 0 24 24\"\n",
              "       width=\"24px\">\n",
              "    <path d=\"M0 0h24v24H0V0z\" fill=\"none\"/>\n",
              "    <path d=\"M18.56 5.44l.94 2.06.94-2.06 2.06-.94-2.06-.94-.94-2.06-.94 2.06-2.06.94zm-11 1L8.5 8.5l.94-2.06 2.06-.94-2.06-.94L8.5 2.5l-.94 2.06-2.06.94zm10 10l.94 2.06.94-2.06 2.06-.94-2.06-.94-.94-2.06-.94 2.06-2.06.94z\"/><path d=\"M17.41 7.96l-1.37-1.37c-.4-.4-.92-.59-1.43-.59-.52 0-1.04.2-1.43.59L10.3 9.45l-7.72 7.72c-.78.78-.78 2.05 0 2.83L4 21.41c.39.39.9.59 1.41.59.51 0 1.02-.2 1.41-.59l7.78-7.78 2.81-2.81c.8-.78.8-2.07 0-2.86zM5.41 20L4 18.59l7.72-7.72 1.47 1.35L5.41 20z\"/>\n",
              "  </svg>\n",
              "      </button>\n",
              "      \n",
              "  <style>\n",
              "    .colab-df-container {\n",
              "      display:flex;\n",
              "      flex-wrap:wrap;\n",
              "      gap: 12px;\n",
              "    }\n",
              "\n",
              "    .colab-df-convert {\n",
              "      background-color: #E8F0FE;\n",
              "      border: none;\n",
              "      border-radius: 50%;\n",
              "      cursor: pointer;\n",
              "      display: none;\n",
              "      fill: #1967D2;\n",
              "      height: 32px;\n",
              "      padding: 0 0 0 0;\n",
              "      width: 32px;\n",
              "    }\n",
              "\n",
              "    .colab-df-convert:hover {\n",
              "      background-color: #E2EBFA;\n",
              "      box-shadow: 0px 1px 2px rgba(60, 64, 67, 0.3), 0px 1px 3px 1px rgba(60, 64, 67, 0.15);\n",
              "      fill: #174EA6;\n",
              "    }\n",
              "\n",
              "    [theme=dark] .colab-df-convert {\n",
              "      background-color: #3B4455;\n",
              "      fill: #D2E3FC;\n",
              "    }\n",
              "\n",
              "    [theme=dark] .colab-df-convert:hover {\n",
              "      background-color: #434B5C;\n",
              "      box-shadow: 0px 1px 3px 1px rgba(0, 0, 0, 0.15);\n",
              "      filter: drop-shadow(0px 1px 2px rgba(0, 0, 0, 0.3));\n",
              "      fill: #FFFFFF;\n",
              "    }\n",
              "  </style>\n",
              "\n",
              "      <script>\n",
              "        const buttonEl =\n",
              "          document.querySelector('#df-a37dac9f-921e-47d9-a54d-61244545e9cf button.colab-df-convert');\n",
              "        buttonEl.style.display =\n",
              "          google.colab.kernel.accessAllowed ? 'block' : 'none';\n",
              "\n",
              "        async function convertToInteractive(key) {\n",
              "          const element = document.querySelector('#df-a37dac9f-921e-47d9-a54d-61244545e9cf');\n",
              "          const dataTable =\n",
              "            await google.colab.kernel.invokeFunction('convertToInteractive',\n",
              "                                                     [key], {});\n",
              "          if (!dataTable) return;\n",
              "\n",
              "          const docLinkHtml = 'Like what you see? Visit the ' +\n",
              "            '<a target=\"_blank\" href=https://colab.research.google.com/notebooks/data_table.ipynb>data table notebook</a>'\n",
              "            + ' to learn more about interactive tables.';\n",
              "          element.innerHTML = '';\n",
              "          dataTable['output_type'] = 'display_data';\n",
              "          await google.colab.output.renderOutput(dataTable, element);\n",
              "          const docLink = document.createElement('div');\n",
              "          docLink.innerHTML = docLinkHtml;\n",
              "          element.appendChild(docLink);\n",
              "        }\n",
              "      </script>\n",
              "    </div>\n",
              "  </div>\n",
              "  "
            ]
          },
          "metadata": {},
          "execution_count": 25
        }
      ]
    },
    {
      "cell_type": "markdown",
      "source": [
        "### 3. Now drop all duplicated rows using drop_duplicates method (you should get a dataframe with 9 rows)."
      ],
      "metadata": {
        "id": "nnFeQ6PDELnO"
      }
    },
    {
      "cell_type": "code",
      "source": [
        "select_columns = select_columns.drop_duplicates()\n",
        "select_columns"
      ],
      "metadata": {
        "colab": {
          "base_uri": "https://localhost:8080/",
          "height": 332
        },
        "id": "-067vhaNEKBQ",
        "outputId": "27a68a8c-c70b-430a-da98-79d01107d69c"
      },
      "execution_count": 27,
      "outputs": [
        {
          "output_type": "execute_result",
          "data": {
            "text/plain": [
              "      Engine HP  Engine Cylinders\n",
              "3912      189.0               4.0\n",
              "3913      218.0               4.0\n",
              "3918      217.0               4.0\n",
              "4216      350.0               8.0\n",
              "4257      400.0               6.0\n",
              "4259      276.0               6.0\n",
              "4262      345.0               6.0\n",
              "4292      257.0               4.0\n",
              "4293      240.0               4.0"
            ],
            "text/html": [
              "\n",
              "  <div id=\"df-fce48cd1-3faf-4b28-a670-2f2265f7e30b\">\n",
              "    <div class=\"colab-df-container\">\n",
              "      <div>\n",
              "<style scoped>\n",
              "    .dataframe tbody tr th:only-of-type {\n",
              "        vertical-align: middle;\n",
              "    }\n",
              "\n",
              "    .dataframe tbody tr th {\n",
              "        vertical-align: top;\n",
              "    }\n",
              "\n",
              "    .dataframe thead th {\n",
              "        text-align: right;\n",
              "    }\n",
              "</style>\n",
              "<table border=\"1\" class=\"dataframe\">\n",
              "  <thead>\n",
              "    <tr style=\"text-align: right;\">\n",
              "      <th></th>\n",
              "      <th>Engine HP</th>\n",
              "      <th>Engine Cylinders</th>\n",
              "    </tr>\n",
              "  </thead>\n",
              "  <tbody>\n",
              "    <tr>\n",
              "      <th>3912</th>\n",
              "      <td>189.0</td>\n",
              "      <td>4.0</td>\n",
              "    </tr>\n",
              "    <tr>\n",
              "      <th>3913</th>\n",
              "      <td>218.0</td>\n",
              "      <td>4.0</td>\n",
              "    </tr>\n",
              "    <tr>\n",
              "      <th>3918</th>\n",
              "      <td>217.0</td>\n",
              "      <td>4.0</td>\n",
              "    </tr>\n",
              "    <tr>\n",
              "      <th>4216</th>\n",
              "      <td>350.0</td>\n",
              "      <td>8.0</td>\n",
              "    </tr>\n",
              "    <tr>\n",
              "      <th>4257</th>\n",
              "      <td>400.0</td>\n",
              "      <td>6.0</td>\n",
              "    </tr>\n",
              "    <tr>\n",
              "      <th>4259</th>\n",
              "      <td>276.0</td>\n",
              "      <td>6.0</td>\n",
              "    </tr>\n",
              "    <tr>\n",
              "      <th>4262</th>\n",
              "      <td>345.0</td>\n",
              "      <td>6.0</td>\n",
              "    </tr>\n",
              "    <tr>\n",
              "      <th>4292</th>\n",
              "      <td>257.0</td>\n",
              "      <td>4.0</td>\n",
              "    </tr>\n",
              "    <tr>\n",
              "      <th>4293</th>\n",
              "      <td>240.0</td>\n",
              "      <td>4.0</td>\n",
              "    </tr>\n",
              "  </tbody>\n",
              "</table>\n",
              "</div>\n",
              "      <button class=\"colab-df-convert\" onclick=\"convertToInteractive('df-fce48cd1-3faf-4b28-a670-2f2265f7e30b')\"\n",
              "              title=\"Convert this dataframe to an interactive table.\"\n",
              "              style=\"display:none;\">\n",
              "        \n",
              "  <svg xmlns=\"http://www.w3.org/2000/svg\" height=\"24px\"viewBox=\"0 0 24 24\"\n",
              "       width=\"24px\">\n",
              "    <path d=\"M0 0h24v24H0V0z\" fill=\"none\"/>\n",
              "    <path d=\"M18.56 5.44l.94 2.06.94-2.06 2.06-.94-2.06-.94-.94-2.06-.94 2.06-2.06.94zm-11 1L8.5 8.5l.94-2.06 2.06-.94-2.06-.94L8.5 2.5l-.94 2.06-2.06.94zm10 10l.94 2.06.94-2.06 2.06-.94-2.06-.94-.94-2.06-.94 2.06-2.06.94z\"/><path d=\"M17.41 7.96l-1.37-1.37c-.4-.4-.92-.59-1.43-.59-.52 0-1.04.2-1.43.59L10.3 9.45l-7.72 7.72c-.78.78-.78 2.05 0 2.83L4 21.41c.39.39.9.59 1.41.59.51 0 1.02-.2 1.41-.59l7.78-7.78 2.81-2.81c.8-.78.8-2.07 0-2.86zM5.41 20L4 18.59l7.72-7.72 1.47 1.35L5.41 20z\"/>\n",
              "  </svg>\n",
              "      </button>\n",
              "      \n",
              "  <style>\n",
              "    .colab-df-container {\n",
              "      display:flex;\n",
              "      flex-wrap:wrap;\n",
              "      gap: 12px;\n",
              "    }\n",
              "\n",
              "    .colab-df-convert {\n",
              "      background-color: #E8F0FE;\n",
              "      border: none;\n",
              "      border-radius: 50%;\n",
              "      cursor: pointer;\n",
              "      display: none;\n",
              "      fill: #1967D2;\n",
              "      height: 32px;\n",
              "      padding: 0 0 0 0;\n",
              "      width: 32px;\n",
              "    }\n",
              "\n",
              "    .colab-df-convert:hover {\n",
              "      background-color: #E2EBFA;\n",
              "      box-shadow: 0px 1px 2px rgba(60, 64, 67, 0.3), 0px 1px 3px 1px rgba(60, 64, 67, 0.15);\n",
              "      fill: #174EA6;\n",
              "    }\n",
              "\n",
              "    [theme=dark] .colab-df-convert {\n",
              "      background-color: #3B4455;\n",
              "      fill: #D2E3FC;\n",
              "    }\n",
              "\n",
              "    [theme=dark] .colab-df-convert:hover {\n",
              "      background-color: #434B5C;\n",
              "      box-shadow: 0px 1px 3px 1px rgba(0, 0, 0, 0.15);\n",
              "      filter: drop-shadow(0px 1px 2px rgba(0, 0, 0, 0.3));\n",
              "      fill: #FFFFFF;\n",
              "    }\n",
              "  </style>\n",
              "\n",
              "      <script>\n",
              "        const buttonEl =\n",
              "          document.querySelector('#df-fce48cd1-3faf-4b28-a670-2f2265f7e30b button.colab-df-convert');\n",
              "        buttonEl.style.display =\n",
              "          google.colab.kernel.accessAllowed ? 'block' : 'none';\n",
              "\n",
              "        async function convertToInteractive(key) {\n",
              "          const element = document.querySelector('#df-fce48cd1-3faf-4b28-a670-2f2265f7e30b');\n",
              "          const dataTable =\n",
              "            await google.colab.kernel.invokeFunction('convertToInteractive',\n",
              "                                                     [key], {});\n",
              "          if (!dataTable) return;\n",
              "\n",
              "          const docLinkHtml = 'Like what you see? Visit the ' +\n",
              "            '<a target=\"_blank\" href=https://colab.research.google.com/notebooks/data_table.ipynb>data table notebook</a>'\n",
              "            + ' to learn more about interactive tables.';\n",
              "          element.innerHTML = '';\n",
              "          dataTable['output_type'] = 'display_data';\n",
              "          await google.colab.output.renderOutput(dataTable, element);\n",
              "          const docLink = document.createElement('div');\n",
              "          docLink.innerHTML = docLinkHtml;\n",
              "          element.appendChild(docLink);\n",
              "        }\n",
              "      </script>\n",
              "    </div>\n",
              "  </div>\n",
              "  "
            ]
          },
          "metadata": {},
          "execution_count": 27
        }
      ]
    },
    {
      "cell_type": "code",
      "source": [
        "#check the dataframe with 9 rows\n",
        "select_columns.shape"
      ],
      "metadata": {
        "colab": {
          "base_uri": "https://localhost:8080/"
        },
        "id": "avXSPYdnE8qx",
        "outputId": "ce9ea67f-a483-44a8-8647-8fdd2271ac08"
      },
      "execution_count": 28,
      "outputs": [
        {
          "output_type": "execute_result",
          "data": {
            "text/plain": [
              "(9, 2)"
            ]
          },
          "metadata": {},
          "execution_count": 28
        }
      ]
    },
    {
      "cell_type": "markdown",
      "source": [
        "### 4. Get the underlying NumPy array. Let's call it X.\n",
        "\n"
      ],
      "metadata": {
        "id": "11ZheK0KFjMq"
      }
    },
    {
      "cell_type": "code",
      "source": [
        "X = select_columns.to_numpy()\n",
        "X"
      ],
      "metadata": {
        "colab": {
          "base_uri": "https://localhost:8080/"
        },
        "id": "3yz5ZY1qFx2k",
        "outputId": "9948b6f3-aa0d-40e6-debe-4a9ee67b70f6"
      },
      "execution_count": 29,
      "outputs": [
        {
          "output_type": "execute_result",
          "data": {
            "text/plain": [
              "array([[189.,   4.],\n",
              "       [218.,   4.],\n",
              "       [217.,   4.],\n",
              "       [350.,   8.],\n",
              "       [400.,   6.],\n",
              "       [276.,   6.],\n",
              "       [345.,   6.],\n",
              "       [257.,   4.],\n",
              "       [240.,   4.]])"
            ]
          },
          "metadata": {},
          "execution_count": 29
        }
      ]
    },
    {
      "cell_type": "markdown",
      "source": [
        "### 5. Compute matrix-matrix multiplication between the transpose of X and X. To get the transpose, use X.T. Let's call the result XTX."
      ],
      "metadata": {
        "id": "lGoydOhAF7HR"
      }
    },
    {
      "cell_type": "code",
      "source": [
        "#To get the transpose of X\n",
        "XT = X.T\n",
        "XT"
      ],
      "metadata": {
        "colab": {
          "base_uri": "https://localhost:8080/"
        },
        "id": "rvg9ucTSF6h3",
        "outputId": "e5b92353-fa0e-4381-a7fb-4cd1dd0c925c"
      },
      "execution_count": 30,
      "outputs": [
        {
          "output_type": "execute_result",
          "data": {
            "text/plain": [
              "array([[189., 218., 217., 350., 400., 276., 345., 257., 240.],\n",
              "       [  4.,   4.,   4.,   8.,   6.,   6.,   6.,   4.,   4.]])"
            ]
          },
          "metadata": {},
          "execution_count": 30
        }
      ]
    },
    {
      "cell_type": "code",
      "source": [
        "#Use X.T.,let's call the result XTX by Multiply X with XT\n",
        "XTX = np.dot(XT,X)\n",
        "XTX"
      ],
      "metadata": {
        "colab": {
          "base_uri": "https://localhost:8080/"
        },
        "id": "71NBjrtFGdN8",
        "outputId": "a237b1df-7b60-4ef6-eb64-d8580392df03"
      },
      "execution_count": 31,
      "outputs": [
        {
          "output_type": "execute_result",
          "data": {
            "text/plain": [
              "array([[7.31684e+05, 1.34100e+04],\n",
              "       [1.34100e+04, 2.52000e+02]])"
            ]
          },
          "metadata": {},
          "execution_count": 31
        }
      ]
    },
    {
      "cell_type": "markdown",
      "source": [
        "### 6. Invert XTX."
      ],
      "metadata": {
        "id": "j_VZ9uB8G8Cn"
      }
    },
    {
      "cell_type": "code",
      "source": [
        "XTXI = np.linalg.inv(XTX)\n",
        "XTXI"
      ],
      "metadata": {
        "colab": {
          "base_uri": "https://localhost:8080/"
        },
        "id": "TSei_6ZBHJi4",
        "outputId": "fa48ef5d-7702-4b8f-9e91-1ff010ef42d6"
      },
      "execution_count": 32,
      "outputs": [
        {
          "output_type": "execute_result",
          "data": {
            "text/plain": [
              "array([[ 5.53084235e-05, -2.94319825e-03],\n",
              "       [-2.94319825e-03,  1.60588447e-01]])"
            ]
          },
          "metadata": {},
          "execution_count": 32
        }
      ]
    },
    {
      "cell_type": "markdown",
      "source": [
        "### 7.  Create an array y with values [1100, 800, 750, 850, 1300, 1000, 1000, 1300, 800]."
      ],
      "metadata": {
        "id": "MQ-3l27LHYtx"
      }
    },
    {
      "cell_type": "code",
      "source": [
        "y = np.array([1100, 800, 750, 850, 1300, 1000, 1000, 1300, 800])\n",
        "y"
      ],
      "metadata": {
        "colab": {
          "base_uri": "https://localhost:8080/"
        },
        "id": "Hnb_da5tHZLR",
        "outputId": "7c15ea67-f3e9-451d-b1fd-15e0d8d27aa3"
      },
      "execution_count": 34,
      "outputs": [
        {
          "output_type": "execute_result",
          "data": {
            "text/plain": [
              "array([1100,  800,  750,  850, 1300, 1000, 1000, 1300,  800])"
            ]
          },
          "metadata": {},
          "execution_count": 34
        }
      ]
    },
    {
      "cell_type": "markdown",
      "source": [
        "### 8. Multiply the inverse of XTX with the transpose of X, and then multiply the result by y. Call the result w.\n",
        "\n"
      ],
      "metadata": {
        "id": "oGIGULZaIAbz"
      }
    },
    {
      "cell_type": "code",
      "source": [
        "W = np.dot(np.dot(XTXI,XT), y)\n"
      ],
      "metadata": {
        "id": "yg09bLY1IA3M"
      },
      "execution_count": 39,
      "outputs": []
    },
    {
      "cell_type": "markdown",
      "source": [
        "### 9. What's the value of the first element of w?"
      ],
      "metadata": {
        "id": "I5PIeyLyJKR6"
      }
    },
    {
      "cell_type": "code",
      "source": [
        "W"
      ],
      "metadata": {
        "colab": {
          "base_uri": "https://localhost:8080/"
        },
        "id": "v-SgnFKaJJz2",
        "outputId": "bc304f05-f03e-4414-98c2-88773cbd4ab3"
      },
      "execution_count": 38,
      "outputs": [
        {
          "output_type": "execute_result",
          "data": {
            "text/plain": [
              "array([  4.59494481, -63.56432501])"
            ]
          },
          "metadata": {},
          "execution_count": 38
        }
      ]
    },
    {
      "cell_type": "markdown",
      "source": [
        "Answer: 4.59494481"
      ],
      "metadata": {
        "id": "oTvuhLFOIeZJ"
      }
    },
    {
      "cell_type": "markdown",
      "source": [
        "**JCD!**"
      ],
      "metadata": {
        "id": "_FTuA63KKmsS"
      }
    }
  ]
}